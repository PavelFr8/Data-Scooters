{
	"cells": [
		{
			"cell_type": "markdown",
			"metadata": {},
			"source": [
				"# Анализ спроса на самокаты"
			]
		},
		{
			"cell_type": "code",
			"execution_count": 2,
			"metadata": {},
			"outputs": [],
			"source": [
				"import pandas as pd\n",
				"import numpy as np\n",
				"import matplotlib.pyplot as plt\n",
				"import seaborn as sns"
			]
		},
		{
			"cell_type": "code",
			"execution_count": 3,
			"metadata": {},
			"outputs": [],
			"source": [
				"import warnings\n",
				"warnings.filterwarnings('ignore')"
			]
		},
		{
			"cell_type": "markdown",
			"metadata": {},
			"source": [
				"## Предобработка данных о погоде"
			]
		},
		{
			"cell_type": "code",
			"execution_count": 23,
			"metadata": {},
			"outputs": [],
			"source": [
				"# Чтение данных и удаление первой строки с единицами измерения\n",
				"df = pd.read_csv('weather.csv', na_values=\"\", parse_dates=['Datetime']).drop(index=0, axis=1)\n",
				"\n",
				"# Названия колонок к PEP8\n",
				"df.columns = df.columns.str.replace(' ', '_').str.lower()\n",
				"\n",
				"# Приведение колонок к float, кроме колонки с датами\n",
				"for col in df.columns[1:]:\n",
				"    df[col] = df[col].astype(float)"
			]
		},
		{
			"cell_type": "markdown",
			"metadata": {},
			"source": [
				"### Проверка на дубликаты"
			]
		},
		{
			"cell_type": "code",
			"execution_count": 24,
			"metadata": {},
			"outputs": [
				{
					"data": {
						"text/plain": [
							"(np.int64(0), np.int64(0))"
						]
					},
					"execution_count": 24,
					"metadata": {},
					"output_type": "execute_result"
				}
			],
			"source": [
				"df.duplicated().sum(), df['datetime'].duplicated().sum()"
			]
		},
		{
			"cell_type": "markdown",
			"metadata": {},
			"source": [
				"### Работа с пропусками"
			]
		},
		{
			"cell_type": "code",
			"execution_count": 25,
			"metadata": {},
			"outputs": [
				{
					"data": {
						"text/plain": [
							"datetime                0\n",
							"temperature            55\n",
							"precipitation_total    30\n",
							"wind_gust               0\n",
							"wind_speed             16\n",
							"cloud_cover_total      20\n",
							"sunshine_duration      12\n",
							"dtype: int64"
						]
					},
					"execution_count": 25,
					"metadata": {},
					"output_type": "execute_result"
				}
			],
			"source": [
				"df.isna().sum() # Проверка наличия пропусков"
			]
		},
		{
			"cell_type": "markdown",
			"metadata": {},
			"source": [
				"Так как мы работаем с временными рядами, в заполнении пропусков может помочь **интерполяция**, которая отталкивается от значений соседних точек."
			]
		},
		{
			"cell_type": "markdown",
			"metadata": {},
			"source": [
				"#### ДО"
			]
		},
		{
			"cell_type": "code",
			"execution_count": 26,
			"metadata": {},
			"outputs": [
				{
					"data": {
						"text/html": [
							"<div>\n",
							"<style scoped>\n",
							"    .dataframe tbody tr th:only-of-type {\n",
							"        vertical-align: middle;\n",
							"    }\n",
							"\n",
							"    .dataframe tbody tr th {\n",
							"        vertical-align: top;\n",
							"    }\n",
							"\n",
							"    .dataframe thead th {\n",
							"        text-align: right;\n",
							"    }\n",
							"</style>\n",
							"<table border=\"1\" class=\"dataframe\">\n",
							"  <thead>\n",
							"    <tr style=\"text-align: right;\">\n",
							"      <th></th>\n",
							"      <th>datetime</th>\n",
							"      <th>temperature</th>\n",
							"      <th>precipitation_total</th>\n",
							"      <th>wind_gust</th>\n",
							"      <th>wind_speed</th>\n",
							"      <th>cloud_cover_total</th>\n",
							"      <th>sunshine_duration</th>\n",
							"    </tr>\n",
							"  </thead>\n",
							"  <tbody>\n",
							"    <tr>\n",
							"      <th>1004</th>\n",
							"      <td>2023-05-12 19:00:00</td>\n",
							"      <td>14.070246</td>\n",
							"      <td>0.1</td>\n",
							"      <td>18.720000</td>\n",
							"      <td>6.130579</td>\n",
							"      <td>28.0</td>\n",
							"      <td>42.074078</td>\n",
							"    </tr>\n",
							"    <tr>\n",
							"      <th>1005</th>\n",
							"      <td>2023-05-12 20:00:00</td>\n",
							"      <td>13.690246</td>\n",
							"      <td>0.0</td>\n",
							"      <td>14.400000</td>\n",
							"      <td>5.506941</td>\n",
							"      <td>26.0</td>\n",
							"      <td>0.000000</td>\n",
							"    </tr>\n",
							"    <tr>\n",
							"      <th>1006</th>\n",
							"      <td>2023-05-12 21:00:00</td>\n",
							"      <td>NaN</td>\n",
							"      <td>0.0</td>\n",
							"      <td>12.959999</td>\n",
							"      <td>6.569383</td>\n",
							"      <td>20.0</td>\n",
							"      <td>0.000000</td>\n",
							"    </tr>\n",
							"    <tr>\n",
							"      <th>1007</th>\n",
							"      <td>2023-05-12 22:00:00</td>\n",
							"      <td>NaN</td>\n",
							"      <td>0.0</td>\n",
							"      <td>14.040000</td>\n",
							"      <td>7.244860</td>\n",
							"      <td>38.0</td>\n",
							"      <td>0.000000</td>\n",
							"    </tr>\n",
							"    <tr>\n",
							"      <th>1008</th>\n",
							"      <td>2023-05-12 23:00:00</td>\n",
							"      <td>NaN</td>\n",
							"      <td>0.0</td>\n",
							"      <td>14.040000</td>\n",
							"      <td>6.618519</td>\n",
							"      <td>38.0</td>\n",
							"      <td>0.000000</td>\n",
							"    </tr>\n",
							"    <tr>\n",
							"      <th>1009</th>\n",
							"      <td>2023-05-13 00:00:00</td>\n",
							"      <td>NaN</td>\n",
							"      <td>0.0</td>\n",
							"      <td>13.679999</td>\n",
							"      <td>7.729527</td>\n",
							"      <td>25.0</td>\n",
							"      <td>0.000000</td>\n",
							"    </tr>\n",
							"    <tr>\n",
							"      <th>1010</th>\n",
							"      <td>2023-05-13 01:00:00</td>\n",
							"      <td>NaN</td>\n",
							"      <td>0.0</td>\n",
							"      <td>12.959999</td>\n",
							"      <td>7.172949</td>\n",
							"      <td>23.7</td>\n",
							"      <td>0.000000</td>\n",
							"    </tr>\n",
							"    <tr>\n",
							"      <th>1011</th>\n",
							"      <td>2023-05-13 02:00:00</td>\n",
							"      <td>NaN</td>\n",
							"      <td>0.0</td>\n",
							"      <td>12.599999</td>\n",
							"      <td>8.557102</td>\n",
							"      <td>23.1</td>\n",
							"      <td>0.000000</td>\n",
							"    </tr>\n",
							"    <tr>\n",
							"      <th>1012</th>\n",
							"      <td>2023-05-13 03:00:00</td>\n",
							"      <td>NaN</td>\n",
							"      <td>0.0</td>\n",
							"      <td>11.159999</td>\n",
							"      <td>6.725354</td>\n",
							"      <td>59.0</td>\n",
							"      <td>0.000000</td>\n",
							"    </tr>\n",
							"    <tr>\n",
							"      <th>1013</th>\n",
							"      <td>2023-05-13 04:00:00</td>\n",
							"      <td>NaN</td>\n",
							"      <td>0.0</td>\n",
							"      <td>10.799999</td>\n",
							"      <td>6.638072</td>\n",
							"      <td>77.0</td>\n",
							"      <td>1.440741</td>\n",
							"    </tr>\n",
							"    <tr>\n",
							"      <th>1014</th>\n",
							"      <td>2023-05-13 05:00:00</td>\n",
							"      <td>11.870245</td>\n",
							"      <td>0.0</td>\n",
							"      <td>11.520000</td>\n",
							"      <td>6.877790</td>\n",
							"      <td>91.0</td>\n",
							"      <td>4.848486</td>\n",
							"    </tr>\n",
							"    <tr>\n",
							"      <th>1015</th>\n",
							"      <td>2023-05-13 06:00:00</td>\n",
							"      <td>12.340245</td>\n",
							"      <td>0.0</td>\n",
							"      <td>15.119999</td>\n",
							"      <td>8.209263</td>\n",
							"      <td>93.0</td>\n",
							"      <td>3.636364</td>\n",
							"    </tr>\n",
							"  </tbody>\n",
							"</table>\n",
							"</div>"
						],
						"text/plain": [
							"                datetime  temperature  precipitation_total  wind_gust  \\\n",
							"1004 2023-05-12 19:00:00    14.070246                  0.1  18.720000   \n",
							"1005 2023-05-12 20:00:00    13.690246                  0.0  14.400000   \n",
							"1006 2023-05-12 21:00:00          NaN                  0.0  12.959999   \n",
							"1007 2023-05-12 22:00:00          NaN                  0.0  14.040000   \n",
							"1008 2023-05-12 23:00:00          NaN                  0.0  14.040000   \n",
							"1009 2023-05-13 00:00:00          NaN                  0.0  13.679999   \n",
							"1010 2023-05-13 01:00:00          NaN                  0.0  12.959999   \n",
							"1011 2023-05-13 02:00:00          NaN                  0.0  12.599999   \n",
							"1012 2023-05-13 03:00:00          NaN                  0.0  11.159999   \n",
							"1013 2023-05-13 04:00:00          NaN                  0.0  10.799999   \n",
							"1014 2023-05-13 05:00:00    11.870245                  0.0  11.520000   \n",
							"1015 2023-05-13 06:00:00    12.340245                  0.0  15.119999   \n",
							"\n",
							"      wind_speed  cloud_cover_total  sunshine_duration  \n",
							"1004    6.130579               28.0          42.074078  \n",
							"1005    5.506941               26.0           0.000000  \n",
							"1006    6.569383               20.0           0.000000  \n",
							"1007    7.244860               38.0           0.000000  \n",
							"1008    6.618519               38.0           0.000000  \n",
							"1009    7.729527               25.0           0.000000  \n",
							"1010    7.172949               23.7           0.000000  \n",
							"1011    8.557102               23.1           0.000000  \n",
							"1012    6.725354               59.0           0.000000  \n",
							"1013    6.638072               77.0           1.440741  \n",
							"1014    6.877790               91.0           4.848486  \n",
							"1015    8.209263               93.0           3.636364  "
						]
					},
					"execution_count": 26,
					"metadata": {},
					"output_type": "execute_result"
				}
			],
			"source": [
				"df.iloc[1003:1015]"
			]
		},
		{
			"cell_type": "markdown",
			"metadata": {},
			"source": [
				"#### ПОСЛЕ"
			]
		},
		{
			"cell_type": "code",
			"execution_count": 27,
			"metadata": {},
			"outputs": [
				{
					"data": {
						"text/html": [
							"<div>\n",
							"<style scoped>\n",
							"    .dataframe tbody tr th:only-of-type {\n",
							"        vertical-align: middle;\n",
							"    }\n",
							"\n",
							"    .dataframe tbody tr th {\n",
							"        vertical-align: top;\n",
							"    }\n",
							"\n",
							"    .dataframe thead th {\n",
							"        text-align: right;\n",
							"    }\n",
							"</style>\n",
							"<table border=\"1\" class=\"dataframe\">\n",
							"  <thead>\n",
							"    <tr style=\"text-align: right;\">\n",
							"      <th></th>\n",
							"      <th>datetime</th>\n",
							"      <th>temperature</th>\n",
							"      <th>precipitation_total</th>\n",
							"      <th>wind_gust</th>\n",
							"      <th>wind_speed</th>\n",
							"      <th>cloud_cover_total</th>\n",
							"      <th>sunshine_duration</th>\n",
							"    </tr>\n",
							"  </thead>\n",
							"  <tbody>\n",
							"    <tr>\n",
							"      <th>1004</th>\n",
							"      <td>2023-05-12 19:00:00</td>\n",
							"      <td>14.070246</td>\n",
							"      <td>0.1</td>\n",
							"      <td>18.720000</td>\n",
							"      <td>6.130579</td>\n",
							"      <td>28.0</td>\n",
							"      <td>42.074078</td>\n",
							"    </tr>\n",
							"    <tr>\n",
							"      <th>1005</th>\n",
							"      <td>2023-05-12 20:00:00</td>\n",
							"      <td>13.690246</td>\n",
							"      <td>0.0</td>\n",
							"      <td>14.400000</td>\n",
							"      <td>5.506941</td>\n",
							"      <td>26.0</td>\n",
							"      <td>0.000000</td>\n",
							"    </tr>\n",
							"    <tr>\n",
							"      <th>1006</th>\n",
							"      <td>2023-05-12 21:00:00</td>\n",
							"      <td>13.488024</td>\n",
							"      <td>0.0</td>\n",
							"      <td>12.959999</td>\n",
							"      <td>6.569383</td>\n",
							"      <td>20.0</td>\n",
							"      <td>0.000000</td>\n",
							"    </tr>\n",
							"    <tr>\n",
							"      <th>1007</th>\n",
							"      <td>2023-05-12 22:00:00</td>\n",
							"      <td>13.285801</td>\n",
							"      <td>0.0</td>\n",
							"      <td>14.040000</td>\n",
							"      <td>7.244860</td>\n",
							"      <td>38.0</td>\n",
							"      <td>0.000000</td>\n",
							"    </tr>\n",
							"    <tr>\n",
							"      <th>1008</th>\n",
							"      <td>2023-05-12 23:00:00</td>\n",
							"      <td>13.083579</td>\n",
							"      <td>0.0</td>\n",
							"      <td>14.040000</td>\n",
							"      <td>6.618519</td>\n",
							"      <td>38.0</td>\n",
							"      <td>0.000000</td>\n",
							"    </tr>\n",
							"    <tr>\n",
							"      <th>1009</th>\n",
							"      <td>2023-05-13 00:00:00</td>\n",
							"      <td>12.881357</td>\n",
							"      <td>0.0</td>\n",
							"      <td>13.679999</td>\n",
							"      <td>7.729527</td>\n",
							"      <td>25.0</td>\n",
							"      <td>0.000000</td>\n",
							"    </tr>\n",
							"    <tr>\n",
							"      <th>1010</th>\n",
							"      <td>2023-05-13 01:00:00</td>\n",
							"      <td>12.679134</td>\n",
							"      <td>0.0</td>\n",
							"      <td>12.959999</td>\n",
							"      <td>7.172949</td>\n",
							"      <td>23.7</td>\n",
							"      <td>0.000000</td>\n",
							"    </tr>\n",
							"    <tr>\n",
							"      <th>1011</th>\n",
							"      <td>2023-05-13 02:00:00</td>\n",
							"      <td>12.476912</td>\n",
							"      <td>0.0</td>\n",
							"      <td>12.599999</td>\n",
							"      <td>8.557102</td>\n",
							"      <td>23.1</td>\n",
							"      <td>0.000000</td>\n",
							"    </tr>\n",
							"    <tr>\n",
							"      <th>1012</th>\n",
							"      <td>2023-05-13 03:00:00</td>\n",
							"      <td>12.274690</td>\n",
							"      <td>0.0</td>\n",
							"      <td>11.159999</td>\n",
							"      <td>6.725354</td>\n",
							"      <td>59.0</td>\n",
							"      <td>0.000000</td>\n",
							"    </tr>\n",
							"    <tr>\n",
							"      <th>1013</th>\n",
							"      <td>2023-05-13 04:00:00</td>\n",
							"      <td>12.072467</td>\n",
							"      <td>0.0</td>\n",
							"      <td>10.799999</td>\n",
							"      <td>6.638072</td>\n",
							"      <td>77.0</td>\n",
							"      <td>1.440741</td>\n",
							"    </tr>\n",
							"    <tr>\n",
							"      <th>1014</th>\n",
							"      <td>2023-05-13 05:00:00</td>\n",
							"      <td>11.870245</td>\n",
							"      <td>0.0</td>\n",
							"      <td>11.520000</td>\n",
							"      <td>6.877790</td>\n",
							"      <td>91.0</td>\n",
							"      <td>4.848486</td>\n",
							"    </tr>\n",
							"    <tr>\n",
							"      <th>1015</th>\n",
							"      <td>2023-05-13 06:00:00</td>\n",
							"      <td>12.340245</td>\n",
							"      <td>0.0</td>\n",
							"      <td>15.119999</td>\n",
							"      <td>8.209263</td>\n",
							"      <td>93.0</td>\n",
							"      <td>3.636364</td>\n",
							"    </tr>\n",
							"  </tbody>\n",
							"</table>\n",
							"</div>"
						],
						"text/plain": [
							"                datetime  temperature  precipitation_total  wind_gust  \\\n",
							"1004 2023-05-12 19:00:00    14.070246                  0.1  18.720000   \n",
							"1005 2023-05-12 20:00:00    13.690246                  0.0  14.400000   \n",
							"1006 2023-05-12 21:00:00    13.488024                  0.0  12.959999   \n",
							"1007 2023-05-12 22:00:00    13.285801                  0.0  14.040000   \n",
							"1008 2023-05-12 23:00:00    13.083579                  0.0  14.040000   \n",
							"1009 2023-05-13 00:00:00    12.881357                  0.0  13.679999   \n",
							"1010 2023-05-13 01:00:00    12.679134                  0.0  12.959999   \n",
							"1011 2023-05-13 02:00:00    12.476912                  0.0  12.599999   \n",
							"1012 2023-05-13 03:00:00    12.274690                  0.0  11.159999   \n",
							"1013 2023-05-13 04:00:00    12.072467                  0.0  10.799999   \n",
							"1014 2023-05-13 05:00:00    11.870245                  0.0  11.520000   \n",
							"1015 2023-05-13 06:00:00    12.340245                  0.0  15.119999   \n",
							"\n",
							"      wind_speed  cloud_cover_total  sunshine_duration  \n",
							"1004    6.130579               28.0          42.074078  \n",
							"1005    5.506941               26.0           0.000000  \n",
							"1006    6.569383               20.0           0.000000  \n",
							"1007    7.244860               38.0           0.000000  \n",
							"1008    6.618519               38.0           0.000000  \n",
							"1009    7.729527               25.0           0.000000  \n",
							"1010    7.172949               23.7           0.000000  \n",
							"1011    8.557102               23.1           0.000000  \n",
							"1012    6.725354               59.0           0.000000  \n",
							"1013    6.638072               77.0           1.440741  \n",
							"1014    6.877790               91.0           4.848486  \n",
							"1015    8.209263               93.0           3.636364  "
						]
					},
					"execution_count": 27,
					"metadata": {},
					"output_type": "execute_result"
				}
			],
			"source": [
				"for col in df.columns[1:]:\n",
				"    df[col] = df[col].interpolate()\n",
				"    \n",
				"df.iloc[1003:1015]"
			]
		},
		{
			"cell_type": "markdown",
			"metadata": {},
			"source": [
				"### Работа со значениями"
			]
		},
		{
			"cell_type": "code",
			"execution_count": 28,
			"metadata": {},
			"outputs": [
				{
					"data": {
						"text/html": [
							"<div>\n",
							"<style scoped>\n",
							"    .dataframe tbody tr th:only-of-type {\n",
							"        vertical-align: middle;\n",
							"    }\n",
							"\n",
							"    .dataframe tbody tr th {\n",
							"        vertical-align: top;\n",
							"    }\n",
							"\n",
							"    .dataframe thead th {\n",
							"        text-align: right;\n",
							"    }\n",
							"</style>\n",
							"<table border=\"1\" class=\"dataframe\">\n",
							"  <thead>\n",
							"    <tr style=\"text-align: right;\">\n",
							"      <th></th>\n",
							"      <th>datetime</th>\n",
							"      <th>temperature</th>\n",
							"      <th>precipitation_total</th>\n",
							"      <th>wind_gust</th>\n",
							"      <th>wind_speed</th>\n",
							"      <th>cloud_cover_total</th>\n",
							"      <th>sunshine_duration</th>\n",
							"    </tr>\n",
							"  </thead>\n",
							"  <tbody>\n",
							"    <tr>\n",
							"      <th>1235</th>\n",
							"      <td>2023-05-22 10:00:00</td>\n",
							"      <td>23</td>\n",
							"      <td>0.0</td>\n",
							"      <td>4.6</td>\n",
							"      <td>0.9</td>\n",
							"      <td>8</td>\n",
							"      <td>55</td>\n",
							"    </tr>\n",
							"    <tr>\n",
							"      <th>1236</th>\n",
							"      <td>2023-05-22 11:00:00</td>\n",
							"      <td>24</td>\n",
							"      <td>0.0</td>\n",
							"      <td>5.1</td>\n",
							"      <td>1.1</td>\n",
							"      <td>4</td>\n",
							"      <td>58</td>\n",
							"    </tr>\n",
							"    <tr>\n",
							"      <th>1237</th>\n",
							"      <td>2023-05-22 12:00:00</td>\n",
							"      <td>25</td>\n",
							"      <td>0.0</td>\n",
							"      <td>5.0</td>\n",
							"      <td>1.4</td>\n",
							"      <td>4</td>\n",
							"      <td>58</td>\n",
							"    </tr>\n",
							"    <tr>\n",
							"      <th>1238</th>\n",
							"      <td>2023-05-22 13:00:00</td>\n",
							"      <td>25</td>\n",
							"      <td>0.1</td>\n",
							"      <td>5.0</td>\n",
							"      <td>1.9</td>\n",
							"      <td>9</td>\n",
							"      <td>55</td>\n",
							"    </tr>\n",
							"    <tr>\n",
							"      <th>1239</th>\n",
							"      <td>2023-05-22 14:00:00</td>\n",
							"      <td>26</td>\n",
							"      <td>0.6</td>\n",
							"      <td>6.0</td>\n",
							"      <td>1.0</td>\n",
							"      <td>18</td>\n",
							"      <td>49</td>\n",
							"    </tr>\n",
							"    <tr>\n",
							"      <th>1240</th>\n",
							"      <td>2023-05-22 15:00:00</td>\n",
							"      <td>25</td>\n",
							"      <td>0.5</td>\n",
							"      <td>6.4</td>\n",
							"      <td>1.1</td>\n",
							"      <td>19</td>\n",
							"      <td>48</td>\n",
							"    </tr>\n",
							"  </tbody>\n",
							"</table>\n",
							"</div>"
						],
						"text/plain": [
							"                datetime  temperature  precipitation_total  wind_gust  \\\n",
							"1235 2023-05-22 10:00:00           23                  0.0        4.6   \n",
							"1236 2023-05-22 11:00:00           24                  0.0        5.1   \n",
							"1237 2023-05-22 12:00:00           25                  0.0        5.0   \n",
							"1238 2023-05-22 13:00:00           25                  0.1        5.0   \n",
							"1239 2023-05-22 14:00:00           26                  0.6        6.0   \n",
							"1240 2023-05-22 15:00:00           25                  0.5        6.4   \n",
							"\n",
							"      wind_speed  cloud_cover_total  sunshine_duration  \n",
							"1235         0.9                  8                 55  \n",
							"1236         1.1                  4                 58  \n",
							"1237         1.4                  4                 58  \n",
							"1238         1.9                  9                 55  \n",
							"1239         1.0                 18                 49  \n",
							"1240         1.1                 19                 48  "
						]
					},
					"execution_count": 28,
					"metadata": {},
					"output_type": "execute_result"
				}
			],
			"source": [
				"# Перевод порыва и скорости ветра в м/с и округление до 1 знака после запятой\n",
				"df[['wind_gust', 'wind_speed']] = (df[['wind_gust', 'wind_speed']] / 3.6).round(1)\n",
				"\n",
				"# Округление продолжительности солнечного сияния, температуры и облачности до целого\n",
				"df[['sunshine_duration', 'temperature', 'cloud_cover_total']] = df[['sunshine_duration', 'temperature', 'cloud_cover_total']].round().astype(int)\n",
				"\n",
				"df.iloc[1234:1240]"
			]
		},
		{
			"cell_type": "markdown",
			"metadata": {},
			"source": [
				"### Проверка на выбросы"
			]
		},
		{
			"cell_type": "code",
			"execution_count": 29,
			"metadata": {},
			"outputs": [
				{
					"data": {
						"text/html": [
							"<div>\n",
							"<style scoped>\n",
							"    .dataframe tbody tr th:only-of-type {\n",
							"        vertical-align: middle;\n",
							"    }\n",
							"\n",
							"    .dataframe tbody tr th {\n",
							"        vertical-align: top;\n",
							"    }\n",
							"\n",
							"    .dataframe thead th {\n",
							"        text-align: right;\n",
							"    }\n",
							"</style>\n",
							"<table border=\"1\" class=\"dataframe\">\n",
							"  <thead>\n",
							"    <tr style=\"text-align: right;\">\n",
							"      <th></th>\n",
							"      <th>datetime</th>\n",
							"      <th>temperature</th>\n",
							"      <th>precipitation_total</th>\n",
							"      <th>wind_gust</th>\n",
							"      <th>wind_speed</th>\n",
							"      <th>cloud_cover_total</th>\n",
							"      <th>sunshine_duration</th>\n",
							"    </tr>\n",
							"  </thead>\n",
							"  <tbody>\n",
							"    <tr>\n",
							"      <th>count</th>\n",
							"      <td>3672</td>\n",
							"      <td>3672.000000</td>\n",
							"      <td>3672.000000</td>\n",
							"      <td>3672.000000</td>\n",
							"      <td>3672.000000</td>\n",
							"      <td>3672.000000</td>\n",
							"      <td>3672.000000</td>\n",
							"    </tr>\n",
							"    <tr>\n",
							"      <th>mean</th>\n",
							"      <td>2023-06-16 11:30:00.000000256</td>\n",
							"      <td>18.087691</td>\n",
							"      <td>0.100218</td>\n",
							"      <td>5.801825</td>\n",
							"      <td>2.039434</td>\n",
							"      <td>40.980664</td>\n",
							"      <td>21.543573</td>\n",
							"    </tr>\n",
							"    <tr>\n",
							"      <th>min</th>\n",
							"      <td>2023-04-01 00:00:00</td>\n",
							"      <td>-2.000000</td>\n",
							"      <td>0.000000</td>\n",
							"      <td>0.800000</td>\n",
							"      <td>0.000000</td>\n",
							"      <td>0.000000</td>\n",
							"      <td>0.000000</td>\n",
							"    </tr>\n",
							"    <tr>\n",
							"      <th>25%</th>\n",
							"      <td>2023-05-09 05:45:00</td>\n",
							"      <td>13.000000</td>\n",
							"      <td>0.000000</td>\n",
							"      <td>3.700000</td>\n",
							"      <td>1.200000</td>\n",
							"      <td>15.000000</td>\n",
							"      <td>0.000000</td>\n",
							"    </tr>\n",
							"    <tr>\n",
							"      <th>50%</th>\n",
							"      <td>2023-06-16 11:30:00</td>\n",
							"      <td>18.000000</td>\n",
							"      <td>0.000000</td>\n",
							"      <td>5.100000</td>\n",
							"      <td>1.700000</td>\n",
							"      <td>32.000000</td>\n",
							"      <td>15.000000</td>\n",
							"    </tr>\n",
							"    <tr>\n",
							"      <th>75%</th>\n",
							"      <td>2023-07-24 17:15:00</td>\n",
							"      <td>23.000000</td>\n",
							"      <td>0.000000</td>\n",
							"      <td>7.300000</td>\n",
							"      <td>2.600000</td>\n",
							"      <td>67.000000</td>\n",
							"      <td>43.000000</td>\n",
							"    </tr>\n",
							"    <tr>\n",
							"      <th>max</th>\n",
							"      <td>2023-08-31 23:00:00</td>\n",
							"      <td>36.000000</td>\n",
							"      <td>5.800000</td>\n",
							"      <td>19.800000</td>\n",
							"      <td>8.300000</td>\n",
							"      <td>100.000000</td>\n",
							"      <td>60.000000</td>\n",
							"    </tr>\n",
							"    <tr>\n",
							"      <th>std</th>\n",
							"      <td>NaN</td>\n",
							"      <td>6.838842</td>\n",
							"      <td>0.342384</td>\n",
							"      <td>2.899036</td>\n",
							"      <td>1.184241</td>\n",
							"      <td>31.313242</td>\n",
							"      <td>21.890226</td>\n",
							"    </tr>\n",
							"  </tbody>\n",
							"</table>\n",
							"</div>"
						],
						"text/plain": [
							"                            datetime  temperature  precipitation_total  \\\n",
							"count                           3672  3672.000000          3672.000000   \n",
							"mean   2023-06-16 11:30:00.000000256    18.087691             0.100218   \n",
							"min              2023-04-01 00:00:00    -2.000000             0.000000   \n",
							"25%              2023-05-09 05:45:00    13.000000             0.000000   \n",
							"50%              2023-06-16 11:30:00    18.000000             0.000000   \n",
							"75%              2023-07-24 17:15:00    23.000000             0.000000   \n",
							"max              2023-08-31 23:00:00    36.000000             5.800000   \n",
							"std                              NaN     6.838842             0.342384   \n",
							"\n",
							"         wind_gust   wind_speed  cloud_cover_total  sunshine_duration  \n",
							"count  3672.000000  3672.000000        3672.000000        3672.000000  \n",
							"mean      5.801825     2.039434          40.980664          21.543573  \n",
							"min       0.800000     0.000000           0.000000           0.000000  \n",
							"25%       3.700000     1.200000          15.000000           0.000000  \n",
							"50%       5.100000     1.700000          32.000000          15.000000  \n",
							"75%       7.300000     2.600000          67.000000          43.000000  \n",
							"max      19.800000     8.300000         100.000000          60.000000  \n",
							"std       2.899036     1.184241          31.313242          21.890226  "
						]
					},
					"execution_count": 29,
					"metadata": {},
					"output_type": "execute_result"
				}
			],
			"source": [
				"df.describe()"
			]
		},
		{
			"cell_type": "markdown",
			"metadata": {},
			"source": [
				"Все значения находятся в норме, выбросов не наблюдается"
			]
		},
		{
			"cell_type": "markdown",
			"metadata": {},
			"source": [
				"### Выгрузка новой таблицы"
			]
		},
		{
			"cell_type": "code",
			"execution_count": 30,
			"metadata": {},
			"outputs": [],
			"source": [
				"new_units_of_measure = [\"\", \"°C\", \"mm\", \"m/s\", \"m/s\", \"%\", \"min\"] # Скорости теперь в м / с\n",
				"\n",
				"first_row = pd.DataFrame([new_units_of_measure], columns=df.columns, index=[0]) \n",
				"df = pd.concat([first_row, df], ignore_index=True) # Добавление в начало таблицы\n",
				"\n",
				"\n",
				"df.to_csv('processed_weather.csv', index=False)"
			]
		},
		{
			"cell_type": "markdown",
			"metadata": {},
			"source": [
				"## Предобработка данных о поездках"
			]
		},
		{
			"cell_type": "code",
			"execution_count": 130,
			"metadata": {},
			"outputs": [],
			"source": [
				"# Чтение данных и удаление первой строки с единицами измерения\n",
				"df = pd.read_csv('rides.csv', na_values=\"\", parse_dates=['Start Date', 'End Date'])\n",
				"\n",
				"# Названия колонок к PEP8\n",
				"df.columns = df.columns.str.replace(' ', '_').str.lower()\n",
				"    \n",
				"# Приводим значения направлений движения к единому формату\n",
				"df['end_district'] = df['end_district'].str.lower().str.strip().str.replace(\" \", '-')\n",
				"df['start_district'] = df['start_district'].str.lower().str.strip().str.replace(\" \", '-')\n",
				"\n",
				"# Приводим значения начальных и конечных точек к единому формату\n",
				"df['start_location'] = df['start_location'].str.lower().str.strip().str.replace(\".\", ' ').str.replace(\"  \", ' ')\n",
				"df['start_location'] = df['start_location'].str.replace('ул ', '')\n",
				"\n",
				"df['end_location'] = df['end_location'].str.lower().str.strip().str.replace(\".\", ' ').str.replace(\"  \", ' ')\n",
				"df['end_location'] = df['end_location'].str.replace('ул ', '')"
			]
		},
		{
			"cell_type": "markdown",
			"metadata": {},
			"source": [
				"### Проверка на дубликаты"
			]
		},
		{
			"cell_type": "code",
			"execution_count": 131,
			"metadata": {},
			"outputs": [
				{
					"data": {
						"text/plain": [
							"np.int64(4883)"
						]
					},
					"execution_count": 131,
					"metadata": {},
					"output_type": "execute_result"
				}
			],
			"source": [
				"df.duplicated().sum()"
			]
		},
		{
			"cell_type": "markdown",
			"metadata": {},
			"source": [
				"Данные, представленные в таблице rides.csv не должны дублироваться, поэтому удаляем дубликаты"
			]
		},
		{
			"cell_type": "code",
			"execution_count": 132,
			"metadata": {},
			"outputs": [],
			"source": [
				"df = df.drop_duplicates()"
			]
		},
		{
			"cell_type": "markdown",
			"metadata": {},
			"source": [
				"### Работа с пропусками"
			]
		},
		{
			"cell_type": "code",
			"execution_count": 133,
			"metadata": {},
			"outputs": [
				{
					"data": {
						"text/plain": [
							"id                   0\n",
							"start_date           0\n",
							"end_date           555\n",
							"start_location       0\n",
							"start_district       0\n",
							"end_location         0\n",
							"end_district         0\n",
							"distance          1181\n",
							"promo                0\n",
							"dtype: int64"
						]
					},
					"execution_count": 133,
					"metadata": {},
					"output_type": "execute_result"
				}
			],
			"source": [
				"df.isna().sum() # Проверка наличия пропусков"
			]
		},
		{
			"cell_type": "markdown",
			"metadata": {},
			"source": [
				"Наблюдаются пропуски с дате окончания поездки и дистанции поездки.\n",
				"\n",
				"* Пропуски в end_date будем заполнять на основании пройденной дистанции\n",
				"\n",
				"* Пропуски в distance будем заполнять на основании времени поездки"
			]
		},
		{
			"cell_type": "markdown",
			"metadata": {},
			"source": [
				"#### Работа с пропусками в end_date"
			]
		},
		{
			"cell_type": "markdown",
			"metadata": {},
			"source": [
				"Рассчитывать время конца поездки будем на основании медианы средней скорости во время пути и дистанции поездки.\n",
				"\n",
				"Формула: Конец_поездки = начало_поездки + (дистанция / медиана_средней_скорости)"
			]
		},
		{
			"cell_type": "markdown",
			"metadata": {},
			"source": [
				"##### ДО"
			]
		},
		{
			"cell_type": "code",
			"execution_count": 134,
			"metadata": {},
			"outputs": [
				{
					"data": {
						"text/html": [
							"<div>\n",
							"<style scoped>\n",
							"    .dataframe tbody tr th:only-of-type {\n",
							"        vertical-align: middle;\n",
							"    }\n",
							"\n",
							"    .dataframe tbody tr th {\n",
							"        vertical-align: top;\n",
							"    }\n",
							"\n",
							"    .dataframe thead th {\n",
							"        text-align: right;\n",
							"    }\n",
							"</style>\n",
							"<table border=\"1\" class=\"dataframe\">\n",
							"  <thead>\n",
							"    <tr style=\"text-align: right;\">\n",
							"      <th></th>\n",
							"      <th>id</th>\n",
							"      <th>start_date</th>\n",
							"      <th>end_date</th>\n",
							"      <th>start_location</th>\n",
							"      <th>start_district</th>\n",
							"      <th>end_location</th>\n",
							"      <th>end_district</th>\n",
							"      <th>distance</th>\n",
							"      <th>promo</th>\n",
							"    </tr>\n",
							"  </thead>\n",
							"  <tbody>\n",
							"    <tr>\n",
							"      <th>1071</th>\n",
							"      <td>101355</td>\n",
							"      <td>2023-04-23 06:19:33</td>\n",
							"      <td>2023-04-23 06:36:02</td>\n",
							"      <td>береговая</td>\n",
							"      <td>центральный</td>\n",
							"      <td>энтузиастов</td>\n",
							"      <td>центральный</td>\n",
							"      <td>2822.00</td>\n",
							"      <td>0</td>\n",
							"    </tr>\n",
							"    <tr>\n",
							"      <th>1072</th>\n",
							"      <td>101356</td>\n",
							"      <td>2023-04-23 06:40:06</td>\n",
							"      <td>2023-04-23 07:29:19</td>\n",
							"      <td>озерная</td>\n",
							"      <td>юго-восточный</td>\n",
							"      <td>заречная</td>\n",
							"      <td>юго-восточный</td>\n",
							"      <td>4980.00</td>\n",
							"      <td>0</td>\n",
							"    </tr>\n",
							"    <tr>\n",
							"      <th>1073</th>\n",
							"      <td>101357</td>\n",
							"      <td>2023-04-23 06:58:57</td>\n",
							"      <td>2023-04-23 07:18:38</td>\n",
							"      <td>школьная</td>\n",
							"      <td>северо-западный</td>\n",
							"      <td>парковая</td>\n",
							"      <td>юго-восточный</td>\n",
							"      <td>4111.00</td>\n",
							"      <td>0</td>\n",
							"    </tr>\n",
							"  </tbody>\n",
							"</table>\n",
							"</div>"
						],
						"text/plain": [
							"          id          start_date            end_date start_location  \\\n",
							"1071  101355 2023-04-23 06:19:33 2023-04-23 06:36:02      береговая   \n",
							"1072  101356 2023-04-23 06:40:06 2023-04-23 07:29:19        озерная   \n",
							"1073  101357 2023-04-23 06:58:57 2023-04-23 07:18:38       школьная   \n",
							"\n",
							"       start_district end_location   end_district  distance  promo  \n",
							"1071      центральный  энтузиастов    центральный   2822.00      0  \n",
							"1072    юго-восточный     заречная  юго-восточный   4980.00      0  \n",
							"1073  северо-западный     парковая  юго-восточный   4111.00      0  "
						]
					},
					"execution_count": 134,
					"metadata": {},
					"output_type": "execute_result"
				}
			],
			"source": [
				"df.iloc[1015:1018]"
			]
		},
		{
			"cell_type": "markdown",
			"metadata": {},
			"source": [
				"##### ПОСЛЕ"
			]
		},
		{
			"cell_type": "code",
			"execution_count": 135,
			"metadata": {},
			"outputs": [
				{
					"data": {
						"text/html": [
							"<div>\n",
							"<style scoped>\n",
							"    .dataframe tbody tr th:only-of-type {\n",
							"        vertical-align: middle;\n",
							"    }\n",
							"\n",
							"    .dataframe tbody tr th {\n",
							"        vertical-align: top;\n",
							"    }\n",
							"\n",
							"    .dataframe thead th {\n",
							"        text-align: right;\n",
							"    }\n",
							"</style>\n",
							"<table border=\"1\" class=\"dataframe\">\n",
							"  <thead>\n",
							"    <tr style=\"text-align: right;\">\n",
							"      <th></th>\n",
							"      <th>id</th>\n",
							"      <th>start_date</th>\n",
							"      <th>end_date</th>\n",
							"      <th>start_location</th>\n",
							"      <th>start_district</th>\n",
							"      <th>end_location</th>\n",
							"      <th>end_district</th>\n",
							"      <th>distance</th>\n",
							"      <th>promo</th>\n",
							"      <th>ride_duration</th>\n",
							"      <th>average_speed</th>\n",
							"    </tr>\n",
							"  </thead>\n",
							"  <tbody>\n",
							"    <tr>\n",
							"      <th>1071</th>\n",
							"      <td>101355</td>\n",
							"      <td>2023-04-23 06:19:33</td>\n",
							"      <td>2023-04-23 06:36:02</td>\n",
							"      <td>береговая</td>\n",
							"      <td>центральный</td>\n",
							"      <td>энтузиастов</td>\n",
							"      <td>центральный</td>\n",
							"      <td>2822.00</td>\n",
							"      <td>0</td>\n",
							"      <td>16.48</td>\n",
							"      <td>10.27</td>\n",
							"    </tr>\n",
							"    <tr>\n",
							"      <th>1072</th>\n",
							"      <td>101356</td>\n",
							"      <td>2023-04-23 06:40:06</td>\n",
							"      <td>2023-04-23 07:29:19</td>\n",
							"      <td>озерная</td>\n",
							"      <td>юго-восточный</td>\n",
							"      <td>заречная</td>\n",
							"      <td>юго-восточный</td>\n",
							"      <td>4980.00</td>\n",
							"      <td>0</td>\n",
							"      <td>49.22</td>\n",
							"      <td>6.07</td>\n",
							"    </tr>\n",
							"    <tr>\n",
							"      <th>1073</th>\n",
							"      <td>101357</td>\n",
							"      <td>2023-04-23 06:58:57</td>\n",
							"      <td>2023-04-23 07:18:38</td>\n",
							"      <td>школьная</td>\n",
							"      <td>северо-западный</td>\n",
							"      <td>парковая</td>\n",
							"      <td>юго-восточный</td>\n",
							"      <td>4111.00</td>\n",
							"      <td>0</td>\n",
							"      <td>19.68</td>\n",
							"      <td>12.53</td>\n",
							"    </tr>\n",
							"  </tbody>\n",
							"</table>\n",
							"</div>"
						],
						"text/plain": [
							"          id          start_date            end_date start_location  \\\n",
							"1071  101355 2023-04-23 06:19:33 2023-04-23 06:36:02      береговая   \n",
							"1072  101356 2023-04-23 06:40:06 2023-04-23 07:29:19        озерная   \n",
							"1073  101357 2023-04-23 06:58:57 2023-04-23 07:18:38       школьная   \n",
							"\n",
							"       start_district end_location   end_district  distance  promo  \\\n",
							"1071      центральный  энтузиастов    центральный   2822.00      0   \n",
							"1072    юго-восточный     заречная  юго-восточный   4980.00      0   \n",
							"1073  северо-западный     парковая  юго-восточный   4111.00      0   \n",
							"\n",
							"      ride_duration  average_speed  \n",
							"1071          16.48          10.27  \n",
							"1072          49.22           6.07  \n",
							"1073          19.68          12.53  "
						]
					},
					"execution_count": 135,
					"metadata": {},
					"output_type": "execute_result"
				}
			],
			"source": [
				"# Создаем колонну ride_duration, которая содержит длительность поездки в минутах\n",
				"df['ride_duration'] = df.apply(lambda row: (row.end_date - row.start_date).seconds / 60, axis = 1)\n",
				"\n",
				"# Создаем колонку average_speed, которая хранит среднюю скорость на протяжении всего пути в км/ч\n",
				"df['average_speed'] = df.apply(lambda row: (row.distance / 1000) / (row.ride_duration / 60), axis=1)\n",
				"\n",
				"median_average_speed = df['average_speed'].median()\n",
				"\n",
				"# Заполнение пустых значений в столбце 'end_date'\n",
				"df['end_date'] = df['end_date'].fillna(\n",
				"    df['start_date'] + pd.to_timedelta((df['distance'] / 1000) / median_average_speed, unit='h')\n",
				")\n",
				"\n",
				"df.iloc[1015:1018]"
			]
		},
		{
			"cell_type": "markdown",
			"metadata": {},
			"source": [
				"#### Работа с пропусками в distance"
			]
		},
		{
			"cell_type": "markdown",
			"metadata": {},
			"source": [
				"Рассчитывать дистанцию поездки будем на основании медианы средней скорости во время пути и длительности поездки.\n",
				"\n",
				"Формула: Дистанция = медиана_средней_скорости * время_поездки"
			]
		},
		{
			"cell_type": "markdown",
			"metadata": {},
			"source": [
				"##### ДО"
			]
		},
		{
			"cell_type": "code",
			"execution_count": 136,
			"metadata": {},
			"outputs": [
				{
					"data": {
						"text/html": [
							"<div>\n",
							"<style scoped>\n",
							"    .dataframe tbody tr th:only-of-type {\n",
							"        vertical-align: middle;\n",
							"    }\n",
							"\n",
							"    .dataframe tbody tr th {\n",
							"        vertical-align: top;\n",
							"    }\n",
							"\n",
							"    .dataframe thead th {\n",
							"        text-align: right;\n",
							"    }\n",
							"</style>\n",
							"<table border=\"1\" class=\"dataframe\">\n",
							"  <thead>\n",
							"    <tr style=\"text-align: right;\">\n",
							"      <th></th>\n",
							"      <th>id</th>\n",
							"      <th>start_date</th>\n",
							"      <th>end_date</th>\n",
							"      <th>start_location</th>\n",
							"      <th>start_district</th>\n",
							"      <th>end_location</th>\n",
							"      <th>end_district</th>\n",
							"      <th>distance</th>\n",
							"      <th>promo</th>\n",
							"      <th>ride_duration</th>\n",
							"      <th>average_speed</th>\n",
							"    </tr>\n",
							"  </thead>\n",
							"  <tbody>\n",
							"    <tr>\n",
							"      <th>1095</th>\n",
							"      <td>101377</td>\n",
							"      <td>2023-04-23 07:48:45</td>\n",
							"      <td>2023-04-23 08:18:40</td>\n",
							"      <td>молодежная</td>\n",
							"      <td>юго-восточный</td>\n",
							"      <td>буденного</td>\n",
							"      <td>октябрьский</td>\n",
							"      <td>4.00</td>\n",
							"      <td>0</td>\n",
							"      <td>29.92</td>\n",
							"      <td>0.01</td>\n",
							"    </tr>\n",
							"    <tr>\n",
							"      <th>1096</th>\n",
							"      <td>101378</td>\n",
							"      <td>2023-04-23 07:48:47</td>\n",
							"      <td>2023-04-23 08:17:30</td>\n",
							"      <td>комсомольская</td>\n",
							"      <td>заречный</td>\n",
							"      <td>красноармейская</td>\n",
							"      <td>юго-восточный</td>\n",
							"      <td>4234.00</td>\n",
							"      <td>0</td>\n",
							"      <td>28.72</td>\n",
							"      <td>8.85</td>\n",
							"    </tr>\n",
							"    <tr>\n",
							"      <th>1098</th>\n",
							"      <td>101379</td>\n",
							"      <td>2023-04-23 07:49:46</td>\n",
							"      <td>2023-04-23 08:07:27</td>\n",
							"      <td>космонавтов</td>\n",
							"      <td>юго-восточный</td>\n",
							"      <td>парковая</td>\n",
							"      <td>юго-восточный</td>\n",
							"      <td>2943.00</td>\n",
							"      <td>0</td>\n",
							"      <td>17.68</td>\n",
							"      <td>9.99</td>\n",
							"    </tr>\n",
							"  </tbody>\n",
							"</table>\n",
							"</div>"
						],
						"text/plain": [
							"          id          start_date            end_date start_location  \\\n",
							"1095  101377 2023-04-23 07:48:45 2023-04-23 08:18:40     молодежная   \n",
							"1096  101378 2023-04-23 07:48:47 2023-04-23 08:17:30  комсомольская   \n",
							"1098  101379 2023-04-23 07:49:46 2023-04-23 08:07:27    космонавтов   \n",
							"\n",
							"     start_district     end_location   end_district  distance  promo  \\\n",
							"1095  юго-восточный        буденного    октябрьский      4.00      0   \n",
							"1096       заречный  красноармейская  юго-восточный   4234.00      0   \n",
							"1098  юго-восточный         парковая  юго-восточный   2943.00      0   \n",
							"\n",
							"      ride_duration  average_speed  \n",
							"1095          29.92           0.01  \n",
							"1096          28.72           8.85  \n",
							"1098          17.68           9.99  "
						]
					},
					"execution_count": 136,
					"metadata": {},
					"output_type": "execute_result"
				}
			],
			"source": [
				"df.iloc[1037:1040]"
			]
		},
		{
			"cell_type": "markdown",
			"metadata": {},
			"source": [
				"##### ПОСЛЕ"
			]
		},
		{
			"cell_type": "code",
			"execution_count": 137,
			"metadata": {},
			"outputs": [
				{
					"data": {
						"text/html": [
							"<div>\n",
							"<style scoped>\n",
							"    .dataframe tbody tr th:only-of-type {\n",
							"        vertical-align: middle;\n",
							"    }\n",
							"\n",
							"    .dataframe tbody tr th {\n",
							"        vertical-align: top;\n",
							"    }\n",
							"\n",
							"    .dataframe thead th {\n",
							"        text-align: right;\n",
							"    }\n",
							"</style>\n",
							"<table border=\"1\" class=\"dataframe\">\n",
							"  <thead>\n",
							"    <tr style=\"text-align: right;\">\n",
							"      <th></th>\n",
							"      <th>id</th>\n",
							"      <th>start_date</th>\n",
							"      <th>end_date</th>\n",
							"      <th>start_location</th>\n",
							"      <th>start_district</th>\n",
							"      <th>end_location</th>\n",
							"      <th>end_district</th>\n",
							"      <th>distance</th>\n",
							"      <th>promo</th>\n",
							"      <th>ride_duration</th>\n",
							"      <th>average_speed</th>\n",
							"    </tr>\n",
							"  </thead>\n",
							"  <tbody>\n",
							"    <tr>\n",
							"      <th>1095</th>\n",
							"      <td>101377</td>\n",
							"      <td>2023-04-23 07:48:45</td>\n",
							"      <td>2023-04-23 08:18:40</td>\n",
							"      <td>молодежная</td>\n",
							"      <td>юго-восточный</td>\n",
							"      <td>буденного</td>\n",
							"      <td>октябрьский</td>\n",
							"      <td>4.00</td>\n",
							"      <td>0</td>\n",
							"      <td>29.92</td>\n",
							"      <td>0.01</td>\n",
							"    </tr>\n",
							"    <tr>\n",
							"      <th>1096</th>\n",
							"      <td>101378</td>\n",
							"      <td>2023-04-23 07:48:47</td>\n",
							"      <td>2023-04-23 08:17:30</td>\n",
							"      <td>комсомольская</td>\n",
							"      <td>заречный</td>\n",
							"      <td>красноармейская</td>\n",
							"      <td>юго-восточный</td>\n",
							"      <td>4234.00</td>\n",
							"      <td>0</td>\n",
							"      <td>28.72</td>\n",
							"      <td>8.85</td>\n",
							"    </tr>\n",
							"    <tr>\n",
							"      <th>1098</th>\n",
							"      <td>101379</td>\n",
							"      <td>2023-04-23 07:49:46</td>\n",
							"      <td>2023-04-23 08:07:27</td>\n",
							"      <td>космонавтов</td>\n",
							"      <td>юго-восточный</td>\n",
							"      <td>парковая</td>\n",
							"      <td>юго-восточный</td>\n",
							"      <td>2943.00</td>\n",
							"      <td>0</td>\n",
							"      <td>17.68</td>\n",
							"      <td>9.99</td>\n",
							"    </tr>\n",
							"  </tbody>\n",
							"</table>\n",
							"</div>"
						],
						"text/plain": [
							"          id          start_date            end_date start_location  \\\n",
							"1095  101377 2023-04-23 07:48:45 2023-04-23 08:18:40     молодежная   \n",
							"1096  101378 2023-04-23 07:48:47 2023-04-23 08:17:30  комсомольская   \n",
							"1098  101379 2023-04-23 07:49:46 2023-04-23 08:07:27    космонавтов   \n",
							"\n",
							"     start_district     end_location   end_district  distance  promo  \\\n",
							"1095  юго-восточный        буденного    октябрьский      4.00      0   \n",
							"1096       заречный  красноармейская  юго-восточный   4234.00      0   \n",
							"1098  юго-восточный         парковая  юго-восточный   2943.00      0   \n",
							"\n",
							"      ride_duration  average_speed  \n",
							"1095          29.92           0.01  \n",
							"1096          28.72           8.85  \n",
							"1098          17.68           9.99  "
						]
					},
					"execution_count": 137,
					"metadata": {},
					"output_type": "execute_result"
				}
			],
			"source": [
				"# Заполнение пустых значений в столбце 'distance'\n",
				"df['distance'] = df['distance'].fillna(median_average_speed * (df['ride_duration'] / 60) * 1000)\n",
				"\n",
				"df.iloc[1037:1040]"
			]
		},
		{
			"cell_type": "markdown",
			"metadata": {},
			"source": [
				"#### Проверка работы"
			]
		},
		{
			"cell_type": "code",
			"execution_count": 138,
			"metadata": {},
			"outputs": [
				{
					"data": {
						"text/plain": [
							"id                0\n",
							"start_date        0\n",
							"end_date          0\n",
							"start_location    0\n",
							"start_district    0\n",
							"end_location      0\n",
							"end_district      0\n",
							"distance          0\n",
							"promo             0\n",
							"dtype: int64"
						]
					},
					"execution_count": 138,
					"metadata": {},
					"output_type": "execute_result"
				}
			],
			"source": [
				"df = df.drop(['ride_duration', 'average_speed'], axis=1) # Удаляем уже ненужные стоблцы\n",
				"\n",
				"df.isna().sum() # Проверка наличия пропусков"
			]
		},
		{
			"cell_type": "markdown",
			"metadata": {},
			"source": [
				"### Проверка на выбросы"
			]
		},
		{
			"cell_type": "code",
			"execution_count": 139,
			"metadata": {},
			"outputs": [
				{
					"data": {
						"text/html": [
							"<div>\n",
							"<style scoped>\n",
							"    .dataframe tbody tr th:only-of-type {\n",
							"        vertical-align: middle;\n",
							"    }\n",
							"\n",
							"    .dataframe tbody tr th {\n",
							"        vertical-align: top;\n",
							"    }\n",
							"\n",
							"    .dataframe thead th {\n",
							"        text-align: right;\n",
							"    }\n",
							"</style>\n",
							"<table border=\"1\" class=\"dataframe\">\n",
							"  <thead>\n",
							"    <tr style=\"text-align: right;\">\n",
							"      <th></th>\n",
							"      <th>id</th>\n",
							"      <th>start_date</th>\n",
							"      <th>end_date</th>\n",
							"      <th>distance</th>\n",
							"      <th>promo</th>\n",
							"    </tr>\n",
							"  </thead>\n",
							"  <tbody>\n",
							"    <tr>\n",
							"      <th>count</th>\n",
							"      <td>97372.00</td>\n",
							"      <td>97372</td>\n",
							"      <td>97372</td>\n",
							"      <td>97372.00</td>\n",
							"      <td>97372.00</td>\n",
							"    </tr>\n",
							"    <tr>\n",
							"      <th>mean</th>\n",
							"      <td>149025.50</td>\n",
							"      <td>2023-06-13 21:06:08.931407360</td>\n",
							"      <td>2023-06-13 21:33:03.576468480</td>\n",
							"      <td>26998.68</td>\n",
							"      <td>0.02</td>\n",
							"    </tr>\n",
							"    <tr>\n",
							"      <th>min</th>\n",
							"      <td>100340.00</td>\n",
							"      <td>2023-04-22 09:01:03</td>\n",
							"      <td>2023-04-22 09:24:45</td>\n",
							"      <td>1.00</td>\n",
							"      <td>0.00</td>\n",
							"    </tr>\n",
							"    <tr>\n",
							"      <th>25%</th>\n",
							"      <td>124682.75</td>\n",
							"      <td>2023-05-20 21:41:39.500000</td>\n",
							"      <td>2023-05-20 22:07:59</td>\n",
							"      <td>3044.00</td>\n",
							"      <td>0.00</td>\n",
							"    </tr>\n",
							"    <tr>\n",
							"      <th>50%</th>\n",
							"      <td>149025.50</td>\n",
							"      <td>2023-06-14 15:15:46</td>\n",
							"      <td>2023-06-14 15:44:53</td>\n",
							"      <td>3703.00</td>\n",
							"      <td>0.00</td>\n",
							"    </tr>\n",
							"    <tr>\n",
							"      <th>75%</th>\n",
							"      <td>173368.25</td>\n",
							"      <td>2023-07-08 19:50:22.249999872</td>\n",
							"      <td>2023-07-08 20:18:30</td>\n",
							"      <td>4433.00</td>\n",
							"      <td>0.00</td>\n",
							"    </tr>\n",
							"    <tr>\n",
							"      <th>max</th>\n",
							"      <td>197711.00</td>\n",
							"      <td>2023-07-31 23:57:01</td>\n",
							"      <td>2023-08-14 07:25:37.719536260</td>\n",
							"      <td>7569789.00</td>\n",
							"      <td>1.00</td>\n",
							"    </tr>\n",
							"    <tr>\n",
							"      <th>std</th>\n",
							"      <td>28109.02</td>\n",
							"      <td>NaN</td>\n",
							"      <td>NaN</td>\n",
							"      <td>307435.12</td>\n",
							"      <td>0.14</td>\n",
							"    </tr>\n",
							"  </tbody>\n",
							"</table>\n",
							"</div>"
						],
						"text/plain": [
							"             id                     start_date                       end_date  \\\n",
							"count  97372.00                          97372                          97372   \n",
							"mean  149025.50  2023-06-13 21:06:08.931407360  2023-06-13 21:33:03.576468480   \n",
							"min   100340.00            2023-04-22 09:01:03            2023-04-22 09:24:45   \n",
							"25%   124682.75     2023-05-20 21:41:39.500000            2023-05-20 22:07:59   \n",
							"50%   149025.50            2023-06-14 15:15:46            2023-06-14 15:44:53   \n",
							"75%   173368.25  2023-07-08 19:50:22.249999872            2023-07-08 20:18:30   \n",
							"max   197711.00            2023-07-31 23:57:01  2023-08-14 07:25:37.719536260   \n",
							"std    28109.02                            NaN                            NaN   \n",
							"\n",
							"        distance    promo  \n",
							"count   97372.00 97372.00  \n",
							"mean    26998.68     0.02  \n",
							"min         1.00     0.00  \n",
							"25%      3044.00     0.00  \n",
							"50%      3703.00     0.00  \n",
							"75%      4433.00     0.00  \n",
							"max   7569789.00     1.00  \n",
							"std    307435.12     0.14  "
						]
					},
					"execution_count": 139,
					"metadata": {},
					"output_type": "execute_result"
				}
			],
			"source": [
				"pd.set_option('display.float_format', '{:.2f}'.format)\n",
				"df.describe()"
			]
		},
		{
			"cell_type": "markdown",
			"metadata": {},
			"source": [
				"В distance присутствуют очень сильные выбросы, вероятно, они вызваны ошибками в показаниях датчиков"
			]
		},
		{
			"cell_type": "markdown",
			"metadata": {},
			"source": [
				"Так как выбросы в distance аномально большие или маленькие, то самым простым способом будет вручную отфильтровать выбросы и исправить ошибочные значения, не прибегая к интерквартильному размаху или стандартным отклонениям\n",
				"\n",
				"Выбросы будем исправлять по аналогии с пропусками.\n",
				"\n",
				"Некоторые строки с выбросами также содержали пустые данные и на этапе заполнения пустых данных, заполненные пропуски тоже получили некорректные значения. При условии, что один из параметров выброс, а другой был пропущен - мы не можем восстановить данные, следовательно придется их удалить."
			]
		},
		{
			"cell_type": "code",
			"execution_count": 140,
			"metadata": {},
			"outputs": [],
			"source": [
				"# Обновляем значения в колонке ride_duration\n",
				"df['ride_duration'] = df.apply(lambda row: (row.end_date - row.start_date).seconds / 60, axis=1)\n",
				"\n",
				"# Удаляем значения, которые невозможно восстановить и обновляем индексацию\n",
				"df = df[(df['ride_duration'] < 90) & (df['ride_duration'] > 10)]\n",
				"df = df.reset_index(drop=True)"
			]
		},
		{
			"cell_type": "markdown",
			"metadata": {},
			"source": [
				"##### ДО"
			]
		},
		{
			"cell_type": "code",
			"execution_count": 141,
			"metadata": {},
			"outputs": [
				{
					"data": {
						"text/html": [
							"<div>\n",
							"<style scoped>\n",
							"    .dataframe tbody tr th:only-of-type {\n",
							"        vertical-align: middle;\n",
							"    }\n",
							"\n",
							"    .dataframe tbody tr th {\n",
							"        vertical-align: top;\n",
							"    }\n",
							"\n",
							"    .dataframe thead th {\n",
							"        text-align: right;\n",
							"    }\n",
							"</style>\n",
							"<table border=\"1\" class=\"dataframe\">\n",
							"  <thead>\n",
							"    <tr style=\"text-align: right;\">\n",
							"      <th></th>\n",
							"      <th>id</th>\n",
							"      <th>start_date</th>\n",
							"      <th>end_date</th>\n",
							"      <th>start_location</th>\n",
							"      <th>start_district</th>\n",
							"      <th>end_location</th>\n",
							"      <th>end_district</th>\n",
							"      <th>distance</th>\n",
							"      <th>promo</th>\n",
							"      <th>ride_duration</th>\n",
							"    </tr>\n",
							"  </thead>\n",
							"  <tbody>\n",
							"    <tr>\n",
							"      <th>954</th>\n",
							"      <td>101299</td>\n",
							"      <td>2023-04-22 23:54:39</td>\n",
							"      <td>2023-04-23 00:23:58</td>\n",
							"      <td>дачная</td>\n",
							"      <td>центральный</td>\n",
							"      <td>свободы</td>\n",
							"      <td>ленинский</td>\n",
							"      <td>4273850.00</td>\n",
							"      <td>0</td>\n",
							"      <td>29.32</td>\n",
							"    </tr>\n",
							"    <tr>\n",
							"      <th>955</th>\n",
							"      <td>101300</td>\n",
							"      <td>2023-04-22 23:58:02</td>\n",
							"      <td>2023-04-23 00:20:51</td>\n",
							"      <td>заречная</td>\n",
							"      <td>юго-восточный</td>\n",
							"      <td>спортивная</td>\n",
							"      <td>октябрьский</td>\n",
							"      <td>3186.00</td>\n",
							"      <td>0</td>\n",
							"      <td>22.82</td>\n",
							"    </tr>\n",
							"    <tr>\n",
							"      <th>956</th>\n",
							"      <td>101301</td>\n",
							"      <td>2023-04-22 23:58:44</td>\n",
							"      <td>2023-04-23 00:22:00</td>\n",
							"      <td>подгорная</td>\n",
							"      <td>ленинский</td>\n",
							"      <td>озерная</td>\n",
							"      <td>юго-восточный</td>\n",
							"      <td>4679.00</td>\n",
							"      <td>0</td>\n",
							"      <td>23.27</td>\n",
							"    </tr>\n",
							"  </tbody>\n",
							"</table>\n",
							"</div>"
						],
						"text/plain": [
							"         id          start_date            end_date start_location  \\\n",
							"954  101299 2023-04-22 23:54:39 2023-04-23 00:23:58         дачная   \n",
							"955  101300 2023-04-22 23:58:02 2023-04-23 00:20:51       заречная   \n",
							"956  101301 2023-04-22 23:58:44 2023-04-23 00:22:00      подгорная   \n",
							"\n",
							"    start_district end_location   end_district   distance  promo  \\\n",
							"954    центральный      свободы      ленинский 4273850.00      0   \n",
							"955  юго-восточный   спортивная    октябрьский    3186.00      0   \n",
							"956      ленинский      озерная  юго-восточный    4679.00      0   \n",
							"\n",
							"     ride_duration  \n",
							"954          29.32  \n",
							"955          22.82  \n",
							"956          23.27  "
						]
					},
					"execution_count": 141,
					"metadata": {},
					"output_type": "execute_result"
				}
			],
			"source": [
				"df.iloc[954:957]"
			]
		},
		{
			"cell_type": "markdown",
			"metadata": {},
			"source": [
				"##### ПОСЛЕ"
			]
		},
		{
			"cell_type": "code",
			"execution_count": 142,
			"metadata": {},
			"outputs": [
				{
					"data": {
						"text/html": [
							"<div>\n",
							"<style scoped>\n",
							"    .dataframe tbody tr th:only-of-type {\n",
							"        vertical-align: middle;\n",
							"    }\n",
							"\n",
							"    .dataframe tbody tr th {\n",
							"        vertical-align: top;\n",
							"    }\n",
							"\n",
							"    .dataframe thead th {\n",
							"        text-align: right;\n",
							"    }\n",
							"</style>\n",
							"<table border=\"1\" class=\"dataframe\">\n",
							"  <thead>\n",
							"    <tr style=\"text-align: right;\">\n",
							"      <th></th>\n",
							"      <th>id</th>\n",
							"      <th>start_date</th>\n",
							"      <th>end_date</th>\n",
							"      <th>start_location</th>\n",
							"      <th>start_district</th>\n",
							"      <th>end_location</th>\n",
							"      <th>end_district</th>\n",
							"      <th>distance</th>\n",
							"      <th>promo</th>\n",
							"      <th>ride_duration</th>\n",
							"    </tr>\n",
							"  </thead>\n",
							"  <tbody>\n",
							"    <tr>\n",
							"      <th>954</th>\n",
							"      <td>101299</td>\n",
							"      <td>2023-04-22 23:54:39</td>\n",
							"      <td>2023-04-23 00:23:58</td>\n",
							"      <td>дачная</td>\n",
							"      <td>центральный</td>\n",
							"      <td>свободы</td>\n",
							"      <td>ленинский</td>\n",
							"      <td>4454</td>\n",
							"      <td>0</td>\n",
							"      <td>29.32</td>\n",
							"    </tr>\n",
							"    <tr>\n",
							"      <th>955</th>\n",
							"      <td>101300</td>\n",
							"      <td>2023-04-22 23:58:02</td>\n",
							"      <td>2023-04-23 00:20:51</td>\n",
							"      <td>заречная</td>\n",
							"      <td>юго-восточный</td>\n",
							"      <td>спортивная</td>\n",
							"      <td>октябрьский</td>\n",
							"      <td>3186</td>\n",
							"      <td>0</td>\n",
							"      <td>22.82</td>\n",
							"    </tr>\n",
							"    <tr>\n",
							"      <th>956</th>\n",
							"      <td>101301</td>\n",
							"      <td>2023-04-22 23:58:44</td>\n",
							"      <td>2023-04-23 00:22:00</td>\n",
							"      <td>подгорная</td>\n",
							"      <td>ленинский</td>\n",
							"      <td>озерная</td>\n",
							"      <td>юго-восточный</td>\n",
							"      <td>4679</td>\n",
							"      <td>0</td>\n",
							"      <td>23.27</td>\n",
							"    </tr>\n",
							"  </tbody>\n",
							"</table>\n",
							"</div>"
						],
						"text/plain": [
							"         id          start_date            end_date start_location  \\\n",
							"954  101299 2023-04-22 23:54:39 2023-04-23 00:23:58         дачная   \n",
							"955  101300 2023-04-22 23:58:02 2023-04-23 00:20:51       заречная   \n",
							"956  101301 2023-04-22 23:58:44 2023-04-23 00:22:00      подгорная   \n",
							"\n",
							"    start_district end_location   end_district  distance  promo  ride_duration  \n",
							"954    центральный      свободы      ленинский      4454      0          29.32  \n",
							"955  юго-восточный   спортивная    октябрьский      3186      0          22.82  \n",
							"956      ленинский      озерная  юго-восточный      4679      0          23.27  "
						]
					},
					"execution_count": 142,
					"metadata": {},
					"output_type": "execute_result"
				}
			],
			"source": [
				"# Заменяем выбросы в соответствии с формулой\n",
				"df['distance'] = df['distance'].where(\n",
				"    (df['distance'] >= 10) & (df['distance'] <= 50000), \n",
				"    median_average_speed * (df['ride_duration'] / 60) * 1000\n",
				").round().astype(int)\n",
				"\n",
				"df.iloc[954:957]"
			]
		},
		{
			"cell_type": "markdown",
			"metadata": {},
			"source": [
				"#### Проверка работы"
			]
		},
		{
			"cell_type": "code",
			"execution_count": 143,
			"metadata": {},
			"outputs": [
				{
					"data": {
						"text/html": [
							"<div>\n",
							"<style scoped>\n",
							"    .dataframe tbody tr th:only-of-type {\n",
							"        vertical-align: middle;\n",
							"    }\n",
							"\n",
							"    .dataframe tbody tr th {\n",
							"        vertical-align: top;\n",
							"    }\n",
							"\n",
							"    .dataframe thead th {\n",
							"        text-align: right;\n",
							"    }\n",
							"</style>\n",
							"<table border=\"1\" class=\"dataframe\">\n",
							"  <thead>\n",
							"    <tr style=\"text-align: right;\">\n",
							"      <th></th>\n",
							"      <th>id</th>\n",
							"      <th>start_date</th>\n",
							"      <th>end_date</th>\n",
							"      <th>distance</th>\n",
							"      <th>promo</th>\n",
							"    </tr>\n",
							"  </thead>\n",
							"  <tbody>\n",
							"    <tr>\n",
							"      <th>count</th>\n",
							"      <td>96638.00</td>\n",
							"      <td>96638</td>\n",
							"      <td>96638</td>\n",
							"      <td>96638.00</td>\n",
							"      <td>96638.00</td>\n",
							"    </tr>\n",
							"    <tr>\n",
							"      <th>mean</th>\n",
							"      <td>149020.97</td>\n",
							"      <td>2023-06-13 20:58:56.413264128</td>\n",
							"      <td>2023-06-13 21:25:26.435115264</td>\n",
							"      <td>3845.82</td>\n",
							"      <td>0.02</td>\n",
							"    </tr>\n",
							"    <tr>\n",
							"      <th>min</th>\n",
							"      <td>100340.00</td>\n",
							"      <td>2023-04-22 09:01:03</td>\n",
							"      <td>2023-04-22 09:24:45</td>\n",
							"      <td>1094.00</td>\n",
							"      <td>0.00</td>\n",
							"    </tr>\n",
							"    <tr>\n",
							"      <th>25%</th>\n",
							"      <td>124672.25</td>\n",
							"      <td>2023-05-20 21:32:31.750000128</td>\n",
							"      <td>2023-05-20 21:58:06</td>\n",
							"      <td>3119.00</td>\n",
							"      <td>0.00</td>\n",
							"    </tr>\n",
							"    <tr>\n",
							"      <th>50%</th>\n",
							"      <td>149018.50</td>\n",
							"      <td>2023-06-14 15:08:45</td>\n",
							"      <td>2023-06-14 15:37:43.500000</td>\n",
							"      <td>3743.00</td>\n",
							"      <td>0.00</td>\n",
							"    </tr>\n",
							"    <tr>\n",
							"      <th>75%</th>\n",
							"      <td>173376.75</td>\n",
							"      <td>2023-07-08 19:55:47.500000</td>\n",
							"      <td>2023-07-08 20:21:19.500000</td>\n",
							"      <td>4456.00</td>\n",
							"      <td>0.00</td>\n",
							"    </tr>\n",
							"    <tr>\n",
							"      <th>max</th>\n",
							"      <td>197711.00</td>\n",
							"      <td>2023-07-31 23:57:01</td>\n",
							"      <td>2023-08-01 00:42:12</td>\n",
							"      <td>12675.00</td>\n",
							"      <td>1.00</td>\n",
							"    </tr>\n",
							"    <tr>\n",
							"      <th>std</th>\n",
							"      <td>28113.79</td>\n",
							"      <td>NaN</td>\n",
							"      <td>NaN</td>\n",
							"      <td>1036.42</td>\n",
							"      <td>0.14</td>\n",
							"    </tr>\n",
							"  </tbody>\n",
							"</table>\n",
							"</div>"
						],
						"text/plain": [
							"             id                     start_date                       end_date  \\\n",
							"count  96638.00                          96638                          96638   \n",
							"mean  149020.97  2023-06-13 20:58:56.413264128  2023-06-13 21:25:26.435115264   \n",
							"min   100340.00            2023-04-22 09:01:03            2023-04-22 09:24:45   \n",
							"25%   124672.25  2023-05-20 21:32:31.750000128            2023-05-20 21:58:06   \n",
							"50%   149018.50            2023-06-14 15:08:45     2023-06-14 15:37:43.500000   \n",
							"75%   173376.75     2023-07-08 19:55:47.500000     2023-07-08 20:21:19.500000   \n",
							"max   197711.00            2023-07-31 23:57:01            2023-08-01 00:42:12   \n",
							"std    28113.79                            NaN                            NaN   \n",
							"\n",
							"       distance    promo  \n",
							"count  96638.00 96638.00  \n",
							"mean    3845.82     0.02  \n",
							"min     1094.00     0.00  \n",
							"25%     3119.00     0.00  \n",
							"50%     3743.00     0.00  \n",
							"75%     4456.00     0.00  \n",
							"max    12675.00     1.00  \n",
							"std     1036.42     0.14  "
						]
					},
					"execution_count": 143,
					"metadata": {},
					"output_type": "execute_result"
				}
			],
			"source": [
				"df = df.drop(['ride_duration'], axis=1) # Удаляем теперь ненужные колонны таблицы\n",
				"\n",
				"df.describe()"
			]
		},
		{
			"cell_type": "markdown",
			"metadata": {},
			"source": [
				"### Выгрузка новой таблицы"
			]
		},
		{
			"cell_type": "code",
			"execution_count": 144,
			"metadata": {},
			"outputs": [],
			"source": [
				"df.to_csv('processed_rides.csv', index=False, date_format='%Y-%m-%d %H:%M:%S')"
			]
		},
		{
			"cell_type": "markdown",
			"metadata": {},
			"source": [
				"## Объединение таблиц"
			]
		},
		{
			"cell_type": "markdown",
			"metadata": {},
			"source": [
				"Для более удобного анализа данных стоит объединить имеющиеся таблицы"
			]
		},
		{
			"cell_type": "code",
			"execution_count": 145,
			"metadata": {},
			"outputs": [],
			"source": [
				"rides_df = pd.read_csv('processed_rides.csv', parse_dates=['start_date', 'end_date'])\n",
				"weather_df = pd.read_csv('processed_weather.csv', parse_dates=['datetime']).drop(index=0, axis=1)\n",
				"\n",
				"rides_df['rounded_start_time'] = rides_df['start_date'].dt.round('h')\n",
				"\n",
				"\n",
				"merge_df = pd.merge_asof(\n",
				"    rides_df.sort_values('rounded_start_time'), \n",
				"    weather_df.sort_values('datetime'), \n",
				"    left_on='rounded_start_time', \n",
				"    right_on='datetime', \n",
				"    direction='backward'\n",
				")\n",
				"\n",
				"merge_df = merge_df.drop('rounded_start_time', axis=1)\n",
				"\n",
				"merge_df.to_csv('rides_&_weather.csv', index=False)"
			]
		},
		{
			"cell_type": "markdown",
			"metadata": {},
			"source": [
				"## Проведение расчетов и иссследований"
			]
		},
		{
			"cell_type": "markdown",
			"metadata": {},
			"source": [
				"### 1. Расчет итоговой стоимости"
			]
		},
		{
			"cell_type": "markdown",
			"metadata": {},
			"source": [
				"![alt text](image.png)"
			]
		},
		{
			"cell_type": "code",
			"execution_count": null,
			"metadata": {},
			"outputs": [],
			"source": [
				"# тык-тык тут код"
			]
		},
		{
			"cell_type": "markdown",
			"metadata": {},
			"source": [
				"### 2. Стимулирует ли акция спрос на самокаты?"
			]
		},
		{
			"cell_type": "markdown",
			"metadata": {},
			"source": [
				". . ."
			]
		},
		{
			"cell_type": "markdown",
			"metadata": {},
			"source": [
				"## Проверка гипотез"
			]
		},
		{
			"cell_type": "markdown",
			"metadata": {},
			"source": [
				"### 1. В дождливое время спрос на самокаты ниже."
			]
		},
		{
			"cell_type": "markdown",
			"metadata": {},
			"source": [
				"H0: Спрос на самокаты <u>не зависит</u> от погодных условий\n",
				"\n",
				"H1: Спрос на самокаты <u>зависит</u> от погодных условий"
			]
		},
		{
			"cell_type": "code",
			"execution_count": null,
			"metadata": {},
			"outputs": [],
			"source": [
				"# тут код с проверкой теории, и объяснением почему мы используем какие-то коэффиценты."
			]
		}
	],
	"metadata": {
		"kernelspec": {
			"display_name": "Python 3",
			"language": "python",
			"name": "python3"
		},
		"language_info": {
			"codemirror_mode": {
				"name": "ipython",
				"version": 3
			},
			"file_extension": ".py",
			"mimetype": "text/x-python",
			"name": "python",
			"nbconvert_exporter": "python",
			"pygments_lexer": "ipython3",
			"version": "3.12.0"
		}
	},
	"nbformat": 4,
	"nbformat_minor": 4
}
