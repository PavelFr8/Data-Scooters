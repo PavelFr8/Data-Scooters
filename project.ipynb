{
 "cells": [
  {
   "cell_type": "markdown",
   "metadata": {},
   "source": [
    "# Анализ спроса на самокаты"
   ]
  },
  {
   "cell_type": "code",
   "metadata": {
    "ExecuteTime": {
     "end_time": "2024-12-06T18:43:49.080095Z",
     "start_time": "2024-12-06T18:43:49.077039Z"
    }
   },
   "source": [
    "import pandas as pd\n",
    "import numpy as np\n",
    "import matplotlib.pyplot as plt\n",
    "import seaborn as sns"
   ],
   "outputs": [],
   "execution_count": 2
  },
  {
   "cell_type": "code",
   "metadata": {
    "ExecuteTime": {
     "end_time": "2024-12-06T18:43:49.501544Z",
     "start_time": "2024-12-06T18:43:49.499019Z"
    }
   },
   "source": [
    "import warnings\n",
    "warnings.filterwarnings('ignore')"
   ],
   "outputs": [],
   "execution_count": 3
  },
  {
   "cell_type": "markdown",
   "metadata": {},
   "source": [
    "## Предобработка данных о погоде"
   ]
  },
  {
   "cell_type": "code",
   "metadata": {
    "ExecuteTime": {
     "end_time": "2024-12-04T15:46:25.013496Z",
     "start_time": "2024-12-04T15:46:24.986791Z"
    }
   },
   "source": [
    "# Чтение данных и удаление первой строки с единицами измерения\n",
    "df = pd.read_csv('weather.csv', na_values=\"\", parse_dates=['Datetime']).drop(index=0, axis=1)\n",
    "\n",
    "# Названия колонок к PEP8\n",
    "df.columns = df.columns.str.replace(' ', '_').str.lower()\n",
    "\n",
    "# Приведение колонок к float, кроме колонки с датами\n",
    "for col in df.columns[1:]:\n",
    "    df[col] = df[col].astype(float)"
   ],
   "outputs": [],
   "execution_count": 3
  },
  {
   "cell_type": "markdown",
   "metadata": {},
   "source": [
    "### Проверка на дубликаты"
   ]
  },
  {
   "cell_type": "code",
   "metadata": {
    "ExecuteTime": {
     "end_time": "2024-12-04T15:46:30.489682Z",
     "start_time": "2024-12-04T15:46:30.473553Z"
    }
   },
   "source": [
    "df.duplicated().sum(), df['datetime'].duplicated().sum()"
   ],
   "outputs": [
    {
     "data": {
      "text/plain": [
       "(0, 0)"
      ]
     },
     "execution_count": 4,
     "metadata": {},
     "output_type": "execute_result"
    }
   ],
   "execution_count": 4
  },
  {
   "cell_type": "markdown",
   "metadata": {},
   "source": [
    "### Работа с пропусками"
   ]
  },
  {
   "cell_type": "code",
   "metadata": {
    "ExecuteTime": {
     "end_time": "2024-12-04T15:46:37.815856Z",
     "start_time": "2024-12-04T15:46:37.808752Z"
    }
   },
   "source": [
    "df.isna().sum() # Проверка наличия пропусков"
   ],
   "outputs": [
    {
     "data": {
      "text/plain": [
       "datetime                0\n",
       "temperature            55\n",
       "precipitation_total    30\n",
       "wind_gust               0\n",
       "wind_speed             16\n",
       "cloud_cover_total      20\n",
       "sunshine_duration      12\n",
       "dtype: int64"
      ]
     },
     "execution_count": 5,
     "metadata": {},
     "output_type": "execute_result"
    }
   ],
   "execution_count": 5
  },
  {
   "cell_type": "markdown",
   "metadata": {},
   "source": [
    "Так как мы работаем с временными рядами, в заполнении пропусков может помочь **интерполяция**, которая отталкивается от значений соседних точек."
   ]
  },
  {
   "cell_type": "markdown",
   "metadata": {},
   "source": [
    "#### ДО"
   ]
  },
  {
   "cell_type": "code",
   "metadata": {
    "ExecuteTime": {
     "end_time": "2024-12-04T15:47:06.569336Z",
     "start_time": "2024-12-04T15:47:06.552781Z"
    }
   },
   "source": [
    "df.iloc[1003:1015]"
   ],
   "outputs": [
    {
     "data": {
      "text/plain": [
       "                datetime  temperature  precipitation_total  wind_gust  \\\n",
       "1004 2023-05-12 19:00:00    14.070246                  0.1  18.720000   \n",
       "1005 2023-05-12 20:00:00    13.690246                  0.0  14.400000   \n",
       "1006 2023-05-12 21:00:00          NaN                  0.0  12.959999   \n",
       "1007 2023-05-12 22:00:00          NaN                  0.0  14.040000   \n",
       "1008 2023-05-12 23:00:00          NaN                  0.0  14.040000   \n",
       "1009 2023-05-13 00:00:00          NaN                  0.0  13.679999   \n",
       "1010 2023-05-13 01:00:00          NaN                  0.0  12.959999   \n",
       "1011 2023-05-13 02:00:00          NaN                  0.0  12.599999   \n",
       "1012 2023-05-13 03:00:00          NaN                  0.0  11.159999   \n",
       "1013 2023-05-13 04:00:00          NaN                  0.0  10.799999   \n",
       "1014 2023-05-13 05:00:00    11.870245                  0.0  11.520000   \n",
       "1015 2023-05-13 06:00:00    12.340245                  0.0  15.119999   \n",
       "\n",
       "      wind_speed  cloud_cover_total  sunshine_duration  \n",
       "1004    6.130579               28.0          42.074078  \n",
       "1005    5.506941               26.0           0.000000  \n",
       "1006    6.569383               20.0           0.000000  \n",
       "1007    7.244860               38.0           0.000000  \n",
       "1008    6.618519               38.0           0.000000  \n",
       "1009    7.729527               25.0           0.000000  \n",
       "1010    7.172949               23.7           0.000000  \n",
       "1011    8.557102               23.1           0.000000  \n",
       "1012    6.725354               59.0           0.000000  \n",
       "1013    6.638072               77.0           1.440741  \n",
       "1014    6.877790               91.0           4.848486  \n",
       "1015    8.209263               93.0           3.636364  "
      ],
      "text/html": [
       "<div>\n",
       "<style scoped>\n",
       "    .dataframe tbody tr th:only-of-type {\n",
       "        vertical-align: middle;\n",
       "    }\n",
       "\n",
       "    .dataframe tbody tr th {\n",
       "        vertical-align: top;\n",
       "    }\n",
       "\n",
       "    .dataframe thead th {\n",
       "        text-align: right;\n",
       "    }\n",
       "</style>\n",
       "<table border=\"1\" class=\"dataframe\">\n",
       "  <thead>\n",
       "    <tr style=\"text-align: right;\">\n",
       "      <th></th>\n",
       "      <th>datetime</th>\n",
       "      <th>temperature</th>\n",
       "      <th>precipitation_total</th>\n",
       "      <th>wind_gust</th>\n",
       "      <th>wind_speed</th>\n",
       "      <th>cloud_cover_total</th>\n",
       "      <th>sunshine_duration</th>\n",
       "    </tr>\n",
       "  </thead>\n",
       "  <tbody>\n",
       "    <tr>\n",
       "      <th>1004</th>\n",
       "      <td>2023-05-12 19:00:00</td>\n",
       "      <td>14.070246</td>\n",
       "      <td>0.1</td>\n",
       "      <td>18.720000</td>\n",
       "      <td>6.130579</td>\n",
       "      <td>28.0</td>\n",
       "      <td>42.074078</td>\n",
       "    </tr>\n",
       "    <tr>\n",
       "      <th>1005</th>\n",
       "      <td>2023-05-12 20:00:00</td>\n",
       "      <td>13.690246</td>\n",
       "      <td>0.0</td>\n",
       "      <td>14.400000</td>\n",
       "      <td>5.506941</td>\n",
       "      <td>26.0</td>\n",
       "      <td>0.000000</td>\n",
       "    </tr>\n",
       "    <tr>\n",
       "      <th>1006</th>\n",
       "      <td>2023-05-12 21:00:00</td>\n",
       "      <td>NaN</td>\n",
       "      <td>0.0</td>\n",
       "      <td>12.959999</td>\n",
       "      <td>6.569383</td>\n",
       "      <td>20.0</td>\n",
       "      <td>0.000000</td>\n",
       "    </tr>\n",
       "    <tr>\n",
       "      <th>1007</th>\n",
       "      <td>2023-05-12 22:00:00</td>\n",
       "      <td>NaN</td>\n",
       "      <td>0.0</td>\n",
       "      <td>14.040000</td>\n",
       "      <td>7.244860</td>\n",
       "      <td>38.0</td>\n",
       "      <td>0.000000</td>\n",
       "    </tr>\n",
       "    <tr>\n",
       "      <th>1008</th>\n",
       "      <td>2023-05-12 23:00:00</td>\n",
       "      <td>NaN</td>\n",
       "      <td>0.0</td>\n",
       "      <td>14.040000</td>\n",
       "      <td>6.618519</td>\n",
       "      <td>38.0</td>\n",
       "      <td>0.000000</td>\n",
       "    </tr>\n",
       "    <tr>\n",
       "      <th>1009</th>\n",
       "      <td>2023-05-13 00:00:00</td>\n",
       "      <td>NaN</td>\n",
       "      <td>0.0</td>\n",
       "      <td>13.679999</td>\n",
       "      <td>7.729527</td>\n",
       "      <td>25.0</td>\n",
       "      <td>0.000000</td>\n",
       "    </tr>\n",
       "    <tr>\n",
       "      <th>1010</th>\n",
       "      <td>2023-05-13 01:00:00</td>\n",
       "      <td>NaN</td>\n",
       "      <td>0.0</td>\n",
       "      <td>12.959999</td>\n",
       "      <td>7.172949</td>\n",
       "      <td>23.7</td>\n",
       "      <td>0.000000</td>\n",
       "    </tr>\n",
       "    <tr>\n",
       "      <th>1011</th>\n",
       "      <td>2023-05-13 02:00:00</td>\n",
       "      <td>NaN</td>\n",
       "      <td>0.0</td>\n",
       "      <td>12.599999</td>\n",
       "      <td>8.557102</td>\n",
       "      <td>23.1</td>\n",
       "      <td>0.000000</td>\n",
       "    </tr>\n",
       "    <tr>\n",
       "      <th>1012</th>\n",
       "      <td>2023-05-13 03:00:00</td>\n",
       "      <td>NaN</td>\n",
       "      <td>0.0</td>\n",
       "      <td>11.159999</td>\n",
       "      <td>6.725354</td>\n",
       "      <td>59.0</td>\n",
       "      <td>0.000000</td>\n",
       "    </tr>\n",
       "    <tr>\n",
       "      <th>1013</th>\n",
       "      <td>2023-05-13 04:00:00</td>\n",
       "      <td>NaN</td>\n",
       "      <td>0.0</td>\n",
       "      <td>10.799999</td>\n",
       "      <td>6.638072</td>\n",
       "      <td>77.0</td>\n",
       "      <td>1.440741</td>\n",
       "    </tr>\n",
       "    <tr>\n",
       "      <th>1014</th>\n",
       "      <td>2023-05-13 05:00:00</td>\n",
       "      <td>11.870245</td>\n",
       "      <td>0.0</td>\n",
       "      <td>11.520000</td>\n",
       "      <td>6.877790</td>\n",
       "      <td>91.0</td>\n",
       "      <td>4.848486</td>\n",
       "    </tr>\n",
       "    <tr>\n",
       "      <th>1015</th>\n",
       "      <td>2023-05-13 06:00:00</td>\n",
       "      <td>12.340245</td>\n",
       "      <td>0.0</td>\n",
       "      <td>15.119999</td>\n",
       "      <td>8.209263</td>\n",
       "      <td>93.0</td>\n",
       "      <td>3.636364</td>\n",
       "    </tr>\n",
       "  </tbody>\n",
       "</table>\n",
       "</div>"
      ]
     },
     "execution_count": 6,
     "metadata": {},
     "output_type": "execute_result"
    }
   ],
   "execution_count": 6
  },
  {
   "cell_type": "markdown",
   "metadata": {},
   "source": [
    "#### ПОСЛЕ"
   ]
  },
  {
   "cell_type": "code",
   "metadata": {
    "ExecuteTime": {
     "end_time": "2024-12-04T15:47:10.031219Z",
     "start_time": "2024-12-04T15:47:10.020563Z"
    }
   },
   "source": [
    "for col in df.columns[1:]:\n",
    "    df[col] = df[col].interpolate()\n",
    "    \n",
    "df.iloc[1003:1015]"
   ],
   "outputs": [
    {
     "data": {
      "text/plain": [
       "                datetime  temperature  precipitation_total  wind_gust  \\\n",
       "1004 2023-05-12 19:00:00    14.070246                  0.1  18.720000   \n",
       "1005 2023-05-12 20:00:00    13.690246                  0.0  14.400000   \n",
       "1006 2023-05-12 21:00:00    13.488024                  0.0  12.959999   \n",
       "1007 2023-05-12 22:00:00    13.285801                  0.0  14.040000   \n",
       "1008 2023-05-12 23:00:00    13.083579                  0.0  14.040000   \n",
       "1009 2023-05-13 00:00:00    12.881357                  0.0  13.679999   \n",
       "1010 2023-05-13 01:00:00    12.679134                  0.0  12.959999   \n",
       "1011 2023-05-13 02:00:00    12.476912                  0.0  12.599999   \n",
       "1012 2023-05-13 03:00:00    12.274690                  0.0  11.159999   \n",
       "1013 2023-05-13 04:00:00    12.072467                  0.0  10.799999   \n",
       "1014 2023-05-13 05:00:00    11.870245                  0.0  11.520000   \n",
       "1015 2023-05-13 06:00:00    12.340245                  0.0  15.119999   \n",
       "\n",
       "      wind_speed  cloud_cover_total  sunshine_duration  \n",
       "1004    6.130579               28.0          42.074078  \n",
       "1005    5.506941               26.0           0.000000  \n",
       "1006    6.569383               20.0           0.000000  \n",
       "1007    7.244860               38.0           0.000000  \n",
       "1008    6.618519               38.0           0.000000  \n",
       "1009    7.729527               25.0           0.000000  \n",
       "1010    7.172949               23.7           0.000000  \n",
       "1011    8.557102               23.1           0.000000  \n",
       "1012    6.725354               59.0           0.000000  \n",
       "1013    6.638072               77.0           1.440741  \n",
       "1014    6.877790               91.0           4.848486  \n",
       "1015    8.209263               93.0           3.636364  "
      ],
      "text/html": [
       "<div>\n",
       "<style scoped>\n",
       "    .dataframe tbody tr th:only-of-type {\n",
       "        vertical-align: middle;\n",
       "    }\n",
       "\n",
       "    .dataframe tbody tr th {\n",
       "        vertical-align: top;\n",
       "    }\n",
       "\n",
       "    .dataframe thead th {\n",
       "        text-align: right;\n",
       "    }\n",
       "</style>\n",
       "<table border=\"1\" class=\"dataframe\">\n",
       "  <thead>\n",
       "    <tr style=\"text-align: right;\">\n",
       "      <th></th>\n",
       "      <th>datetime</th>\n",
       "      <th>temperature</th>\n",
       "      <th>precipitation_total</th>\n",
       "      <th>wind_gust</th>\n",
       "      <th>wind_speed</th>\n",
       "      <th>cloud_cover_total</th>\n",
       "      <th>sunshine_duration</th>\n",
       "    </tr>\n",
       "  </thead>\n",
       "  <tbody>\n",
       "    <tr>\n",
       "      <th>1004</th>\n",
       "      <td>2023-05-12 19:00:00</td>\n",
       "      <td>14.070246</td>\n",
       "      <td>0.1</td>\n",
       "      <td>18.720000</td>\n",
       "      <td>6.130579</td>\n",
       "      <td>28.0</td>\n",
       "      <td>42.074078</td>\n",
       "    </tr>\n",
       "    <tr>\n",
       "      <th>1005</th>\n",
       "      <td>2023-05-12 20:00:00</td>\n",
       "      <td>13.690246</td>\n",
       "      <td>0.0</td>\n",
       "      <td>14.400000</td>\n",
       "      <td>5.506941</td>\n",
       "      <td>26.0</td>\n",
       "      <td>0.000000</td>\n",
       "    </tr>\n",
       "    <tr>\n",
       "      <th>1006</th>\n",
       "      <td>2023-05-12 21:00:00</td>\n",
       "      <td>13.488024</td>\n",
       "      <td>0.0</td>\n",
       "      <td>12.959999</td>\n",
       "      <td>6.569383</td>\n",
       "      <td>20.0</td>\n",
       "      <td>0.000000</td>\n",
       "    </tr>\n",
       "    <tr>\n",
       "      <th>1007</th>\n",
       "      <td>2023-05-12 22:00:00</td>\n",
       "      <td>13.285801</td>\n",
       "      <td>0.0</td>\n",
       "      <td>14.040000</td>\n",
       "      <td>7.244860</td>\n",
       "      <td>38.0</td>\n",
       "      <td>0.000000</td>\n",
       "    </tr>\n",
       "    <tr>\n",
       "      <th>1008</th>\n",
       "      <td>2023-05-12 23:00:00</td>\n",
       "      <td>13.083579</td>\n",
       "      <td>0.0</td>\n",
       "      <td>14.040000</td>\n",
       "      <td>6.618519</td>\n",
       "      <td>38.0</td>\n",
       "      <td>0.000000</td>\n",
       "    </tr>\n",
       "    <tr>\n",
       "      <th>1009</th>\n",
       "      <td>2023-05-13 00:00:00</td>\n",
       "      <td>12.881357</td>\n",
       "      <td>0.0</td>\n",
       "      <td>13.679999</td>\n",
       "      <td>7.729527</td>\n",
       "      <td>25.0</td>\n",
       "      <td>0.000000</td>\n",
       "    </tr>\n",
       "    <tr>\n",
       "      <th>1010</th>\n",
       "      <td>2023-05-13 01:00:00</td>\n",
       "      <td>12.679134</td>\n",
       "      <td>0.0</td>\n",
       "      <td>12.959999</td>\n",
       "      <td>7.172949</td>\n",
       "      <td>23.7</td>\n",
       "      <td>0.000000</td>\n",
       "    </tr>\n",
       "    <tr>\n",
       "      <th>1011</th>\n",
       "      <td>2023-05-13 02:00:00</td>\n",
       "      <td>12.476912</td>\n",
       "      <td>0.0</td>\n",
       "      <td>12.599999</td>\n",
       "      <td>8.557102</td>\n",
       "      <td>23.1</td>\n",
       "      <td>0.000000</td>\n",
       "    </tr>\n",
       "    <tr>\n",
       "      <th>1012</th>\n",
       "      <td>2023-05-13 03:00:00</td>\n",
       "      <td>12.274690</td>\n",
       "      <td>0.0</td>\n",
       "      <td>11.159999</td>\n",
       "      <td>6.725354</td>\n",
       "      <td>59.0</td>\n",
       "      <td>0.000000</td>\n",
       "    </tr>\n",
       "    <tr>\n",
       "      <th>1013</th>\n",
       "      <td>2023-05-13 04:00:00</td>\n",
       "      <td>12.072467</td>\n",
       "      <td>0.0</td>\n",
       "      <td>10.799999</td>\n",
       "      <td>6.638072</td>\n",
       "      <td>77.0</td>\n",
       "      <td>1.440741</td>\n",
       "    </tr>\n",
       "    <tr>\n",
       "      <th>1014</th>\n",
       "      <td>2023-05-13 05:00:00</td>\n",
       "      <td>11.870245</td>\n",
       "      <td>0.0</td>\n",
       "      <td>11.520000</td>\n",
       "      <td>6.877790</td>\n",
       "      <td>91.0</td>\n",
       "      <td>4.848486</td>\n",
       "    </tr>\n",
       "    <tr>\n",
       "      <th>1015</th>\n",
       "      <td>2023-05-13 06:00:00</td>\n",
       "      <td>12.340245</td>\n",
       "      <td>0.0</td>\n",
       "      <td>15.119999</td>\n",
       "      <td>8.209263</td>\n",
       "      <td>93.0</td>\n",
       "      <td>3.636364</td>\n",
       "    </tr>\n",
       "  </tbody>\n",
       "</table>\n",
       "</div>"
      ]
     },
     "execution_count": 7,
     "metadata": {},
     "output_type": "execute_result"
    }
   ],
   "execution_count": 7
  },
  {
   "cell_type": "markdown",
   "metadata": {},
   "source": [
    "### Работа со значениями"
   ]
  },
  {
   "cell_type": "code",
   "metadata": {
    "ExecuteTime": {
     "end_time": "2024-12-04T15:47:52.986188Z",
     "start_time": "2024-12-04T15:47:52.968145Z"
    }
   },
   "source": [
    "# Перевод порыва и скорости ветра в м/с и округление до 1 знака после запятой\n",
    "df[['wind_gust', 'wind_speed']] = (df[['wind_gust', 'wind_speed']] / 3.6).round(1)\n",
    "\n",
    "# Округление продолжительности солнечного сияния, температуры и облачности до целого\n",
    "df[['sunshine_duration', 'temperature', 'cloud_cover_total']] = df[['sunshine_duration', 'temperature', 'cloud_cover_total']].round().astype(int)\n",
    "\n",
    "df.iloc[1234:1240]"
   ],
   "outputs": [
    {
     "data": {
      "text/plain": [
       "                datetime  temperature  precipitation_total  wind_gust  \\\n",
       "1235 2023-05-22 10:00:00           23                  0.0        4.6   \n",
       "1236 2023-05-22 11:00:00           24                  0.0        5.1   \n",
       "1237 2023-05-22 12:00:00           25                  0.0        5.0   \n",
       "1238 2023-05-22 13:00:00           25                  0.1        5.0   \n",
       "1239 2023-05-22 14:00:00           26                  0.6        6.0   \n",
       "1240 2023-05-22 15:00:00           25                  0.5        6.4   \n",
       "\n",
       "      wind_speed  cloud_cover_total  sunshine_duration  \n",
       "1235         0.9                  8                 55  \n",
       "1236         1.1                  4                 58  \n",
       "1237         1.4                  4                 58  \n",
       "1238         1.9                  9                 55  \n",
       "1239         1.0                 18                 49  \n",
       "1240         1.1                 19                 48  "
      ],
      "text/html": [
       "<div>\n",
       "<style scoped>\n",
       "    .dataframe tbody tr th:only-of-type {\n",
       "        vertical-align: middle;\n",
       "    }\n",
       "\n",
       "    .dataframe tbody tr th {\n",
       "        vertical-align: top;\n",
       "    }\n",
       "\n",
       "    .dataframe thead th {\n",
       "        text-align: right;\n",
       "    }\n",
       "</style>\n",
       "<table border=\"1\" class=\"dataframe\">\n",
       "  <thead>\n",
       "    <tr style=\"text-align: right;\">\n",
       "      <th></th>\n",
       "      <th>datetime</th>\n",
       "      <th>temperature</th>\n",
       "      <th>precipitation_total</th>\n",
       "      <th>wind_gust</th>\n",
       "      <th>wind_speed</th>\n",
       "      <th>cloud_cover_total</th>\n",
       "      <th>sunshine_duration</th>\n",
       "    </tr>\n",
       "  </thead>\n",
       "  <tbody>\n",
       "    <tr>\n",
       "      <th>1235</th>\n",
       "      <td>2023-05-22 10:00:00</td>\n",
       "      <td>23</td>\n",
       "      <td>0.0</td>\n",
       "      <td>4.6</td>\n",
       "      <td>0.9</td>\n",
       "      <td>8</td>\n",
       "      <td>55</td>\n",
       "    </tr>\n",
       "    <tr>\n",
       "      <th>1236</th>\n",
       "      <td>2023-05-22 11:00:00</td>\n",
       "      <td>24</td>\n",
       "      <td>0.0</td>\n",
       "      <td>5.1</td>\n",
       "      <td>1.1</td>\n",
       "      <td>4</td>\n",
       "      <td>58</td>\n",
       "    </tr>\n",
       "    <tr>\n",
       "      <th>1237</th>\n",
       "      <td>2023-05-22 12:00:00</td>\n",
       "      <td>25</td>\n",
       "      <td>0.0</td>\n",
       "      <td>5.0</td>\n",
       "      <td>1.4</td>\n",
       "      <td>4</td>\n",
       "      <td>58</td>\n",
       "    </tr>\n",
       "    <tr>\n",
       "      <th>1238</th>\n",
       "      <td>2023-05-22 13:00:00</td>\n",
       "      <td>25</td>\n",
       "      <td>0.1</td>\n",
       "      <td>5.0</td>\n",
       "      <td>1.9</td>\n",
       "      <td>9</td>\n",
       "      <td>55</td>\n",
       "    </tr>\n",
       "    <tr>\n",
       "      <th>1239</th>\n",
       "      <td>2023-05-22 14:00:00</td>\n",
       "      <td>26</td>\n",
       "      <td>0.6</td>\n",
       "      <td>6.0</td>\n",
       "      <td>1.0</td>\n",
       "      <td>18</td>\n",
       "      <td>49</td>\n",
       "    </tr>\n",
       "    <tr>\n",
       "      <th>1240</th>\n",
       "      <td>2023-05-22 15:00:00</td>\n",
       "      <td>25</td>\n",
       "      <td>0.5</td>\n",
       "      <td>6.4</td>\n",
       "      <td>1.1</td>\n",
       "      <td>19</td>\n",
       "      <td>48</td>\n",
       "    </tr>\n",
       "  </tbody>\n",
       "</table>\n",
       "</div>"
      ]
     },
     "execution_count": 8,
     "metadata": {},
     "output_type": "execute_result"
    }
   ],
   "execution_count": 8
  },
  {
   "cell_type": "markdown",
   "metadata": {},
   "source": [
    "### Проверка на выбросы"
   ]
  },
  {
   "cell_type": "code",
   "metadata": {
    "ExecuteTime": {
     "end_time": "2024-12-04T15:48:00.395041Z",
     "start_time": "2024-12-04T15:48:00.370326Z"
    }
   },
   "source": [
    "df.describe()"
   ],
   "outputs": [
    {
     "data": {
      "text/plain": [
       "                            datetime  temperature  precipitation_total  \\\n",
       "count                           3672  3672.000000          3672.000000   \n",
       "mean   2023-06-16 11:30:00.000000256    18.087691             0.100218   \n",
       "min              2023-04-01 00:00:00    -2.000000             0.000000   \n",
       "25%              2023-05-09 05:45:00    13.000000             0.000000   \n",
       "50%              2023-06-16 11:30:00    18.000000             0.000000   \n",
       "75%              2023-07-24 17:15:00    23.000000             0.000000   \n",
       "max              2023-08-31 23:00:00    36.000000             5.800000   \n",
       "std                              NaN     6.838842             0.342384   \n",
       "\n",
       "         wind_gust   wind_speed  cloud_cover_total  sunshine_duration  \n",
       "count  3672.000000  3672.000000        3672.000000        3672.000000  \n",
       "mean      5.801825     2.039434          40.980664          21.543573  \n",
       "min       0.800000     0.000000           0.000000           0.000000  \n",
       "25%       3.700000     1.200000          15.000000           0.000000  \n",
       "50%       5.100000     1.700000          32.000000          15.000000  \n",
       "75%       7.300000     2.600000          67.000000          43.000000  \n",
       "max      19.800000     8.300000         100.000000          60.000000  \n",
       "std       2.899036     1.184241          31.313242          21.890226  "
      ],
      "text/html": [
       "<div>\n",
       "<style scoped>\n",
       "    .dataframe tbody tr th:only-of-type {\n",
       "        vertical-align: middle;\n",
       "    }\n",
       "\n",
       "    .dataframe tbody tr th {\n",
       "        vertical-align: top;\n",
       "    }\n",
       "\n",
       "    .dataframe thead th {\n",
       "        text-align: right;\n",
       "    }\n",
       "</style>\n",
       "<table border=\"1\" class=\"dataframe\">\n",
       "  <thead>\n",
       "    <tr style=\"text-align: right;\">\n",
       "      <th></th>\n",
       "      <th>datetime</th>\n",
       "      <th>temperature</th>\n",
       "      <th>precipitation_total</th>\n",
       "      <th>wind_gust</th>\n",
       "      <th>wind_speed</th>\n",
       "      <th>cloud_cover_total</th>\n",
       "      <th>sunshine_duration</th>\n",
       "    </tr>\n",
       "  </thead>\n",
       "  <tbody>\n",
       "    <tr>\n",
       "      <th>count</th>\n",
       "      <td>3672</td>\n",
       "      <td>3672.000000</td>\n",
       "      <td>3672.000000</td>\n",
       "      <td>3672.000000</td>\n",
       "      <td>3672.000000</td>\n",
       "      <td>3672.000000</td>\n",
       "      <td>3672.000000</td>\n",
       "    </tr>\n",
       "    <tr>\n",
       "      <th>mean</th>\n",
       "      <td>2023-06-16 11:30:00.000000256</td>\n",
       "      <td>18.087691</td>\n",
       "      <td>0.100218</td>\n",
       "      <td>5.801825</td>\n",
       "      <td>2.039434</td>\n",
       "      <td>40.980664</td>\n",
       "      <td>21.543573</td>\n",
       "    </tr>\n",
       "    <tr>\n",
       "      <th>min</th>\n",
       "      <td>2023-04-01 00:00:00</td>\n",
       "      <td>-2.000000</td>\n",
       "      <td>0.000000</td>\n",
       "      <td>0.800000</td>\n",
       "      <td>0.000000</td>\n",
       "      <td>0.000000</td>\n",
       "      <td>0.000000</td>\n",
       "    </tr>\n",
       "    <tr>\n",
       "      <th>25%</th>\n",
       "      <td>2023-05-09 05:45:00</td>\n",
       "      <td>13.000000</td>\n",
       "      <td>0.000000</td>\n",
       "      <td>3.700000</td>\n",
       "      <td>1.200000</td>\n",
       "      <td>15.000000</td>\n",
       "      <td>0.000000</td>\n",
       "    </tr>\n",
       "    <tr>\n",
       "      <th>50%</th>\n",
       "      <td>2023-06-16 11:30:00</td>\n",
       "      <td>18.000000</td>\n",
       "      <td>0.000000</td>\n",
       "      <td>5.100000</td>\n",
       "      <td>1.700000</td>\n",
       "      <td>32.000000</td>\n",
       "      <td>15.000000</td>\n",
       "    </tr>\n",
       "    <tr>\n",
       "      <th>75%</th>\n",
       "      <td>2023-07-24 17:15:00</td>\n",
       "      <td>23.000000</td>\n",
       "      <td>0.000000</td>\n",
       "      <td>7.300000</td>\n",
       "      <td>2.600000</td>\n",
       "      <td>67.000000</td>\n",
       "      <td>43.000000</td>\n",
       "    </tr>\n",
       "    <tr>\n",
       "      <th>max</th>\n",
       "      <td>2023-08-31 23:00:00</td>\n",
       "      <td>36.000000</td>\n",
       "      <td>5.800000</td>\n",
       "      <td>19.800000</td>\n",
       "      <td>8.300000</td>\n",
       "      <td>100.000000</td>\n",
       "      <td>60.000000</td>\n",
       "    </tr>\n",
       "    <tr>\n",
       "      <th>std</th>\n",
       "      <td>NaN</td>\n",
       "      <td>6.838842</td>\n",
       "      <td>0.342384</td>\n",
       "      <td>2.899036</td>\n",
       "      <td>1.184241</td>\n",
       "      <td>31.313242</td>\n",
       "      <td>21.890226</td>\n",
       "    </tr>\n",
       "  </tbody>\n",
       "</table>\n",
       "</div>"
      ]
     },
     "execution_count": 9,
     "metadata": {},
     "output_type": "execute_result"
    }
   ],
   "execution_count": 9
  },
  {
   "cell_type": "markdown",
   "metadata": {},
   "source": [
    "Все значения находятся в норме, выбросов не наблюдается"
   ]
  },
  {
   "cell_type": "markdown",
   "metadata": {},
   "source": [
    "### Выгрузка новой таблицы"
   ]
  },
  {
   "cell_type": "code",
   "metadata": {
    "ExecuteTime": {
     "end_time": "2024-12-04T15:49:13.478740Z",
     "start_time": "2024-12-04T15:49:13.460506Z"
    }
   },
   "source": [
    "new_units_of_measure = [\"\", \"°C\", \"mm\", \"m/s\", \"m/s\", \"%\", \"min\"] # Скорости теперь в м / с\n",
    "\n",
    "first_row = pd.DataFrame([new_units_of_measure], columns=df.columns, index=[0]) \n",
    "df = pd.concat([first_row, df], ignore_index=True) # Добавление в начало таблицы\n",
    "\n",
    "\n",
    "df.to_csv('processed_weather.csv', index=False)"
   ],
   "outputs": [],
   "execution_count": 10
  },
  {
   "cell_type": "markdown",
   "metadata": {},
   "source": [
    "## Предобработка данных о поездках"
   ]
  },
  {
   "cell_type": "code",
   "metadata": {
    "ExecuteTime": {
     "end_time": "2024-12-04T15:50:39.224382Z",
     "start_time": "2024-12-04T15:50:38.773514Z"
    }
   },
   "source": [
    "# Чтение данных и удаление первой строки с единицами измерения\n",
    "df = pd.read_csv('rides.csv', na_values=\"\", parse_dates=['Start Date', 'End Date'])\n",
    "\n",
    "# Названия колонок к PEP8\n",
    "df.columns = df.columns.str.replace(' ', '_').str.lower()\n",
    "    \n",
    "# Приводим значения направлений движения к единому формату\n",
    "df['end_district'] = df['end_district'].str.lower().str.strip().str.replace(\" \", '-')\n",
    "df['start_district'] = df['start_district'].str.lower().str.strip().str.replace(\" \", '-')\n",
    "\n",
    "# Приводим значения начальных и конечных точек к единому формату\n",
    "df['start_location'] = df['start_location'].str.lower().str.strip().str.replace(\".\", ' ').str.replace(\"  \", ' ')\n",
    "df['start_location'] = df['start_location'].str.replace('ул ', '')\n",
    "\n",
    "df['end_location'] = df['end_location'].str.lower().str.strip().str.replace(\".\", ' ').str.replace(\"  \", ' ')\n",
    "df['end_location'] = df['end_location'].str.replace('ул ', '')"
   ],
   "outputs": [],
   "execution_count": 11
  },
  {
   "cell_type": "markdown",
   "metadata": {},
   "source": [
    "### Проверка на дубликаты"
   ]
  },
  {
   "cell_type": "code",
   "metadata": {
    "ExecuteTime": {
     "end_time": "2024-12-04T15:50:44.645985Z",
     "start_time": "2024-12-04T15:50:44.573921Z"
    }
   },
   "source": [
    "df.duplicated().sum()"
   ],
   "outputs": [
    {
     "data": {
      "text/plain": [
       "4883"
      ]
     },
     "execution_count": 12,
     "metadata": {},
     "output_type": "execute_result"
    }
   ],
   "execution_count": 12
  },
  {
   "cell_type": "markdown",
   "metadata": {},
   "source": [
    "Данные, представленные в таблице rides.csv не должны дублироваться, поэтому удаляем дубликаты"
   ]
  },
  {
   "cell_type": "code",
   "metadata": {
    "ExecuteTime": {
     "end_time": "2024-12-04T15:50:53.360044Z",
     "start_time": "2024-12-04T15:50:53.299259Z"
    }
   },
   "source": [
    "df = df.drop_duplicates()\n",
    "df = df.reset_index(drop=True)"
   ],
   "outputs": [],
   "execution_count": 13
  },
  {
   "cell_type": "markdown",
   "metadata": {},
   "source": [
    "### Работа с пропусками"
   ]
  },
  {
   "cell_type": "code",
   "metadata": {
    "ExecuteTime": {
     "end_time": "2024-12-04T15:50:56.880998Z",
     "start_time": "2024-12-04T15:50:56.855226Z"
    }
   },
   "source": [
    "df.isna().sum() # Проверка наличия пропусков"
   ],
   "outputs": [
    {
     "data": {
      "text/plain": [
       "id                   0\n",
       "start_date           0\n",
       "end_date           555\n",
       "start_location       0\n",
       "start_district       0\n",
       "end_location         0\n",
       "end_district         0\n",
       "distance          1181\n",
       "promo                0\n",
       "dtype: int64"
      ]
     },
     "execution_count": 14,
     "metadata": {},
     "output_type": "execute_result"
    }
   ],
   "execution_count": 14
  },
  {
   "cell_type": "markdown",
   "metadata": {},
   "source": [
    "Наблюдаются пропуски с дате окончания поездки и дистанции поездки.\n",
    "\n",
    "* Пропуски в end_date будем заполнять на основании пройденной дистанции\n",
    "\n",
    "* Пропуски в distance будем заполнять на основании времени поездки"
   ]
  },
  {
   "cell_type": "markdown",
   "metadata": {},
   "source": [
    "#### Работа с пропусками в end_date"
   ]
  },
  {
   "cell_type": "markdown",
   "metadata": {},
   "source": [
    "Рассчитывать время конца поездки будем на основании медианы средней скорости во время пути и дистанции поездки.\n",
    "\n",
    "Формула: Конец_поездки = начало_поездки + (дистанция / медиана_средней_скорости)"
   ]
  },
  {
   "cell_type": "markdown",
   "metadata": {},
   "source": [
    "##### ДО"
   ]
  },
  {
   "cell_type": "code",
   "metadata": {
    "ExecuteTime": {
     "end_time": "2024-12-04T15:53:33.349300Z",
     "start_time": "2024-12-04T15:53:33.339314Z"
    }
   },
   "source": [
    "df.iloc[946:949]"
   ],
   "outputs": [
    {
     "data": {
      "text/plain": [
       "         id          start_date            end_date start_location  \\\n",
       "946  101286 2023-04-22 23:33:50                 NaT         чехова   \n",
       "947  101287 2023-04-22 23:35:04 2023-04-22 23:54:26      советская   \n",
       "948  101288 2023-04-22 23:36:43 2023-04-23 00:14:03         кирова   \n",
       "\n",
       "    start_district end_location end_district  distance  promo  \n",
       "946       заречный  октябрьская     заречный    2521.0      0  \n",
       "947    центральный     суворова    ленинский    3204.0      0  \n",
       "948      ленинский    буденного  октябрьский    3755.0      0  "
      ],
      "text/html": [
       "<div>\n",
       "<style scoped>\n",
       "    .dataframe tbody tr th:only-of-type {\n",
       "        vertical-align: middle;\n",
       "    }\n",
       "\n",
       "    .dataframe tbody tr th {\n",
       "        vertical-align: top;\n",
       "    }\n",
       "\n",
       "    .dataframe thead th {\n",
       "        text-align: right;\n",
       "    }\n",
       "</style>\n",
       "<table border=\"1\" class=\"dataframe\">\n",
       "  <thead>\n",
       "    <tr style=\"text-align: right;\">\n",
       "      <th></th>\n",
       "      <th>id</th>\n",
       "      <th>start_date</th>\n",
       "      <th>end_date</th>\n",
       "      <th>start_location</th>\n",
       "      <th>start_district</th>\n",
       "      <th>end_location</th>\n",
       "      <th>end_district</th>\n",
       "      <th>distance</th>\n",
       "      <th>promo</th>\n",
       "    </tr>\n",
       "  </thead>\n",
       "  <tbody>\n",
       "    <tr>\n",
       "      <th>946</th>\n",
       "      <td>101286</td>\n",
       "      <td>2023-04-22 23:33:50</td>\n",
       "      <td>NaT</td>\n",
       "      <td>чехова</td>\n",
       "      <td>заречный</td>\n",
       "      <td>октябрьская</td>\n",
       "      <td>заречный</td>\n",
       "      <td>2521.0</td>\n",
       "      <td>0</td>\n",
       "    </tr>\n",
       "    <tr>\n",
       "      <th>947</th>\n",
       "      <td>101287</td>\n",
       "      <td>2023-04-22 23:35:04</td>\n",
       "      <td>2023-04-22 23:54:26</td>\n",
       "      <td>советская</td>\n",
       "      <td>центральный</td>\n",
       "      <td>суворова</td>\n",
       "      <td>ленинский</td>\n",
       "      <td>3204.0</td>\n",
       "      <td>0</td>\n",
       "    </tr>\n",
       "    <tr>\n",
       "      <th>948</th>\n",
       "      <td>101288</td>\n",
       "      <td>2023-04-22 23:36:43</td>\n",
       "      <td>2023-04-23 00:14:03</td>\n",
       "      <td>кирова</td>\n",
       "      <td>ленинский</td>\n",
       "      <td>буденного</td>\n",
       "      <td>октябрьский</td>\n",
       "      <td>3755.0</td>\n",
       "      <td>0</td>\n",
       "    </tr>\n",
       "  </tbody>\n",
       "</table>\n",
       "</div>"
      ]
     },
     "execution_count": 15,
     "metadata": {},
     "output_type": "execute_result"
    }
   ],
   "execution_count": 15
  },
  {
   "cell_type": "markdown",
   "metadata": {},
   "source": [
    "##### ПОСЛЕ"
   ]
  },
  {
   "cell_type": "code",
   "metadata": {
    "ExecuteTime": {
     "end_time": "2024-12-04T15:53:36.931568Z",
     "start_time": "2024-12-04T15:53:35.523202Z"
    }
   },
   "source": [
    "# Создаем колонну ride_duration, которая содержит длительность поездки в минутах\n",
    "df['ride_duration'] = df.apply(lambda row: (row.end_date - row.start_date).seconds / 60, axis = 1)\n",
    "\n",
    "# Создаем колонку average_speed, которая хранит среднюю скорость на протяжении всего пути в км/ч\n",
    "df['average_speed'] = df.apply(lambda row: (row.distance / 1000) / (row.ride_duration / 60), axis=1)\n",
    "\n",
    "median_average_speed = df['average_speed'].median()\n",
    "\n",
    "# Заполнение пустых значений в столбце 'end_date'\n",
    "df['end_date'] = df['end_date'].fillna(\n",
    "    df['start_date'] + pd.to_timedelta((df['distance'] / 1000) / median_average_speed, unit='h')\n",
    ")\n",
    "\n",
    "df.iloc[946:949]"
   ],
   "outputs": [
    {
     "data": {
      "text/plain": [
       "         id          start_date                      end_date start_location  \\\n",
       "946  101286 2023-04-22 23:33:50 2023-04-22 23:50:25.672184098         чехова   \n",
       "947  101287 2023-04-22 23:35:04 2023-04-22 23:54:26.000000000      советская   \n",
       "948  101288 2023-04-22 23:36:43 2023-04-23 00:14:03.000000000         кирова   \n",
       "\n",
       "    start_district end_location end_district  distance  promo  ride_duration  \\\n",
       "946       заречный  октябрьская     заречный    2521.0      0            NaN   \n",
       "947    центральный     суворова    ленинский    3204.0      0      19.366667   \n",
       "948      ленинский    буденного  октябрьский    3755.0      0      37.333333   \n",
       "\n",
       "     average_speed  \n",
       "946            NaN  \n",
       "947       9.926334  \n",
       "948       6.034821  "
      ],
      "text/html": [
       "<div>\n",
       "<style scoped>\n",
       "    .dataframe tbody tr th:only-of-type {\n",
       "        vertical-align: middle;\n",
       "    }\n",
       "\n",
       "    .dataframe tbody tr th {\n",
       "        vertical-align: top;\n",
       "    }\n",
       "\n",
       "    .dataframe thead th {\n",
       "        text-align: right;\n",
       "    }\n",
       "</style>\n",
       "<table border=\"1\" class=\"dataframe\">\n",
       "  <thead>\n",
       "    <tr style=\"text-align: right;\">\n",
       "      <th></th>\n",
       "      <th>id</th>\n",
       "      <th>start_date</th>\n",
       "      <th>end_date</th>\n",
       "      <th>start_location</th>\n",
       "      <th>start_district</th>\n",
       "      <th>end_location</th>\n",
       "      <th>end_district</th>\n",
       "      <th>distance</th>\n",
       "      <th>promo</th>\n",
       "      <th>ride_duration</th>\n",
       "      <th>average_speed</th>\n",
       "    </tr>\n",
       "  </thead>\n",
       "  <tbody>\n",
       "    <tr>\n",
       "      <th>946</th>\n",
       "      <td>101286</td>\n",
       "      <td>2023-04-22 23:33:50</td>\n",
       "      <td>2023-04-22 23:50:25.672184098</td>\n",
       "      <td>чехова</td>\n",
       "      <td>заречный</td>\n",
       "      <td>октябрьская</td>\n",
       "      <td>заречный</td>\n",
       "      <td>2521.0</td>\n",
       "      <td>0</td>\n",
       "      <td>NaN</td>\n",
       "      <td>NaN</td>\n",
       "    </tr>\n",
       "    <tr>\n",
       "      <th>947</th>\n",
       "      <td>101287</td>\n",
       "      <td>2023-04-22 23:35:04</td>\n",
       "      <td>2023-04-22 23:54:26.000000000</td>\n",
       "      <td>советская</td>\n",
       "      <td>центральный</td>\n",
       "      <td>суворова</td>\n",
       "      <td>ленинский</td>\n",
       "      <td>3204.0</td>\n",
       "      <td>0</td>\n",
       "      <td>19.366667</td>\n",
       "      <td>9.926334</td>\n",
       "    </tr>\n",
       "    <tr>\n",
       "      <th>948</th>\n",
       "      <td>101288</td>\n",
       "      <td>2023-04-22 23:36:43</td>\n",
       "      <td>2023-04-23 00:14:03.000000000</td>\n",
       "      <td>кирова</td>\n",
       "      <td>ленинский</td>\n",
       "      <td>буденного</td>\n",
       "      <td>октябрьский</td>\n",
       "      <td>3755.0</td>\n",
       "      <td>0</td>\n",
       "      <td>37.333333</td>\n",
       "      <td>6.034821</td>\n",
       "    </tr>\n",
       "  </tbody>\n",
       "</table>\n",
       "</div>"
      ]
     },
     "execution_count": 16,
     "metadata": {},
     "output_type": "execute_result"
    }
   ],
   "execution_count": 16
  },
  {
   "cell_type": "markdown",
   "metadata": {},
   "source": [
    "#### Работа с пропусками в distance"
   ]
  },
  {
   "cell_type": "markdown",
   "metadata": {},
   "source": [
    "Рассчитывать дистанцию поездки будем на основании медианы средней скорости во время пути и длительности поездки.\n",
    "\n",
    "Формула: Дистанция = медиана_средней_скорости * время_поездки"
   ]
  },
  {
   "cell_type": "markdown",
   "metadata": {},
   "source": [
    "##### ДО"
   ]
  },
  {
   "cell_type": "code",
   "metadata": {
    "ExecuteTime": {
     "end_time": "2024-12-04T15:53:46.983754Z",
     "start_time": "2024-12-04T15:53:46.963168Z"
    }
   },
   "source": [
    "df.iloc[1130:1133]"
   ],
   "outputs": [
    {
     "data": {
      "text/plain": [
       "          id          start_date            end_date start_location  \\\n",
       "1130  101470 2023-04-23 11:26:28 2023-04-23 12:10:50         речная   \n",
       "1131  101471 2023-04-23 11:27:21 2023-04-23 11:47:01       комарова   \n",
       "1132  101472 2023-04-23 11:28:32 2023-04-23 11:50:19        майская   \n",
       "\n",
       "     start_district end_location   end_district  distance  promo  \\\n",
       "1130  юго-восточный   пионерская       заречный       NaN      0   \n",
       "1131      ленинский       дружбы    центральный    3581.0      0   \n",
       "1132    октябрьский   молодежная  юго-восточный    3082.0      0   \n",
       "\n",
       "      ride_duration  average_speed  \n",
       "1130      44.366667            NaN  \n",
       "1131      19.666667      10.925085  \n",
       "1132      21.783333       8.489059  "
      ],
      "text/html": [
       "<div>\n",
       "<style scoped>\n",
       "    .dataframe tbody tr th:only-of-type {\n",
       "        vertical-align: middle;\n",
       "    }\n",
       "\n",
       "    .dataframe tbody tr th {\n",
       "        vertical-align: top;\n",
       "    }\n",
       "\n",
       "    .dataframe thead th {\n",
       "        text-align: right;\n",
       "    }\n",
       "</style>\n",
       "<table border=\"1\" class=\"dataframe\">\n",
       "  <thead>\n",
       "    <tr style=\"text-align: right;\">\n",
       "      <th></th>\n",
       "      <th>id</th>\n",
       "      <th>start_date</th>\n",
       "      <th>end_date</th>\n",
       "      <th>start_location</th>\n",
       "      <th>start_district</th>\n",
       "      <th>end_location</th>\n",
       "      <th>end_district</th>\n",
       "      <th>distance</th>\n",
       "      <th>promo</th>\n",
       "      <th>ride_duration</th>\n",
       "      <th>average_speed</th>\n",
       "    </tr>\n",
       "  </thead>\n",
       "  <tbody>\n",
       "    <tr>\n",
       "      <th>1130</th>\n",
       "      <td>101470</td>\n",
       "      <td>2023-04-23 11:26:28</td>\n",
       "      <td>2023-04-23 12:10:50</td>\n",
       "      <td>речная</td>\n",
       "      <td>юго-восточный</td>\n",
       "      <td>пионерская</td>\n",
       "      <td>заречный</td>\n",
       "      <td>NaN</td>\n",
       "      <td>0</td>\n",
       "      <td>44.366667</td>\n",
       "      <td>NaN</td>\n",
       "    </tr>\n",
       "    <tr>\n",
       "      <th>1131</th>\n",
       "      <td>101471</td>\n",
       "      <td>2023-04-23 11:27:21</td>\n",
       "      <td>2023-04-23 11:47:01</td>\n",
       "      <td>комарова</td>\n",
       "      <td>ленинский</td>\n",
       "      <td>дружбы</td>\n",
       "      <td>центральный</td>\n",
       "      <td>3581.0</td>\n",
       "      <td>0</td>\n",
       "      <td>19.666667</td>\n",
       "      <td>10.925085</td>\n",
       "    </tr>\n",
       "    <tr>\n",
       "      <th>1132</th>\n",
       "      <td>101472</td>\n",
       "      <td>2023-04-23 11:28:32</td>\n",
       "      <td>2023-04-23 11:50:19</td>\n",
       "      <td>майская</td>\n",
       "      <td>октябрьский</td>\n",
       "      <td>молодежная</td>\n",
       "      <td>юго-восточный</td>\n",
       "      <td>3082.0</td>\n",
       "      <td>0</td>\n",
       "      <td>21.783333</td>\n",
       "      <td>8.489059</td>\n",
       "    </tr>\n",
       "  </tbody>\n",
       "</table>\n",
       "</div>"
      ]
     },
     "execution_count": 17,
     "metadata": {},
     "output_type": "execute_result"
    }
   ],
   "execution_count": 17
  },
  {
   "cell_type": "markdown",
   "metadata": {},
   "source": [
    "##### ПОСЛЕ"
   ]
  },
  {
   "cell_type": "code",
   "metadata": {
    "ExecuteTime": {
     "end_time": "2024-12-04T15:53:47.952798Z",
     "start_time": "2024-12-04T15:53:47.943075Z"
    }
   },
   "source": [
    "# Заполнение пустых значений в столбце 'distance'\n",
    "df['distance'] = df['distance'].fillna(median_average_speed * (df['ride_duration'] / 60) * 1000)\n",
    "\n",
    "df.iloc[1130:1133]"
   ],
   "outputs": [
    {
     "data": {
      "text/plain": [
       "          id          start_date            end_date start_location  \\\n",
       "1130  101470 2023-04-23 11:26:28 2023-04-23 12:10:50         речная   \n",
       "1131  101471 2023-04-23 11:27:21 2023-04-23 11:47:01       комарова   \n",
       "1132  101472 2023-04-23 11:28:32 2023-04-23 11:50:19        майская   \n",
       "\n",
       "     start_district end_location   end_district    distance  promo  \\\n",
       "1130  юго-восточный   пионерская       заречный  6740.07179      0   \n",
       "1131      ленинский       дружбы    центральный  3581.00000      0   \n",
       "1132    октябрьский   молодежная  юго-восточный  3082.00000      0   \n",
       "\n",
       "      ride_duration  average_speed  \n",
       "1130      44.366667            NaN  \n",
       "1131      19.666667      10.925085  \n",
       "1132      21.783333       8.489059  "
      ],
      "text/html": [
       "<div>\n",
       "<style scoped>\n",
       "    .dataframe tbody tr th:only-of-type {\n",
       "        vertical-align: middle;\n",
       "    }\n",
       "\n",
       "    .dataframe tbody tr th {\n",
       "        vertical-align: top;\n",
       "    }\n",
       "\n",
       "    .dataframe thead th {\n",
       "        text-align: right;\n",
       "    }\n",
       "</style>\n",
       "<table border=\"1\" class=\"dataframe\">\n",
       "  <thead>\n",
       "    <tr style=\"text-align: right;\">\n",
       "      <th></th>\n",
       "      <th>id</th>\n",
       "      <th>start_date</th>\n",
       "      <th>end_date</th>\n",
       "      <th>start_location</th>\n",
       "      <th>start_district</th>\n",
       "      <th>end_location</th>\n",
       "      <th>end_district</th>\n",
       "      <th>distance</th>\n",
       "      <th>promo</th>\n",
       "      <th>ride_duration</th>\n",
       "      <th>average_speed</th>\n",
       "    </tr>\n",
       "  </thead>\n",
       "  <tbody>\n",
       "    <tr>\n",
       "      <th>1130</th>\n",
       "      <td>101470</td>\n",
       "      <td>2023-04-23 11:26:28</td>\n",
       "      <td>2023-04-23 12:10:50</td>\n",
       "      <td>речная</td>\n",
       "      <td>юго-восточный</td>\n",
       "      <td>пионерская</td>\n",
       "      <td>заречный</td>\n",
       "      <td>6740.07179</td>\n",
       "      <td>0</td>\n",
       "      <td>44.366667</td>\n",
       "      <td>NaN</td>\n",
       "    </tr>\n",
       "    <tr>\n",
       "      <th>1131</th>\n",
       "      <td>101471</td>\n",
       "      <td>2023-04-23 11:27:21</td>\n",
       "      <td>2023-04-23 11:47:01</td>\n",
       "      <td>комарова</td>\n",
       "      <td>ленинский</td>\n",
       "      <td>дружбы</td>\n",
       "      <td>центральный</td>\n",
       "      <td>3581.00000</td>\n",
       "      <td>0</td>\n",
       "      <td>19.666667</td>\n",
       "      <td>10.925085</td>\n",
       "    </tr>\n",
       "    <tr>\n",
       "      <th>1132</th>\n",
       "      <td>101472</td>\n",
       "      <td>2023-04-23 11:28:32</td>\n",
       "      <td>2023-04-23 11:50:19</td>\n",
       "      <td>майская</td>\n",
       "      <td>октябрьский</td>\n",
       "      <td>молодежная</td>\n",
       "      <td>юго-восточный</td>\n",
       "      <td>3082.00000</td>\n",
       "      <td>0</td>\n",
       "      <td>21.783333</td>\n",
       "      <td>8.489059</td>\n",
       "    </tr>\n",
       "  </tbody>\n",
       "</table>\n",
       "</div>"
      ]
     },
     "execution_count": 18,
     "metadata": {},
     "output_type": "execute_result"
    }
   ],
   "execution_count": 18
  },
  {
   "cell_type": "markdown",
   "metadata": {},
   "source": [
    "#### Проверка работы"
   ]
  },
  {
   "cell_type": "code",
   "metadata": {
    "ExecuteTime": {
     "end_time": "2024-12-04T15:53:50.126383Z",
     "start_time": "2024-12-04T15:53:50.098406Z"
    }
   },
   "source": [
    "df = df.drop(['ride_duration', 'average_speed'], axis=1) # Удаляем уже ненужные стоблцы\n",
    "\n",
    "df.isna().sum() # Проверка наличия пропусков"
   ],
   "outputs": [
    {
     "data": {
      "text/plain": [
       "id                0\n",
       "start_date        0\n",
       "end_date          0\n",
       "start_location    0\n",
       "start_district    0\n",
       "end_location      0\n",
       "end_district      0\n",
       "distance          0\n",
       "promo             0\n",
       "dtype: int64"
      ]
     },
     "execution_count": 19,
     "metadata": {},
     "output_type": "execute_result"
    }
   ],
   "execution_count": 19
  },
  {
   "cell_type": "markdown",
   "metadata": {},
   "source": [
    "### Проверка на выбросы"
   ]
  },
  {
   "cell_type": "code",
   "metadata": {
    "ExecuteTime": {
     "end_time": "2024-12-04T15:53:51.829952Z",
     "start_time": "2024-12-04T15:53:51.808344Z"
    }
   },
   "source": [
    "pd.set_option('display.float_format', '{:.2f}'.format)\n",
    "df.describe()"
   ],
   "outputs": [
    {
     "data": {
      "text/plain": [
       "             id                     start_date                       end_date  \\\n",
       "count  97372.00                          97372                          97372   \n",
       "mean  149025.50  2023-06-13 21:06:08.931407360  2023-06-13 21:33:03.576468480   \n",
       "min   100340.00            2023-04-22 09:01:03            2023-04-22 09:24:45   \n",
       "25%   124682.75     2023-05-20 21:41:39.500000            2023-05-20 22:07:59   \n",
       "50%   149025.50            2023-06-14 15:15:46            2023-06-14 15:44:53   \n",
       "75%   173368.25  2023-07-08 19:50:22.249999872            2023-07-08 20:18:30   \n",
       "max   197711.00            2023-07-31 23:57:01  2023-08-14 07:25:37.719536260   \n",
       "std    28109.02                            NaN                            NaN   \n",
       "\n",
       "        distance    promo  \n",
       "count   97372.00 97372.00  \n",
       "mean    26998.68     0.02  \n",
       "min         1.00     0.00  \n",
       "25%      3044.00     0.00  \n",
       "50%      3703.00     0.00  \n",
       "75%      4433.00     0.00  \n",
       "max   7569789.00     1.00  \n",
       "std    307435.12     0.14  "
      ],
      "text/html": [
       "<div>\n",
       "<style scoped>\n",
       "    .dataframe tbody tr th:only-of-type {\n",
       "        vertical-align: middle;\n",
       "    }\n",
       "\n",
       "    .dataframe tbody tr th {\n",
       "        vertical-align: top;\n",
       "    }\n",
       "\n",
       "    .dataframe thead th {\n",
       "        text-align: right;\n",
       "    }\n",
       "</style>\n",
       "<table border=\"1\" class=\"dataframe\">\n",
       "  <thead>\n",
       "    <tr style=\"text-align: right;\">\n",
       "      <th></th>\n",
       "      <th>id</th>\n",
       "      <th>start_date</th>\n",
       "      <th>end_date</th>\n",
       "      <th>distance</th>\n",
       "      <th>promo</th>\n",
       "    </tr>\n",
       "  </thead>\n",
       "  <tbody>\n",
       "    <tr>\n",
       "      <th>count</th>\n",
       "      <td>97372.00</td>\n",
       "      <td>97372</td>\n",
       "      <td>97372</td>\n",
       "      <td>97372.00</td>\n",
       "      <td>97372.00</td>\n",
       "    </tr>\n",
       "    <tr>\n",
       "      <th>mean</th>\n",
       "      <td>149025.50</td>\n",
       "      <td>2023-06-13 21:06:08.931407360</td>\n",
       "      <td>2023-06-13 21:33:03.576468480</td>\n",
       "      <td>26998.68</td>\n",
       "      <td>0.02</td>\n",
       "    </tr>\n",
       "    <tr>\n",
       "      <th>min</th>\n",
       "      <td>100340.00</td>\n",
       "      <td>2023-04-22 09:01:03</td>\n",
       "      <td>2023-04-22 09:24:45</td>\n",
       "      <td>1.00</td>\n",
       "      <td>0.00</td>\n",
       "    </tr>\n",
       "    <tr>\n",
       "      <th>25%</th>\n",
       "      <td>124682.75</td>\n",
       "      <td>2023-05-20 21:41:39.500000</td>\n",
       "      <td>2023-05-20 22:07:59</td>\n",
       "      <td>3044.00</td>\n",
       "      <td>0.00</td>\n",
       "    </tr>\n",
       "    <tr>\n",
       "      <th>50%</th>\n",
       "      <td>149025.50</td>\n",
       "      <td>2023-06-14 15:15:46</td>\n",
       "      <td>2023-06-14 15:44:53</td>\n",
       "      <td>3703.00</td>\n",
       "      <td>0.00</td>\n",
       "    </tr>\n",
       "    <tr>\n",
       "      <th>75%</th>\n",
       "      <td>173368.25</td>\n",
       "      <td>2023-07-08 19:50:22.249999872</td>\n",
       "      <td>2023-07-08 20:18:30</td>\n",
       "      <td>4433.00</td>\n",
       "      <td>0.00</td>\n",
       "    </tr>\n",
       "    <tr>\n",
       "      <th>max</th>\n",
       "      <td>197711.00</td>\n",
       "      <td>2023-07-31 23:57:01</td>\n",
       "      <td>2023-08-14 07:25:37.719536260</td>\n",
       "      <td>7569789.00</td>\n",
       "      <td>1.00</td>\n",
       "    </tr>\n",
       "    <tr>\n",
       "      <th>std</th>\n",
       "      <td>28109.02</td>\n",
       "      <td>NaN</td>\n",
       "      <td>NaN</td>\n",
       "      <td>307435.12</td>\n",
       "      <td>0.14</td>\n",
       "    </tr>\n",
       "  </tbody>\n",
       "</table>\n",
       "</div>"
      ]
     },
     "execution_count": 20,
     "metadata": {},
     "output_type": "execute_result"
    }
   ],
   "execution_count": 20
  },
  {
   "cell_type": "markdown",
   "metadata": {},
   "source": [
    "В distance присутствуют очень сильные выбросы, вероятно, они вызваны ошибками в показаниях датчиков"
   ]
  },
  {
   "cell_type": "markdown",
   "metadata": {},
   "source": [
    "Так как выбросы в distance аномально большие или маленькие, то самым простым способом будет вручную отфильтровать выбросы и исправить ошибочные значения, не прибегая к интерквартильному размаху или стандартным отклонениям\n",
    "\n",
    "Выбросы будем исправлять по аналогии с пропусками.\n",
    "\n",
    "Некоторые строки с выбросами также содержали пустые данные и на этапе заполнения пустых данных, заполненные пропуски тоже получили некорректные значения. При условии, что один из параметров выброс, а другой был пропущен - мы не можем восстановить данные, следовательно придется их удалить."
   ]
  },
  {
   "cell_type": "code",
   "metadata": {
    "ExecuteTime": {
     "end_time": "2024-12-04T15:54:32.206926Z",
     "start_time": "2024-12-04T15:54:31.419589Z"
    }
   },
   "source": [
    "# Обновляем значения в колонке ride_duration\n",
    "df['ride_duration'] = df.apply(lambda row: (row.end_date - row.start_date).seconds / 60, axis=1)\n",
    "\n",
    "# Удаляем значения, которые невозможно восстановить и обновляем индексацию\n",
    "df = df[(df['ride_duration'] < 90) & (df['ride_duration'] > 10)]\n",
    "df = df.reset_index(drop=True)"
   ],
   "outputs": [],
   "execution_count": 21
  },
  {
   "cell_type": "markdown",
   "metadata": {},
   "source": [
    "##### ДО"
   ]
  },
  {
   "cell_type": "code",
   "metadata": {
    "ExecuteTime": {
     "end_time": "2024-12-04T15:54:41.405144Z",
     "start_time": "2024-12-04T15:54:41.384692Z"
    }
   },
   "source": [
    "df.iloc[954:957]"
   ],
   "outputs": [
    {
     "data": {
      "text/plain": [
       "         id          start_date            end_date start_location  \\\n",
       "954  101299 2023-04-22 23:54:39 2023-04-23 00:23:58         дачная   \n",
       "955  101300 2023-04-22 23:58:02 2023-04-23 00:20:51       заречная   \n",
       "956  101301 2023-04-22 23:58:44 2023-04-23 00:22:00      подгорная   \n",
       "\n",
       "    start_district end_location   end_district   distance  promo  \\\n",
       "954    центральный      свободы      ленинский 4273850.00      0   \n",
       "955  юго-восточный   спортивная    октябрьский    3186.00      0   \n",
       "956      ленинский      озерная  юго-восточный    4679.00      0   \n",
       "\n",
       "     ride_duration  \n",
       "954          29.32  \n",
       "955          22.82  \n",
       "956          23.27  "
      ],
      "text/html": [
       "<div>\n",
       "<style scoped>\n",
       "    .dataframe tbody tr th:only-of-type {\n",
       "        vertical-align: middle;\n",
       "    }\n",
       "\n",
       "    .dataframe tbody tr th {\n",
       "        vertical-align: top;\n",
       "    }\n",
       "\n",
       "    .dataframe thead th {\n",
       "        text-align: right;\n",
       "    }\n",
       "</style>\n",
       "<table border=\"1\" class=\"dataframe\">\n",
       "  <thead>\n",
       "    <tr style=\"text-align: right;\">\n",
       "      <th></th>\n",
       "      <th>id</th>\n",
       "      <th>start_date</th>\n",
       "      <th>end_date</th>\n",
       "      <th>start_location</th>\n",
       "      <th>start_district</th>\n",
       "      <th>end_location</th>\n",
       "      <th>end_district</th>\n",
       "      <th>distance</th>\n",
       "      <th>promo</th>\n",
       "      <th>ride_duration</th>\n",
       "    </tr>\n",
       "  </thead>\n",
       "  <tbody>\n",
       "    <tr>\n",
       "      <th>954</th>\n",
       "      <td>101299</td>\n",
       "      <td>2023-04-22 23:54:39</td>\n",
       "      <td>2023-04-23 00:23:58</td>\n",
       "      <td>дачная</td>\n",
       "      <td>центральный</td>\n",
       "      <td>свободы</td>\n",
       "      <td>ленинский</td>\n",
       "      <td>4273850.00</td>\n",
       "      <td>0</td>\n",
       "      <td>29.32</td>\n",
       "    </tr>\n",
       "    <tr>\n",
       "      <th>955</th>\n",
       "      <td>101300</td>\n",
       "      <td>2023-04-22 23:58:02</td>\n",
       "      <td>2023-04-23 00:20:51</td>\n",
       "      <td>заречная</td>\n",
       "      <td>юго-восточный</td>\n",
       "      <td>спортивная</td>\n",
       "      <td>октябрьский</td>\n",
       "      <td>3186.00</td>\n",
       "      <td>0</td>\n",
       "      <td>22.82</td>\n",
       "    </tr>\n",
       "    <tr>\n",
       "      <th>956</th>\n",
       "      <td>101301</td>\n",
       "      <td>2023-04-22 23:58:44</td>\n",
       "      <td>2023-04-23 00:22:00</td>\n",
       "      <td>подгорная</td>\n",
       "      <td>ленинский</td>\n",
       "      <td>озерная</td>\n",
       "      <td>юго-восточный</td>\n",
       "      <td>4679.00</td>\n",
       "      <td>0</td>\n",
       "      <td>23.27</td>\n",
       "    </tr>\n",
       "  </tbody>\n",
       "</table>\n",
       "</div>"
      ]
     },
     "execution_count": 22,
     "metadata": {},
     "output_type": "execute_result"
    }
   ],
   "execution_count": 22
  },
  {
   "cell_type": "markdown",
   "metadata": {},
   "source": [
    "##### ПОСЛЕ"
   ]
  },
  {
   "cell_type": "code",
   "metadata": {
    "ExecuteTime": {
     "end_time": "2024-12-04T15:54:47.847927Z",
     "start_time": "2024-12-04T15:54:47.834965Z"
    }
   },
   "source": [
    "# Заменяем выбросы в соответствии с формулой\n",
    "df['distance'] = df['distance'].where(\n",
    "    (df['distance'] >= 10) & (df['distance'] <= 50000), \n",
    "    median_average_speed * (df['ride_duration'] / 60) * 1000\n",
    ").round().astype(int)\n",
    "\n",
    "df.iloc[954:957]"
   ],
   "outputs": [
    {
     "data": {
      "text/plain": [
       "         id          start_date            end_date start_location  \\\n",
       "954  101299 2023-04-22 23:54:39 2023-04-23 00:23:58         дачная   \n",
       "955  101300 2023-04-22 23:58:02 2023-04-23 00:20:51       заречная   \n",
       "956  101301 2023-04-22 23:58:44 2023-04-23 00:22:00      подгорная   \n",
       "\n",
       "    start_district end_location   end_district  distance  promo  ride_duration  \n",
       "954    центральный      свободы      ленинский      4454      0          29.32  \n",
       "955  юго-восточный   спортивная    октябрьский      3186      0          22.82  \n",
       "956      ленинский      озерная  юго-восточный      4679      0          23.27  "
      ],
      "text/html": [
       "<div>\n",
       "<style scoped>\n",
       "    .dataframe tbody tr th:only-of-type {\n",
       "        vertical-align: middle;\n",
       "    }\n",
       "\n",
       "    .dataframe tbody tr th {\n",
       "        vertical-align: top;\n",
       "    }\n",
       "\n",
       "    .dataframe thead th {\n",
       "        text-align: right;\n",
       "    }\n",
       "</style>\n",
       "<table border=\"1\" class=\"dataframe\">\n",
       "  <thead>\n",
       "    <tr style=\"text-align: right;\">\n",
       "      <th></th>\n",
       "      <th>id</th>\n",
       "      <th>start_date</th>\n",
       "      <th>end_date</th>\n",
       "      <th>start_location</th>\n",
       "      <th>start_district</th>\n",
       "      <th>end_location</th>\n",
       "      <th>end_district</th>\n",
       "      <th>distance</th>\n",
       "      <th>promo</th>\n",
       "      <th>ride_duration</th>\n",
       "    </tr>\n",
       "  </thead>\n",
       "  <tbody>\n",
       "    <tr>\n",
       "      <th>954</th>\n",
       "      <td>101299</td>\n",
       "      <td>2023-04-22 23:54:39</td>\n",
       "      <td>2023-04-23 00:23:58</td>\n",
       "      <td>дачная</td>\n",
       "      <td>центральный</td>\n",
       "      <td>свободы</td>\n",
       "      <td>ленинский</td>\n",
       "      <td>4454</td>\n",
       "      <td>0</td>\n",
       "      <td>29.32</td>\n",
       "    </tr>\n",
       "    <tr>\n",
       "      <th>955</th>\n",
       "      <td>101300</td>\n",
       "      <td>2023-04-22 23:58:02</td>\n",
       "      <td>2023-04-23 00:20:51</td>\n",
       "      <td>заречная</td>\n",
       "      <td>юго-восточный</td>\n",
       "      <td>спортивная</td>\n",
       "      <td>октябрьский</td>\n",
       "      <td>3186</td>\n",
       "      <td>0</td>\n",
       "      <td>22.82</td>\n",
       "    </tr>\n",
       "    <tr>\n",
       "      <th>956</th>\n",
       "      <td>101301</td>\n",
       "      <td>2023-04-22 23:58:44</td>\n",
       "      <td>2023-04-23 00:22:00</td>\n",
       "      <td>подгорная</td>\n",
       "      <td>ленинский</td>\n",
       "      <td>озерная</td>\n",
       "      <td>юго-восточный</td>\n",
       "      <td>4679</td>\n",
       "      <td>0</td>\n",
       "      <td>23.27</td>\n",
       "    </tr>\n",
       "  </tbody>\n",
       "</table>\n",
       "</div>"
      ]
     },
     "execution_count": 23,
     "metadata": {},
     "output_type": "execute_result"
    }
   ],
   "execution_count": 23
  },
  {
   "cell_type": "markdown",
   "metadata": {},
   "source": [
    "#### Проверка работы"
   ]
  },
  {
   "cell_type": "code",
   "metadata": {
    "ExecuteTime": {
     "end_time": "2024-12-04T15:54:50.183565Z",
     "start_time": "2024-12-04T15:54:50.167435Z"
    }
   },
   "source": [
    "# Удаляем теперь ненужные колонны таблицы\n",
    "df = df.drop(['ride_duration'], axis=1) \n",
    "\n",
    "df.describe()"
   ],
   "outputs": [
    {
     "data": {
      "text/plain": [
       "             id                     start_date                       end_date  \\\n",
       "count  96638.00                          96638                          96638   \n",
       "mean  149020.97  2023-06-13 20:58:56.413264128  2023-06-13 21:25:26.435115264   \n",
       "min   100340.00            2023-04-22 09:01:03            2023-04-22 09:24:45   \n",
       "25%   124672.25  2023-05-20 21:32:31.750000128            2023-05-20 21:58:06   \n",
       "50%   149018.50            2023-06-14 15:08:45     2023-06-14 15:37:43.500000   \n",
       "75%   173376.75     2023-07-08 19:55:47.500000     2023-07-08 20:21:19.500000   \n",
       "max   197711.00            2023-07-31 23:57:01            2023-08-01 00:42:12   \n",
       "std    28113.79                            NaN                            NaN   \n",
       "\n",
       "       distance    promo  \n",
       "count  96638.00 96638.00  \n",
       "mean    3845.82     0.02  \n",
       "min     1094.00     0.00  \n",
       "25%     3119.00     0.00  \n",
       "50%     3743.00     0.00  \n",
       "75%     4456.00     0.00  \n",
       "max    12675.00     1.00  \n",
       "std     1036.42     0.14  "
      ],
      "text/html": [
       "<div>\n",
       "<style scoped>\n",
       "    .dataframe tbody tr th:only-of-type {\n",
       "        vertical-align: middle;\n",
       "    }\n",
       "\n",
       "    .dataframe tbody tr th {\n",
       "        vertical-align: top;\n",
       "    }\n",
       "\n",
       "    .dataframe thead th {\n",
       "        text-align: right;\n",
       "    }\n",
       "</style>\n",
       "<table border=\"1\" class=\"dataframe\">\n",
       "  <thead>\n",
       "    <tr style=\"text-align: right;\">\n",
       "      <th></th>\n",
       "      <th>id</th>\n",
       "      <th>start_date</th>\n",
       "      <th>end_date</th>\n",
       "      <th>distance</th>\n",
       "      <th>promo</th>\n",
       "    </tr>\n",
       "  </thead>\n",
       "  <tbody>\n",
       "    <tr>\n",
       "      <th>count</th>\n",
       "      <td>96638.00</td>\n",
       "      <td>96638</td>\n",
       "      <td>96638</td>\n",
       "      <td>96638.00</td>\n",
       "      <td>96638.00</td>\n",
       "    </tr>\n",
       "    <tr>\n",
       "      <th>mean</th>\n",
       "      <td>149020.97</td>\n",
       "      <td>2023-06-13 20:58:56.413264128</td>\n",
       "      <td>2023-06-13 21:25:26.435115264</td>\n",
       "      <td>3845.82</td>\n",
       "      <td>0.02</td>\n",
       "    </tr>\n",
       "    <tr>\n",
       "      <th>min</th>\n",
       "      <td>100340.00</td>\n",
       "      <td>2023-04-22 09:01:03</td>\n",
       "      <td>2023-04-22 09:24:45</td>\n",
       "      <td>1094.00</td>\n",
       "      <td>0.00</td>\n",
       "    </tr>\n",
       "    <tr>\n",
       "      <th>25%</th>\n",
       "      <td>124672.25</td>\n",
       "      <td>2023-05-20 21:32:31.750000128</td>\n",
       "      <td>2023-05-20 21:58:06</td>\n",
       "      <td>3119.00</td>\n",
       "      <td>0.00</td>\n",
       "    </tr>\n",
       "    <tr>\n",
       "      <th>50%</th>\n",
       "      <td>149018.50</td>\n",
       "      <td>2023-06-14 15:08:45</td>\n",
       "      <td>2023-06-14 15:37:43.500000</td>\n",
       "      <td>3743.00</td>\n",
       "      <td>0.00</td>\n",
       "    </tr>\n",
       "    <tr>\n",
       "      <th>75%</th>\n",
       "      <td>173376.75</td>\n",
       "      <td>2023-07-08 19:55:47.500000</td>\n",
       "      <td>2023-07-08 20:21:19.500000</td>\n",
       "      <td>4456.00</td>\n",
       "      <td>0.00</td>\n",
       "    </tr>\n",
       "    <tr>\n",
       "      <th>max</th>\n",
       "      <td>197711.00</td>\n",
       "      <td>2023-07-31 23:57:01</td>\n",
       "      <td>2023-08-01 00:42:12</td>\n",
       "      <td>12675.00</td>\n",
       "      <td>1.00</td>\n",
       "    </tr>\n",
       "    <tr>\n",
       "      <th>std</th>\n",
       "      <td>28113.79</td>\n",
       "      <td>NaN</td>\n",
       "      <td>NaN</td>\n",
       "      <td>1036.42</td>\n",
       "      <td>0.14</td>\n",
       "    </tr>\n",
       "  </tbody>\n",
       "</table>\n",
       "</div>"
      ]
     },
     "execution_count": 24,
     "metadata": {},
     "output_type": "execute_result"
    }
   ],
   "execution_count": 24
  },
  {
   "cell_type": "markdown",
   "metadata": {},
   "source": [
    "### Выгрузка новой таблицы"
   ]
  },
  {
   "cell_type": "code",
   "metadata": {
    "ExecuteTime": {
     "end_time": "2024-12-04T15:54:56.435858Z",
     "start_time": "2024-12-04T15:54:56.128882Z"
    }
   },
   "source": [
    "# Приводим дистанцию к целочисленному типу\n",
    "df['distance'] = df['distance'].astype(int)\n",
    "\n",
    "df.to_csv('processed_rides.csv', index=False, date_format='%Y-%m-%d %H:%M:%S')"
   ],
   "outputs": [],
   "execution_count": 25
  },
  {
   "cell_type": "markdown",
   "metadata": {},
   "source": [
    "## Объединение таблиц"
   ]
  },
  {
   "cell_type": "markdown",
   "metadata": {},
   "source": [
    "Для более удобного анализа данных стоит объединить имеющиеся таблицы"
   ]
  },
  {
   "cell_type": "code",
   "metadata": {
    "ExecuteTime": {
     "end_time": "2024-12-04T15:55:03.892087Z",
     "start_time": "2024-12-04T15:55:03.217823Z"
    }
   },
   "source": [
    "rides_df = pd.read_csv('processed_rides.csv', parse_dates=['start_date', 'end_date'])\n",
    "weather_df = pd.read_csv('processed_weather.csv', parse_dates=['datetime']).drop(index=0, axis=1)\n",
    "\n",
    "rides_df['rounded_start_time'] = rides_df['start_date'].dt.round('h')\n",
    "\n",
    "\n",
    "merge_df = pd.merge_asof(\n",
    "    rides_df.sort_values('rounded_start_time'), \n",
    "    weather_df.sort_values('datetime'), \n",
    "    left_on='rounded_start_time', \n",
    "    right_on='datetime', \n",
    "    direction='backward'\n",
    ")\n",
    "\n",
    "merge_df = merge_df.drop('rounded_start_time', axis=1)\n",
    "\n",
    "merge_df.to_csv('rides_&_weather.csv', index=False)"
   ],
   "outputs": [],
   "execution_count": 26
  },
  {
   "cell_type": "markdown",
   "metadata": {},
   "source": [
    "## Проведение расчетов и иссследований"
   ]
  },
  {
   "cell_type": "markdown",
   "metadata": {},
   "source": [
    "### 1. Расчет итоговой стоимости"
   ]
  },
  {
   "cell_type": "markdown",
   "metadata": {},
   "source": [
    "![alt text](image.png)"
   ]
  },
  {
   "metadata": {},
   "cell_type": "markdown",
   "source": "![alt text](img.png)"
  },
  {
   "cell_type": "code",
   "metadata": {
    "ExecuteTime": {
     "end_time": "2024-12-06T20:01:40.401398Z",
     "start_time": "2024-12-06T20:01:40.170131Z"
    }
   },
   "source": [
    "data = pd.read_csv('rides_&_weather.csv',\n",
    "                         na_values=\"\", parse_dates=['start_date', 'end_date', 'datetime']\n",
    "                         )"
   ],
   "outputs": [],
   "execution_count": 49
  },
  {
   "metadata": {
    "ExecuteTime": {
     "end_time": "2024-12-06T20:01:40.630510Z",
     "start_time": "2024-12-06T20:01:40.621914Z"
    }
   },
   "cell_type": "code",
   "source": [
    "data['week'] = data['datetime'].dt.weekday\n",
    "data['dt'] = (data['end_date'] - data['start_date'])\n",
    "data['dt'] = data['dt'].dt.total_seconds() // 60"
   ],
   "outputs": [],
   "execution_count": 50
  },
  {
   "metadata": {
    "ExecuteTime": {
     "end_time": "2024-12-06T20:01:41.365324Z",
     "start_time": "2024-12-06T20:01:41.360937Z"
    }
   },
   "cell_type": "code",
   "source": "data['dt'].max()",
   "outputs": [
    {
     "data": {
      "text/plain": [
       "84.0"
      ]
     },
     "execution_count": 51,
     "metadata": {},
     "output_type": "execute_result"
    }
   ],
   "execution_count": 51
  },
  {
   "metadata": {
    "ExecuteTime": {
     "end_time": "2024-12-06T20:01:42.196392Z",
     "start_time": "2024-12-06T20:01:42.189992Z"
    }
   },
   "cell_type": "code",
   "source": [
    "def f(x: pd.Series) -> int:\n",
    "    t2 = 0\n",
    "\n",
    "    if x['week'] == 0 and 6 <= x['start_date'].hour < 10:\n",
    "        if x['end_date'].hour >= 10:\n",
    "            t2 = x['end_date'].minute\n",
    "        return (x['dt'] - t2) * 4 + t2 * 5\n",
    "\n",
    "        \n",
    "    elif x['week'] < 5:\n",
    "        \n",
    "        if x['start_date'].hour >= 22:\n",
    "            return x['dt'] * 5 + 30\n",
    "        \n",
    "        elif x['start_date'].hour >= 16:\n",
    "            if x['end_date'].hour >= 22:\n",
    "                t2 = x['end_date'].minute\n",
    "            return (x['dt'] - t2) * 6 + t2 * 5 + 30\n",
    "        \n",
    "        elif x['start_date'].hour >= 10:\n",
    "            if x['end_date'].hour >= 16:\n",
    "                t2 = x['end_date'].minute\n",
    "            return (x['dt'] - t2) * 5 + t2 * 6 + 30\n",
    "        \n",
    "        elif x['start_date'].hour >= 6:\n",
    "            if x['end_date'].hour >= 10:\n",
    "                t2 = x['end_date'].minute\n",
    "            return (x['dt'] - t2) * 4 + t2 * 5 + 30\n",
    "            \n",
    "        elif x['start_date'].hour >= 1:\n",
    "            if x['end_date'].hour >= 6:\n",
    "                t2 = x['end_date'].minute\n",
    "            return (x['dt'] - t2) * 3 + t2 * 4 + 30\n",
    "        \n",
    "        elif x['start_date'].hour >= 0:\n",
    "            if x['end_date'].hour >= 1:\n",
    "                 t2 = x['end_date'].minute\n",
    "            return (x['dt'] - t2) * 5 + t2 * 3 + 30\n",
    "        \n",
    "        \n",
    "    elif x['week'] >= 5:\n",
    "        if x['start_date'].hour >= 22:\n",
    "            return x['dt'] * 6 + 30\n",
    "        \n",
    "        elif x['start_date'].hour >= 16:\n",
    "            if x['end_date'].hour >= 22:\n",
    "                t2 = x['end_date'].minute\n",
    "            return (x['dt'] - t2) * 7 + t2 * 6 + 30\n",
    "        \n",
    "        elif x['start_date'].hour >= 10:\n",
    "            if x['end_date'].hour >= 16:\n",
    "                t2 = x['end_date'].minute\n",
    "            return (x['dt'] - t2) * 6 + t2 * 7 + 30\n",
    "        \n",
    "        elif x['start_date'].hour >= 6:\n",
    "            if x['end_date'].hour >= 10:\n",
    "                t2 = x['end_date'].minute\n",
    "            return (x['dt'] - t2) * 5 + t2 * 6 + 30\n",
    "            \n",
    "        elif x['start_date'].hour >= 1:\n",
    "            if x['end_date'].hour >= 6:\n",
    "                t2 = x['end_date'].minute\n",
    "            return (x['dt'] - t2) * 3 + t2 * 4 + 30\n",
    "        \n",
    "        elif x['start_date'].hour >= 0:\n",
    "            if x['end_date'].hour >= 1:\n",
    "                 t2 = x['end_date'].minute\n",
    "            return (x['dt'] - t2) * 6 + t2 * 3 + 30"
   ],
   "outputs": [],
   "execution_count": 52
  },
  {
   "metadata": {
    "ExecuteTime": {
     "end_time": "2024-12-06T20:01:44.319523Z",
     "start_time": "2024-12-06T20:01:43.356092Z"
    }
   },
   "cell_type": "code",
   "source": "data['cost'] = data.apply(f, axis=1)\n",
   "outputs": [],
   "execution_count": 53
  },
  {
   "cell_type": "markdown",
   "metadata": {},
   "source": [
    "### 2. Стимулирует ли акция спрос на самокаты?"
   ]
  },
  {
   "metadata": {
    "ExecuteTime": {
     "end_time": "2024-12-05T21:17:30.036427Z",
     "start_time": "2024-12-05T21:17:29.815140Z"
    }
   },
   "cell_type": "code",
   "source": [
    "data = pd.read_csv('rides_&_weather.csv',\n",
    "                         na_values=\"\", parse_dates=['start_date', 'end_date', 'datetime']\n",
    "                         )"
   ],
   "outputs": [],
   "execution_count": 174
  },
  {
   "metadata": {
    "ExecuteTime": {
     "end_time": "2024-12-05T21:18:08.224081Z",
     "start_time": "2024-12-05T21:18:08.202491Z"
    }
   },
   "cell_type": "code",
   "source": [
    "data['week'] = data['datetime'].dt.weekday\n",
    "data['monday'] = data['week'].apply(lambda x: 1 if x == 0 else 0)"
   ],
   "outputs": [],
   "execution_count": 182
  },
  {
   "metadata": {
    "ExecuteTime": {
     "end_time": "2024-12-05T21:18:08.713727Z",
     "start_time": "2024-12-05T21:18:08.706178Z"
    }
   },
   "cell_type": "code",
   "source": "data_morning = data[(data['start_date'].dt.hour >= 6) & (data['end_date'].dt.hour < 10)]",
   "outputs": [],
   "execution_count": 183
  },
  {
   "metadata": {
    "ExecuteTime": {
     "end_time": "2024-12-05T21:18:09.798487Z",
     "start_time": "2024-12-05T21:18:09.793383Z"
    }
   },
   "cell_type": "code",
   "source": "data_morning.groupby(['promo', 'monday'])['promo'].value_counts()",
   "outputs": [
    {
     "data": {
      "text/plain": [
       "promo  monday\n",
       "0      0         10768\n",
       "       1           923\n",
       "1      1          1683\n",
       "Name: count, dtype: int64"
      ]
     },
     "execution_count": 184,
     "metadata": {},
     "output_type": "execute_result"
    }
   ],
   "execution_count": 184
  },
  {
   "metadata": {
    "ExecuteTime": {
     "end_time": "2024-12-05T21:18:10.844900Z",
     "start_time": "2024-12-05T21:18:10.839623Z"
    }
   },
   "cell_type": "code",
   "source": "data_morning.groupby(['promo', 'monday'])['cost'].sum()",
   "outputs": [
    {
     "data": {
      "text/plain": [
       "promo  monday\n",
       "0      0         857104.0\n",
       "       1          74792.0\n",
       "1      1         131004.0\n",
       "Name: cost, dtype: float64"
      ]
     },
     "execution_count": 185,
     "metadata": {},
     "output_type": "execute_result"
    }
   ],
   "execution_count": 185
  },
  {
   "metadata": {
    "ExecuteTime": {
     "end_time": "2024-12-05T21:18:11.916132Z",
     "start_time": "2024-12-05T21:18:11.912085Z"
    }
   },
   "cell_type": "code",
   "source": "data_morning.groupby(['promo', 'monday'])['dt'].sum()",
   "outputs": [
    {
     "data": {
      "text/plain": [
       "promo  monday\n",
       "0      0         267032.0\n",
       "       1          23551.0\n",
       "1      1          40257.0\n",
       "Name: dt, dtype: float64"
      ]
     },
     "execution_count": 186,
     "metadata": {},
     "output_type": "execute_result"
    }
   ],
   "execution_count": 186
  },
  {
   "metadata": {
    "ExecuteTime": {
     "end_time": "2024-12-05T21:23:43.666537Z",
     "start_time": "2024-12-05T21:23:43.663279Z"
    }
   },
   "cell_type": "code",
   "source": "23551 * 32 # доход с людей без акции",
   "outputs": [
    {
     "data": {
      "text/plain": [
       "753632"
      ]
     },
     "execution_count": 189,
     "metadata": {},
     "output_type": "execute_result"
    }
   ],
   "execution_count": 189
  },
  {
   "metadata": {
    "ExecuteTime": {
     "end_time": "2024-12-05T21:25:02.475301Z",
     "start_time": "2024-12-05T21:25:02.471620Z"
    }
   },
   "cell_type": "code",
   "source": "23551 * 2 # доход, если бы у людей были акции",
   "outputs": [
    {
     "data": {
      "text/plain": [
       "47102"
      ]
     },
     "execution_count": 191,
     "metadata": {},
     "output_type": "execute_result"
    }
   ],
   "execution_count": 191
  },
  {
   "metadata": {},
   "cell_type": "markdown",
   "source": "Доход несопоставим с издержками"
  },
  {
   "cell_type": "markdown",
   "metadata": {},
   "source": [
    "## Проверка гипотез"
   ]
  },
  {
   "cell_type": "markdown",
   "metadata": {},
   "source": [
    "### 1. В дождливое время спрос на самокаты ниже."
   ]
  },
  {
   "cell_type": "markdown",
   "metadata": {},
   "source": [
    "H0: Спрос на самокаты <u>не зависит</u> от погодных условий\n",
    "\n",
    "H1: Спрос на самокаты <u>зависит</u> от погодных условий"
   ]
  },
  {
   "metadata": {},
   "cell_type": "markdown",
   "source": "### 4. В выходные дни поездки более длинные"
  },
  {
   "metadata": {
    "ExecuteTime": {
     "end_time": "2024-12-05T19:35:53.675254Z",
     "start_time": "2024-12-05T19:35:53.445844Z"
    }
   },
   "cell_type": "code",
   "source": "data = pd.read_csv('rides_&_weather.csv', parse_dates=['start_date', 'end_date', 'datetime'])",
   "outputs": [],
   "execution_count": 44
  },
  {
   "metadata": {
    "ExecuteTime": {
     "end_time": "2024-12-05T19:35:53.681822Z",
     "start_time": "2024-12-05T19:35:53.678261Z"
    }
   },
   "cell_type": "code",
   "source": "data['dt'] = data['end_date'] - data['start_date']",
   "outputs": [],
   "execution_count": 45
  },
  {
   "metadata": {
    "ExecuteTime": {
     "end_time": "2024-12-05T19:35:53.790170Z",
     "start_time": "2024-12-05T19:35:53.769155Z"
    }
   },
   "cell_type": "code",
   "source": [
    "data['week'] = data['datetime'].dt.weekday\n",
    "data['weekend_or_weekday'] = data['week'].apply(lambda x: 1 if x >= 5 else 0)"
   ],
   "outputs": [],
   "execution_count": 46
  },
  {
   "metadata": {
    "ExecuteTime": {
     "end_time": "2024-12-05T19:35:54.520694Z",
     "start_time": "2024-12-05T19:35:54.508330Z"
    }
   },
   "cell_type": "code",
   "source": "data[['weekend_or_weekday', 'dt']].groupby(data['weekend_or_weekday'])['dt'].describe()",
   "outputs": [
    {
     "data": {
      "text/plain": [
       "                    count                       mean  \\\n",
       "weekend_or_weekday                                     \n",
       "0                   60685  0 days 00:25:49.952426464   \n",
       "1                   35953  0 days 00:27:37.647372959   \n",
       "\n",
       "                                          std              min  \\\n",
       "weekend_or_weekday                                               \n",
       "0                   0 days 00:09:35.467504371  0 days 00:10:01   \n",
       "1                   0 days 00:10:11.878036333  0 days 00:10:01   \n",
       "\n",
       "                                25%              50%              75%  \\\n",
       "weekend_or_weekday                                                      \n",
       "0                   0 days 00:19:09  0 days 00:24:05  0 days 00:30:28   \n",
       "1                   0 days 00:20:28  0 days 00:25:48  0 days 00:32:42   \n",
       "\n",
       "                                max  \n",
       "weekend_or_weekday                   \n",
       "0                   0 days 01:24:43  \n",
       "1                   0 days 01:24:50  "
      ],
      "text/html": [
       "<div>\n",
       "<style scoped>\n",
       "    .dataframe tbody tr th:only-of-type {\n",
       "        vertical-align: middle;\n",
       "    }\n",
       "\n",
       "    .dataframe tbody tr th {\n",
       "        vertical-align: top;\n",
       "    }\n",
       "\n",
       "    .dataframe thead th {\n",
       "        text-align: right;\n",
       "    }\n",
       "</style>\n",
       "<table border=\"1\" class=\"dataframe\">\n",
       "  <thead>\n",
       "    <tr style=\"text-align: right;\">\n",
       "      <th></th>\n",
       "      <th>count</th>\n",
       "      <th>mean</th>\n",
       "      <th>std</th>\n",
       "      <th>min</th>\n",
       "      <th>25%</th>\n",
       "      <th>50%</th>\n",
       "      <th>75%</th>\n",
       "      <th>max</th>\n",
       "    </tr>\n",
       "    <tr>\n",
       "      <th>weekend_or_weekday</th>\n",
       "      <th></th>\n",
       "      <th></th>\n",
       "      <th></th>\n",
       "      <th></th>\n",
       "      <th></th>\n",
       "      <th></th>\n",
       "      <th></th>\n",
       "      <th></th>\n",
       "    </tr>\n",
       "  </thead>\n",
       "  <tbody>\n",
       "    <tr>\n",
       "      <th>0</th>\n",
       "      <td>60685</td>\n",
       "      <td>0 days 00:25:49.952426464</td>\n",
       "      <td>0 days 00:09:35.467504371</td>\n",
       "      <td>0 days 00:10:01</td>\n",
       "      <td>0 days 00:19:09</td>\n",
       "      <td>0 days 00:24:05</td>\n",
       "      <td>0 days 00:30:28</td>\n",
       "      <td>0 days 01:24:43</td>\n",
       "    </tr>\n",
       "    <tr>\n",
       "      <th>1</th>\n",
       "      <td>35953</td>\n",
       "      <td>0 days 00:27:37.647372959</td>\n",
       "      <td>0 days 00:10:11.878036333</td>\n",
       "      <td>0 days 00:10:01</td>\n",
       "      <td>0 days 00:20:28</td>\n",
       "      <td>0 days 00:25:48</td>\n",
       "      <td>0 days 00:32:42</td>\n",
       "      <td>0 days 01:24:50</td>\n",
       "    </tr>\n",
       "  </tbody>\n",
       "</table>\n",
       "</div>"
      ]
     },
     "execution_count": 47,
     "metadata": {},
     "output_type": "execute_result"
    }
   ],
   "execution_count": 47
  },
  {
   "metadata": {},
   "cell_type": "markdown",
   "source": "Поездки немного длиннее"
  },
  {
   "metadata": {},
   "cell_type": "markdown",
   "source": "### 5. В будние дни поездки более скоростные"
  },
  {
   "metadata": {
    "ExecuteTime": {
     "end_time": "2024-12-05T19:41:38.985267Z",
     "start_time": "2024-12-05T19:41:38.760860Z"
    }
   },
   "cell_type": "code",
   "source": "data = pd.read_csv('rides_&_weather.csv', parse_dates=['start_date', 'end_date', 'datetime'])",
   "outputs": [],
   "execution_count": 54
  },
  {
   "metadata": {
    "ExecuteTime": {
     "end_time": "2024-12-05T19:41:38.991871Z",
     "start_time": "2024-12-05T19:41:38.988271Z"
    }
   },
   "cell_type": "code",
   "source": "data['dt'] = data['end_date'] - data['start_date']",
   "outputs": [],
   "execution_count": 55
  },
  {
   "metadata": {
    "ExecuteTime": {
     "end_time": "2024-12-05T19:41:40.970751Z",
     "start_time": "2024-12-05T19:41:39.082052Z"
    }
   },
   "cell_type": "code",
   "source": [
    "# Создаем колонну ride_duration, которая содержит длительность поездки в минутах\n",
    "data['ride_duration'] = data.apply(lambda row: (row.end_date - row.start_date).seconds / 60, axis = 1)\n",
    "\n",
    "# Создаем колонку average_speed, которая хранит среднюю скорость на протяжении всего пути в км/ч\n",
    "data['average_speed'] = data.apply(lambda row: (row.distance / 1000) / (row.ride_duration / 60), axis=1)"
   ],
   "outputs": [],
   "execution_count": 56
  },
  {
   "metadata": {
    "ExecuteTime": {
     "end_time": "2024-12-05T19:41:40.993903Z",
     "start_time": "2024-12-05T19:41:40.973771Z"
    }
   },
   "cell_type": "code",
   "source": [
    "data['week'] = data['datetime'].dt.weekday\n",
    "data['weekend_or_weekday'] = data['week'].apply(lambda x: 1 if x >= 5 else 0)"
   ],
   "outputs": [],
   "execution_count": 57
  },
  {
   "metadata": {
    "ExecuteTime": {
     "end_time": "2024-12-05T19:41:41.024595Z",
     "start_time": "2024-12-05T19:41:41.011192Z"
    }
   },
   "cell_type": "code",
   "source": "data[['weekend_or_weekday', 'average_speed']].groupby(data['weekend_or_weekday'])['average_speed'].describe()",
   "outputs": [
    {
     "data": {
      "text/plain": [
       "                      count      mean       std       min       25%       50%  \\\n",
       "weekend_or_weekday                                                              \n",
       "0                   60685.0  9.268082  2.003307  2.279973  7.978906  9.125193   \n",
       "1                   35953.0  9.005344  1.920676  2.380302  7.742647  9.114096   \n",
       "\n",
       "                          75%        max  \n",
       "weekend_or_weekday                        \n",
       "0                   10.563617  19.122772  \n",
       "1                   10.261256  17.179817  "
      ],
      "text/html": [
       "<div>\n",
       "<style scoped>\n",
       "    .dataframe tbody tr th:only-of-type {\n",
       "        vertical-align: middle;\n",
       "    }\n",
       "\n",
       "    .dataframe tbody tr th {\n",
       "        vertical-align: top;\n",
       "    }\n",
       "\n",
       "    .dataframe thead th {\n",
       "        text-align: right;\n",
       "    }\n",
       "</style>\n",
       "<table border=\"1\" class=\"dataframe\">\n",
       "  <thead>\n",
       "    <tr style=\"text-align: right;\">\n",
       "      <th></th>\n",
       "      <th>count</th>\n",
       "      <th>mean</th>\n",
       "      <th>std</th>\n",
       "      <th>min</th>\n",
       "      <th>25%</th>\n",
       "      <th>50%</th>\n",
       "      <th>75%</th>\n",
       "      <th>max</th>\n",
       "    </tr>\n",
       "    <tr>\n",
       "      <th>weekend_or_weekday</th>\n",
       "      <th></th>\n",
       "      <th></th>\n",
       "      <th></th>\n",
       "      <th></th>\n",
       "      <th></th>\n",
       "      <th></th>\n",
       "      <th></th>\n",
       "      <th></th>\n",
       "    </tr>\n",
       "  </thead>\n",
       "  <tbody>\n",
       "    <tr>\n",
       "      <th>0</th>\n",
       "      <td>60685.0</td>\n",
       "      <td>9.268082</td>\n",
       "      <td>2.003307</td>\n",
       "      <td>2.279973</td>\n",
       "      <td>7.978906</td>\n",
       "      <td>9.125193</td>\n",
       "      <td>10.563617</td>\n",
       "      <td>19.122772</td>\n",
       "    </tr>\n",
       "    <tr>\n",
       "      <th>1</th>\n",
       "      <td>35953.0</td>\n",
       "      <td>9.005344</td>\n",
       "      <td>1.920676</td>\n",
       "      <td>2.380302</td>\n",
       "      <td>7.742647</td>\n",
       "      <td>9.114096</td>\n",
       "      <td>10.261256</td>\n",
       "      <td>17.179817</td>\n",
       "    </tr>\n",
       "  </tbody>\n",
       "</table>\n",
       "</div>"
      ]
     },
     "execution_count": 58,
     "metadata": {},
     "output_type": "execute_result"
    }
   ],
   "execution_count": 58
  },
  {
   "metadata": {},
   "cell_type": "markdown",
   "source": "Да, поездки более скоростные, но не сильно"
  },
  {
   "metadata": {},
   "cell_type": "markdown",
   "source": "## Регрессионное моделирование"
  }
 ],
 "metadata": {
  "kernelspec": {
   "display_name": "Python 3",
   "language": "python",
   "name": "python3"
  },
  "language_info": {
   "codemirror_mode": {
    "name": "ipython",
    "version": 3
   },
   "file_extension": ".py",
   "mimetype": "text/x-python",
   "name": "python",
   "nbconvert_exporter": "python",
   "pygments_lexer": "ipython3",
   "version": "3.12.4"
  }
 },
 "nbformat": 4,
 "nbformat_minor": 4
}
