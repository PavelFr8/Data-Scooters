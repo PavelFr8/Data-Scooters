{
 "cells": [
  {
   "cell_type": "markdown",
   "metadata": {},
   "source": [
    "# Анализ спроса на самокаты"
   ]
  },
  {
   "cell_type": "code",
   "execution_count": 55,
   "metadata": {},
   "outputs": [],
   "source": [
    "import pandas as pd\n",
    "import numpy as np\n",
    "import matplotlib.pyplot as plt\n",
    "import seaborn as sns"
   ]
  },
  {
   "cell_type": "code",
   "execution_count": 56,
   "metadata": {},
   "outputs": [],
   "source": [
    "import warnings\n",
    "warnings.filterwarnings('ignore')"
   ]
  },
  {
   "cell_type": "markdown",
   "metadata": {},
   "source": [
    "## Предобработка данных о погоде"
   ]
  },
  {
   "cell_type": "code",
   "execution_count": 57,
   "metadata": {},
   "outputs": [],
   "source": [
    "# Чтение данных и удаление первой строки с единицами измерения\n",
    "df = pd.read_csv('weather.csv', na_values=\"\", parse_dates=['Datetime']).drop(index=0, axis=1)\n",
    "\n",
    "# Названия колонок к PEP8\n",
    "df.columns = df.columns.str.replace(' ', '_').str.lower()\n",
    "\n",
    "# Приведение колонок к float, кроме колонки с датами\n",
    "for col in df.columns[1:]:\n",
    "    df[col] = df[col].astype(float)"
   ]
  },
  {
   "cell_type": "markdown",
   "metadata": {},
   "source": [
    "### Проверка на дубликаты"
   ]
  },
  {
   "cell_type": "code",
   "execution_count": 58,
   "metadata": {},
   "outputs": [
    {
     "data": {
      "text/plain": [
       "(np.int64(0), np.int64(0))"
      ]
     },
     "execution_count": 58,
     "metadata": {},
     "output_type": "execute_result"
    }
   ],
   "source": [
    "df.duplicated().sum(), df['datetime'].duplicated().sum()"
   ]
  },
  {
   "cell_type": "markdown",
   "metadata": {},
   "source": [
    "### Работа с пропусками"
   ]
  },
  {
   "cell_type": "code",
   "execution_count": 59,
   "metadata": {},
   "outputs": [
    {
     "data": {
      "text/plain": [
       "datetime                0\n",
       "temperature            55\n",
       "precipitation_total    30\n",
       "wind_gust               0\n",
       "wind_speed             16\n",
       "cloud_cover_total      20\n",
       "sunshine_duration      12\n",
       "dtype: int64"
      ]
     },
     "execution_count": 59,
     "metadata": {},
     "output_type": "execute_result"
    }
   ],
   "source": [
    "df.isna().sum() # Проверка наличия пропусков"
   ]
  },
  {
   "cell_type": "markdown",
   "metadata": {},
   "source": [
    "Так как мы работаем с временными рядами, в заполнении пропусков может помочь **интерполяция**, которая отталкивается от значений соседних точек."
   ]
  },
  {
   "cell_type": "markdown",
   "metadata": {},
   "source": [
    "#### ДО"
   ]
  },
  {
   "cell_type": "code",
   "execution_count": 60,
   "metadata": {},
   "outputs": [
    {
     "data": {
      "text/html": [
       "<div>\n",
       "<style scoped>\n",
       "    .dataframe tbody tr th:only-of-type {\n",
       "        vertical-align: middle;\n",
       "    }\n",
       "\n",
       "    .dataframe tbody tr th {\n",
       "        vertical-align: top;\n",
       "    }\n",
       "\n",
       "    .dataframe thead th {\n",
       "        text-align: right;\n",
       "    }\n",
       "</style>\n",
       "<table border=\"1\" class=\"dataframe\">\n",
       "  <thead>\n",
       "    <tr style=\"text-align: right;\">\n",
       "      <th></th>\n",
       "      <th>datetime</th>\n",
       "      <th>temperature</th>\n",
       "      <th>precipitation_total</th>\n",
       "      <th>wind_gust</th>\n",
       "      <th>wind_speed</th>\n",
       "      <th>cloud_cover_total</th>\n",
       "      <th>sunshine_duration</th>\n",
       "    </tr>\n",
       "  </thead>\n",
       "  <tbody>\n",
       "    <tr>\n",
       "      <th>1004</th>\n",
       "      <td>2023-05-12 19:00:00</td>\n",
       "      <td>14.07</td>\n",
       "      <td>0.10</td>\n",
       "      <td>18.72</td>\n",
       "      <td>6.13</td>\n",
       "      <td>28.00</td>\n",
       "      <td>42.07</td>\n",
       "    </tr>\n",
       "    <tr>\n",
       "      <th>1005</th>\n",
       "      <td>2023-05-12 20:00:00</td>\n",
       "      <td>13.69</td>\n",
       "      <td>0.00</td>\n",
       "      <td>14.40</td>\n",
       "      <td>5.51</td>\n",
       "      <td>26.00</td>\n",
       "      <td>0.00</td>\n",
       "    </tr>\n",
       "    <tr>\n",
       "      <th>1006</th>\n",
       "      <td>2023-05-12 21:00:00</td>\n",
       "      <td>NaN</td>\n",
       "      <td>0.00</td>\n",
       "      <td>12.96</td>\n",
       "      <td>6.57</td>\n",
       "      <td>20.00</td>\n",
       "      <td>0.00</td>\n",
       "    </tr>\n",
       "    <tr>\n",
       "      <th>1007</th>\n",
       "      <td>2023-05-12 22:00:00</td>\n",
       "      <td>NaN</td>\n",
       "      <td>0.00</td>\n",
       "      <td>14.04</td>\n",
       "      <td>7.24</td>\n",
       "      <td>38.00</td>\n",
       "      <td>0.00</td>\n",
       "    </tr>\n",
       "    <tr>\n",
       "      <th>1008</th>\n",
       "      <td>2023-05-12 23:00:00</td>\n",
       "      <td>NaN</td>\n",
       "      <td>0.00</td>\n",
       "      <td>14.04</td>\n",
       "      <td>6.62</td>\n",
       "      <td>38.00</td>\n",
       "      <td>0.00</td>\n",
       "    </tr>\n",
       "    <tr>\n",
       "      <th>1009</th>\n",
       "      <td>2023-05-13 00:00:00</td>\n",
       "      <td>NaN</td>\n",
       "      <td>0.00</td>\n",
       "      <td>13.68</td>\n",
       "      <td>7.73</td>\n",
       "      <td>25.00</td>\n",
       "      <td>0.00</td>\n",
       "    </tr>\n",
       "    <tr>\n",
       "      <th>1010</th>\n",
       "      <td>2023-05-13 01:00:00</td>\n",
       "      <td>NaN</td>\n",
       "      <td>0.00</td>\n",
       "      <td>12.96</td>\n",
       "      <td>7.17</td>\n",
       "      <td>23.70</td>\n",
       "      <td>0.00</td>\n",
       "    </tr>\n",
       "    <tr>\n",
       "      <th>1011</th>\n",
       "      <td>2023-05-13 02:00:00</td>\n",
       "      <td>NaN</td>\n",
       "      <td>0.00</td>\n",
       "      <td>12.60</td>\n",
       "      <td>8.56</td>\n",
       "      <td>23.10</td>\n",
       "      <td>0.00</td>\n",
       "    </tr>\n",
       "    <tr>\n",
       "      <th>1012</th>\n",
       "      <td>2023-05-13 03:00:00</td>\n",
       "      <td>NaN</td>\n",
       "      <td>0.00</td>\n",
       "      <td>11.16</td>\n",
       "      <td>6.73</td>\n",
       "      <td>59.00</td>\n",
       "      <td>0.00</td>\n",
       "    </tr>\n",
       "    <tr>\n",
       "      <th>1013</th>\n",
       "      <td>2023-05-13 04:00:00</td>\n",
       "      <td>NaN</td>\n",
       "      <td>0.00</td>\n",
       "      <td>10.80</td>\n",
       "      <td>6.64</td>\n",
       "      <td>77.00</td>\n",
       "      <td>1.44</td>\n",
       "    </tr>\n",
       "    <tr>\n",
       "      <th>1014</th>\n",
       "      <td>2023-05-13 05:00:00</td>\n",
       "      <td>11.87</td>\n",
       "      <td>0.00</td>\n",
       "      <td>11.52</td>\n",
       "      <td>6.88</td>\n",
       "      <td>91.00</td>\n",
       "      <td>4.85</td>\n",
       "    </tr>\n",
       "    <tr>\n",
       "      <th>1015</th>\n",
       "      <td>2023-05-13 06:00:00</td>\n",
       "      <td>12.34</td>\n",
       "      <td>0.00</td>\n",
       "      <td>15.12</td>\n",
       "      <td>8.21</td>\n",
       "      <td>93.00</td>\n",
       "      <td>3.64</td>\n",
       "    </tr>\n",
       "  </tbody>\n",
       "</table>\n",
       "</div>"
      ],
      "text/plain": [
       "                datetime  temperature  precipitation_total  wind_gust  \\\n",
       "1004 2023-05-12 19:00:00        14.07                 0.10      18.72   \n",
       "1005 2023-05-12 20:00:00        13.69                 0.00      14.40   \n",
       "1006 2023-05-12 21:00:00          NaN                 0.00      12.96   \n",
       "1007 2023-05-12 22:00:00          NaN                 0.00      14.04   \n",
       "1008 2023-05-12 23:00:00          NaN                 0.00      14.04   \n",
       "1009 2023-05-13 00:00:00          NaN                 0.00      13.68   \n",
       "1010 2023-05-13 01:00:00          NaN                 0.00      12.96   \n",
       "1011 2023-05-13 02:00:00          NaN                 0.00      12.60   \n",
       "1012 2023-05-13 03:00:00          NaN                 0.00      11.16   \n",
       "1013 2023-05-13 04:00:00          NaN                 0.00      10.80   \n",
       "1014 2023-05-13 05:00:00        11.87                 0.00      11.52   \n",
       "1015 2023-05-13 06:00:00        12.34                 0.00      15.12   \n",
       "\n",
       "      wind_speed  cloud_cover_total  sunshine_duration  \n",
       "1004        6.13              28.00              42.07  \n",
       "1005        5.51              26.00               0.00  \n",
       "1006        6.57              20.00               0.00  \n",
       "1007        7.24              38.00               0.00  \n",
       "1008        6.62              38.00               0.00  \n",
       "1009        7.73              25.00               0.00  \n",
       "1010        7.17              23.70               0.00  \n",
       "1011        8.56              23.10               0.00  \n",
       "1012        6.73              59.00               0.00  \n",
       "1013        6.64              77.00               1.44  \n",
       "1014        6.88              91.00               4.85  \n",
       "1015        8.21              93.00               3.64  "
      ]
     },
     "execution_count": 60,
     "metadata": {},
     "output_type": "execute_result"
    }
   ],
   "source": [
    "df.iloc[1003:1015]"
   ]
  },
  {
   "cell_type": "markdown",
   "metadata": {},
   "source": [
    "#### ПОСЛЕ"
   ]
  },
  {
   "cell_type": "code",
   "execution_count": 61,
   "metadata": {},
   "outputs": [
    {
     "data": {
      "text/html": [
       "<div>\n",
       "<style scoped>\n",
       "    .dataframe tbody tr th:only-of-type {\n",
       "        vertical-align: middle;\n",
       "    }\n",
       "\n",
       "    .dataframe tbody tr th {\n",
       "        vertical-align: top;\n",
       "    }\n",
       "\n",
       "    .dataframe thead th {\n",
       "        text-align: right;\n",
       "    }\n",
       "</style>\n",
       "<table border=\"1\" class=\"dataframe\">\n",
       "  <thead>\n",
       "    <tr style=\"text-align: right;\">\n",
       "      <th></th>\n",
       "      <th>datetime</th>\n",
       "      <th>temperature</th>\n",
       "      <th>precipitation_total</th>\n",
       "      <th>wind_gust</th>\n",
       "      <th>wind_speed</th>\n",
       "      <th>cloud_cover_total</th>\n",
       "      <th>sunshine_duration</th>\n",
       "    </tr>\n",
       "  </thead>\n",
       "  <tbody>\n",
       "    <tr>\n",
       "      <th>1004</th>\n",
       "      <td>2023-05-12 19:00:00</td>\n",
       "      <td>14.07</td>\n",
       "      <td>0.10</td>\n",
       "      <td>18.72</td>\n",
       "      <td>6.13</td>\n",
       "      <td>28.00</td>\n",
       "      <td>42.07</td>\n",
       "    </tr>\n",
       "    <tr>\n",
       "      <th>1005</th>\n",
       "      <td>2023-05-12 20:00:00</td>\n",
       "      <td>13.69</td>\n",
       "      <td>0.00</td>\n",
       "      <td>14.40</td>\n",
       "      <td>5.51</td>\n",
       "      <td>26.00</td>\n",
       "      <td>0.00</td>\n",
       "    </tr>\n",
       "    <tr>\n",
       "      <th>1006</th>\n",
       "      <td>2023-05-12 21:00:00</td>\n",
       "      <td>13.49</td>\n",
       "      <td>0.00</td>\n",
       "      <td>12.96</td>\n",
       "      <td>6.57</td>\n",
       "      <td>20.00</td>\n",
       "      <td>0.00</td>\n",
       "    </tr>\n",
       "    <tr>\n",
       "      <th>1007</th>\n",
       "      <td>2023-05-12 22:00:00</td>\n",
       "      <td>13.29</td>\n",
       "      <td>0.00</td>\n",
       "      <td>14.04</td>\n",
       "      <td>7.24</td>\n",
       "      <td>38.00</td>\n",
       "      <td>0.00</td>\n",
       "    </tr>\n",
       "    <tr>\n",
       "      <th>1008</th>\n",
       "      <td>2023-05-12 23:00:00</td>\n",
       "      <td>13.08</td>\n",
       "      <td>0.00</td>\n",
       "      <td>14.04</td>\n",
       "      <td>6.62</td>\n",
       "      <td>38.00</td>\n",
       "      <td>0.00</td>\n",
       "    </tr>\n",
       "    <tr>\n",
       "      <th>1009</th>\n",
       "      <td>2023-05-13 00:00:00</td>\n",
       "      <td>12.88</td>\n",
       "      <td>0.00</td>\n",
       "      <td>13.68</td>\n",
       "      <td>7.73</td>\n",
       "      <td>25.00</td>\n",
       "      <td>0.00</td>\n",
       "    </tr>\n",
       "    <tr>\n",
       "      <th>1010</th>\n",
       "      <td>2023-05-13 01:00:00</td>\n",
       "      <td>12.68</td>\n",
       "      <td>0.00</td>\n",
       "      <td>12.96</td>\n",
       "      <td>7.17</td>\n",
       "      <td>23.70</td>\n",
       "      <td>0.00</td>\n",
       "    </tr>\n",
       "    <tr>\n",
       "      <th>1011</th>\n",
       "      <td>2023-05-13 02:00:00</td>\n",
       "      <td>12.48</td>\n",
       "      <td>0.00</td>\n",
       "      <td>12.60</td>\n",
       "      <td>8.56</td>\n",
       "      <td>23.10</td>\n",
       "      <td>0.00</td>\n",
       "    </tr>\n",
       "    <tr>\n",
       "      <th>1012</th>\n",
       "      <td>2023-05-13 03:00:00</td>\n",
       "      <td>12.27</td>\n",
       "      <td>0.00</td>\n",
       "      <td>11.16</td>\n",
       "      <td>6.73</td>\n",
       "      <td>59.00</td>\n",
       "      <td>0.00</td>\n",
       "    </tr>\n",
       "    <tr>\n",
       "      <th>1013</th>\n",
       "      <td>2023-05-13 04:00:00</td>\n",
       "      <td>12.07</td>\n",
       "      <td>0.00</td>\n",
       "      <td>10.80</td>\n",
       "      <td>6.64</td>\n",
       "      <td>77.00</td>\n",
       "      <td>1.44</td>\n",
       "    </tr>\n",
       "    <tr>\n",
       "      <th>1014</th>\n",
       "      <td>2023-05-13 05:00:00</td>\n",
       "      <td>11.87</td>\n",
       "      <td>0.00</td>\n",
       "      <td>11.52</td>\n",
       "      <td>6.88</td>\n",
       "      <td>91.00</td>\n",
       "      <td>4.85</td>\n",
       "    </tr>\n",
       "    <tr>\n",
       "      <th>1015</th>\n",
       "      <td>2023-05-13 06:00:00</td>\n",
       "      <td>12.34</td>\n",
       "      <td>0.00</td>\n",
       "      <td>15.12</td>\n",
       "      <td>8.21</td>\n",
       "      <td>93.00</td>\n",
       "      <td>3.64</td>\n",
       "    </tr>\n",
       "  </tbody>\n",
       "</table>\n",
       "</div>"
      ],
      "text/plain": [
       "                datetime  temperature  precipitation_total  wind_gust  \\\n",
       "1004 2023-05-12 19:00:00        14.07                 0.10      18.72   \n",
       "1005 2023-05-12 20:00:00        13.69                 0.00      14.40   \n",
       "1006 2023-05-12 21:00:00        13.49                 0.00      12.96   \n",
       "1007 2023-05-12 22:00:00        13.29                 0.00      14.04   \n",
       "1008 2023-05-12 23:00:00        13.08                 0.00      14.04   \n",
       "1009 2023-05-13 00:00:00        12.88                 0.00      13.68   \n",
       "1010 2023-05-13 01:00:00        12.68                 0.00      12.96   \n",
       "1011 2023-05-13 02:00:00        12.48                 0.00      12.60   \n",
       "1012 2023-05-13 03:00:00        12.27                 0.00      11.16   \n",
       "1013 2023-05-13 04:00:00        12.07                 0.00      10.80   \n",
       "1014 2023-05-13 05:00:00        11.87                 0.00      11.52   \n",
       "1015 2023-05-13 06:00:00        12.34                 0.00      15.12   \n",
       "\n",
       "      wind_speed  cloud_cover_total  sunshine_duration  \n",
       "1004        6.13              28.00              42.07  \n",
       "1005        5.51              26.00               0.00  \n",
       "1006        6.57              20.00               0.00  \n",
       "1007        7.24              38.00               0.00  \n",
       "1008        6.62              38.00               0.00  \n",
       "1009        7.73              25.00               0.00  \n",
       "1010        7.17              23.70               0.00  \n",
       "1011        8.56              23.10               0.00  \n",
       "1012        6.73              59.00               0.00  \n",
       "1013        6.64              77.00               1.44  \n",
       "1014        6.88              91.00               4.85  \n",
       "1015        8.21              93.00               3.64  "
      ]
     },
     "execution_count": 61,
     "metadata": {},
     "output_type": "execute_result"
    }
   ],
   "source": [
    "for col in df.columns[1:]:\n",
    "    df[col] = df[col].interpolate()\n",
    "    \n",
    "df.iloc[1003:1015]"
   ]
  },
  {
   "cell_type": "markdown",
   "metadata": {},
   "source": [
    "### Работа со значениями"
   ]
  },
  {
   "cell_type": "code",
   "execution_count": 62,
   "metadata": {},
   "outputs": [
    {
     "data": {
      "text/html": [
       "<div>\n",
       "<style scoped>\n",
       "    .dataframe tbody tr th:only-of-type {\n",
       "        vertical-align: middle;\n",
       "    }\n",
       "\n",
       "    .dataframe tbody tr th {\n",
       "        vertical-align: top;\n",
       "    }\n",
       "\n",
       "    .dataframe thead th {\n",
       "        text-align: right;\n",
       "    }\n",
       "</style>\n",
       "<table border=\"1\" class=\"dataframe\">\n",
       "  <thead>\n",
       "    <tr style=\"text-align: right;\">\n",
       "      <th></th>\n",
       "      <th>datetime</th>\n",
       "      <th>temperature</th>\n",
       "      <th>precipitation_total</th>\n",
       "      <th>wind_gust</th>\n",
       "      <th>wind_speed</th>\n",
       "      <th>cloud_cover_total</th>\n",
       "      <th>sunshine_duration</th>\n",
       "    </tr>\n",
       "  </thead>\n",
       "  <tbody>\n",
       "    <tr>\n",
       "      <th>1235</th>\n",
       "      <td>2023-05-22 10:00:00</td>\n",
       "      <td>23</td>\n",
       "      <td>0.00</td>\n",
       "      <td>4.60</td>\n",
       "      <td>0.90</td>\n",
       "      <td>8</td>\n",
       "      <td>55</td>\n",
       "    </tr>\n",
       "    <tr>\n",
       "      <th>1236</th>\n",
       "      <td>2023-05-22 11:00:00</td>\n",
       "      <td>24</td>\n",
       "      <td>0.00</td>\n",
       "      <td>5.10</td>\n",
       "      <td>1.10</td>\n",
       "      <td>4</td>\n",
       "      <td>58</td>\n",
       "    </tr>\n",
       "    <tr>\n",
       "      <th>1237</th>\n",
       "      <td>2023-05-22 12:00:00</td>\n",
       "      <td>25</td>\n",
       "      <td>0.00</td>\n",
       "      <td>5.00</td>\n",
       "      <td>1.40</td>\n",
       "      <td>4</td>\n",
       "      <td>58</td>\n",
       "    </tr>\n",
       "    <tr>\n",
       "      <th>1238</th>\n",
       "      <td>2023-05-22 13:00:00</td>\n",
       "      <td>25</td>\n",
       "      <td>0.10</td>\n",
       "      <td>5.00</td>\n",
       "      <td>1.90</td>\n",
       "      <td>9</td>\n",
       "      <td>55</td>\n",
       "    </tr>\n",
       "    <tr>\n",
       "      <th>1239</th>\n",
       "      <td>2023-05-22 14:00:00</td>\n",
       "      <td>26</td>\n",
       "      <td>0.60</td>\n",
       "      <td>6.00</td>\n",
       "      <td>1.00</td>\n",
       "      <td>18</td>\n",
       "      <td>49</td>\n",
       "    </tr>\n",
       "    <tr>\n",
       "      <th>1240</th>\n",
       "      <td>2023-05-22 15:00:00</td>\n",
       "      <td>25</td>\n",
       "      <td>0.50</td>\n",
       "      <td>6.40</td>\n",
       "      <td>1.10</td>\n",
       "      <td>19</td>\n",
       "      <td>48</td>\n",
       "    </tr>\n",
       "  </tbody>\n",
       "</table>\n",
       "</div>"
      ],
      "text/plain": [
       "                datetime  temperature  precipitation_total  wind_gust  \\\n",
       "1235 2023-05-22 10:00:00           23                 0.00       4.60   \n",
       "1236 2023-05-22 11:00:00           24                 0.00       5.10   \n",
       "1237 2023-05-22 12:00:00           25                 0.00       5.00   \n",
       "1238 2023-05-22 13:00:00           25                 0.10       5.00   \n",
       "1239 2023-05-22 14:00:00           26                 0.60       6.00   \n",
       "1240 2023-05-22 15:00:00           25                 0.50       6.40   \n",
       "\n",
       "      wind_speed  cloud_cover_total  sunshine_duration  \n",
       "1235        0.90                  8                 55  \n",
       "1236        1.10                  4                 58  \n",
       "1237        1.40                  4                 58  \n",
       "1238        1.90                  9                 55  \n",
       "1239        1.00                 18                 49  \n",
       "1240        1.10                 19                 48  "
      ]
     },
     "execution_count": 62,
     "metadata": {},
     "output_type": "execute_result"
    }
   ],
   "source": [
    "# Перевод порыва и скорости ветра в м/с и округление до 1 знака после запятой\n",
    "df[['wind_gust', 'wind_speed']] = (df[['wind_gust', 'wind_speed']] / 3.6).round(1)\n",
    "\n",
    "# Округление продолжительности солнечного сияния, температуры и облачности до целого\n",
    "df[['sunshine_duration', 'temperature', 'cloud_cover_total']] = df[['sunshine_duration', 'temperature', 'cloud_cover_total']].round().astype(int)\n",
    "\n",
    "df.iloc[1234:1240]"
   ]
  },
  {
   "cell_type": "markdown",
   "metadata": {},
   "source": [
    "### Проверка на выбросы"
   ]
  },
  {
   "cell_type": "code",
   "execution_count": 63,
   "metadata": {},
   "outputs": [
    {
     "data": {
      "text/html": [
       "<div>\n",
       "<style scoped>\n",
       "    .dataframe tbody tr th:only-of-type {\n",
       "        vertical-align: middle;\n",
       "    }\n",
       "\n",
       "    .dataframe tbody tr th {\n",
       "        vertical-align: top;\n",
       "    }\n",
       "\n",
       "    .dataframe thead th {\n",
       "        text-align: right;\n",
       "    }\n",
       "</style>\n",
       "<table border=\"1\" class=\"dataframe\">\n",
       "  <thead>\n",
       "    <tr style=\"text-align: right;\">\n",
       "      <th></th>\n",
       "      <th>datetime</th>\n",
       "      <th>temperature</th>\n",
       "      <th>precipitation_total</th>\n",
       "      <th>wind_gust</th>\n",
       "      <th>wind_speed</th>\n",
       "      <th>cloud_cover_total</th>\n",
       "      <th>sunshine_duration</th>\n",
       "    </tr>\n",
       "  </thead>\n",
       "  <tbody>\n",
       "    <tr>\n",
       "      <th>count</th>\n",
       "      <td>3672</td>\n",
       "      <td>3672.00</td>\n",
       "      <td>3672.00</td>\n",
       "      <td>3672.00</td>\n",
       "      <td>3672.00</td>\n",
       "      <td>3672.00</td>\n",
       "      <td>3672.00</td>\n",
       "    </tr>\n",
       "    <tr>\n",
       "      <th>mean</th>\n",
       "      <td>2023-06-16 11:30:00.000000256</td>\n",
       "      <td>18.09</td>\n",
       "      <td>0.10</td>\n",
       "      <td>5.80</td>\n",
       "      <td>2.04</td>\n",
       "      <td>40.98</td>\n",
       "      <td>21.54</td>\n",
       "    </tr>\n",
       "    <tr>\n",
       "      <th>min</th>\n",
       "      <td>2023-04-01 00:00:00</td>\n",
       "      <td>-2.00</td>\n",
       "      <td>0.00</td>\n",
       "      <td>0.80</td>\n",
       "      <td>0.00</td>\n",
       "      <td>0.00</td>\n",
       "      <td>0.00</td>\n",
       "    </tr>\n",
       "    <tr>\n",
       "      <th>25%</th>\n",
       "      <td>2023-05-09 05:45:00</td>\n",
       "      <td>13.00</td>\n",
       "      <td>0.00</td>\n",
       "      <td>3.70</td>\n",
       "      <td>1.20</td>\n",
       "      <td>15.00</td>\n",
       "      <td>0.00</td>\n",
       "    </tr>\n",
       "    <tr>\n",
       "      <th>50%</th>\n",
       "      <td>2023-06-16 11:30:00</td>\n",
       "      <td>18.00</td>\n",
       "      <td>0.00</td>\n",
       "      <td>5.10</td>\n",
       "      <td>1.70</td>\n",
       "      <td>32.00</td>\n",
       "      <td>15.00</td>\n",
       "    </tr>\n",
       "    <tr>\n",
       "      <th>75%</th>\n",
       "      <td>2023-07-24 17:15:00</td>\n",
       "      <td>23.00</td>\n",
       "      <td>0.00</td>\n",
       "      <td>7.30</td>\n",
       "      <td>2.60</td>\n",
       "      <td>67.00</td>\n",
       "      <td>43.00</td>\n",
       "    </tr>\n",
       "    <tr>\n",
       "      <th>max</th>\n",
       "      <td>2023-08-31 23:00:00</td>\n",
       "      <td>36.00</td>\n",
       "      <td>5.80</td>\n",
       "      <td>19.80</td>\n",
       "      <td>8.30</td>\n",
       "      <td>100.00</td>\n",
       "      <td>60.00</td>\n",
       "    </tr>\n",
       "    <tr>\n",
       "      <th>std</th>\n",
       "      <td>NaN</td>\n",
       "      <td>6.84</td>\n",
       "      <td>0.34</td>\n",
       "      <td>2.90</td>\n",
       "      <td>1.18</td>\n",
       "      <td>31.31</td>\n",
       "      <td>21.89</td>\n",
       "    </tr>\n",
       "  </tbody>\n",
       "</table>\n",
       "</div>"
      ],
      "text/plain": [
       "                            datetime  temperature  precipitation_total  \\\n",
       "count                           3672      3672.00              3672.00   \n",
       "mean   2023-06-16 11:30:00.000000256        18.09                 0.10   \n",
       "min              2023-04-01 00:00:00        -2.00                 0.00   \n",
       "25%              2023-05-09 05:45:00        13.00                 0.00   \n",
       "50%              2023-06-16 11:30:00        18.00                 0.00   \n",
       "75%              2023-07-24 17:15:00        23.00                 0.00   \n",
       "max              2023-08-31 23:00:00        36.00                 5.80   \n",
       "std                              NaN         6.84                 0.34   \n",
       "\n",
       "       wind_gust  wind_speed  cloud_cover_total  sunshine_duration  \n",
       "count    3672.00     3672.00            3672.00            3672.00  \n",
       "mean        5.80        2.04              40.98              21.54  \n",
       "min         0.80        0.00               0.00               0.00  \n",
       "25%         3.70        1.20              15.00               0.00  \n",
       "50%         5.10        1.70              32.00              15.00  \n",
       "75%         7.30        2.60              67.00              43.00  \n",
       "max        19.80        8.30             100.00              60.00  \n",
       "std         2.90        1.18              31.31              21.89  "
      ]
     },
     "execution_count": 63,
     "metadata": {},
     "output_type": "execute_result"
    }
   ],
   "source": [
    "df.describe()"
   ]
  },
  {
   "cell_type": "markdown",
   "metadata": {},
   "source": [
    "Все значения находятся в норме, выбросов не наблюдается"
   ]
  },
  {
   "cell_type": "markdown",
   "metadata": {},
   "source": [
    "### Выгрузка новой таблицы"
   ]
  },
  {
   "cell_type": "code",
   "execution_count": 64,
   "metadata": {},
   "outputs": [],
   "source": [
    "new_units_of_measure = [\"\", \"°C\", \"mm\", \"m/s\", \"m/s\", \"%\", \"min\"] # Скорости теперь в м / с\n",
    "\n",
    "first_row = pd.DataFrame([new_units_of_measure], columns=df.columns, index=[0]) \n",
    "df = pd.concat([first_row, df], ignore_index=True) # Добавление в начало таблицы\n",
    "\n",
    "\n",
    "df.to_csv('processed_weather.csv', index=False)"
   ]
  },
  {
   "cell_type": "markdown",
   "metadata": {},
   "source": [
    "## Предобработка данных о поездках"
   ]
  },
  {
   "cell_type": "code",
   "execution_count": 40,
   "metadata": {},
   "outputs": [],
   "source": [
    "# Чтение данных и удаление первой строки с единицами измерения\n",
    "df = pd.read_csv('rides.csv', na_values=\"\", parse_dates=['Start Date', 'End Date'])\n",
    "\n",
    "# Названия колонок к PEP8\n",
    "df.columns = df.columns.str.replace(' ', '_').str.lower()\n",
    "    \n",
    "# Приводим значения направлений движения к единому формату\n",
    "df['end_district'] = df['end_district'].str.lower().str.strip().str.replace(\" \", '-')\n",
    "df['start_district'] = df['start_district'].str.lower().str.strip().str.replace(\" \", '-')\n",
    "\n",
    "# Приводим значения начальных и конечных точек к единому формату\n",
    "df['start_location'] = df['start_location'].str.lower().str.strip().str.replace(\".\", ' ').str.replace(\"  \", ' ')\n",
    "df['start_location'] = df['start_location'].str.replace('ул ', '')\n",
    "\n",
    "df['end_location'] = df['end_location'].str.lower().str.strip().str.replace(\".\", ' ').str.replace(\"  \", ' ')\n",
    "df['end_location'] = df['end_location'].str.replace('ул ', '')"
   ]
  },
  {
   "cell_type": "markdown",
   "metadata": {},
   "source": [
    "### Проверка на дубликаты"
   ]
  },
  {
   "cell_type": "code",
   "execution_count": 41,
   "metadata": {},
   "outputs": [
    {
     "data": {
      "text/plain": [
       "np.int64(4883)"
      ]
     },
     "execution_count": 41,
     "metadata": {},
     "output_type": "execute_result"
    }
   ],
   "source": [
    "df.duplicated().sum()"
   ]
  },
  {
   "cell_type": "markdown",
   "metadata": {},
   "source": [
    "Данные, представленные в таблице rides.csv не должны дублироваться, поэтому удаляем дубликаты"
   ]
  },
  {
   "cell_type": "code",
   "execution_count": 42,
   "metadata": {},
   "outputs": [],
   "source": [
    "df = df.drop_duplicates()\n",
    "df = df.reset_index(drop=True)"
   ]
  },
  {
   "cell_type": "markdown",
   "metadata": {},
   "source": [
    "### Работа с пропусками"
   ]
  },
  {
   "cell_type": "code",
   "execution_count": 43,
   "metadata": {},
   "outputs": [
    {
     "data": {
      "text/plain": [
       "id                   0\n",
       "start_date           0\n",
       "end_date           555\n",
       "start_location       0\n",
       "start_district       0\n",
       "end_location         0\n",
       "end_district         0\n",
       "distance          1181\n",
       "promo                0\n",
       "dtype: int64"
      ]
     },
     "execution_count": 43,
     "metadata": {},
     "output_type": "execute_result"
    }
   ],
   "source": [
    "df.isna().sum() # Проверка наличия пропусков"
   ]
  },
  {
   "cell_type": "markdown",
   "metadata": {},
   "source": [
    "Наблюдаются пропуски с дате окончания поездки и дистанции поездки.\n",
    "\n",
    "* Пропуски в end_date будем заполнять на основании пройденной дистанции\n",
    "\n",
    "* Пропуски в distance будем заполнять на основании времени поездки"
   ]
  },
  {
   "cell_type": "markdown",
   "metadata": {},
   "source": [
    "#### Работа с пропусками в end_date"
   ]
  },
  {
   "cell_type": "markdown",
   "metadata": {},
   "source": [
    "Рассчитывать время конца поездки будем на основании медианы средней скорости во время пути и дистанции поездки.\n",
    "\n",
    "Формула: Конец_поездки = начало_поездки + (дистанция / медиана_средней_скорости)"
   ]
  },
  {
   "cell_type": "markdown",
   "metadata": {},
   "source": [
    "##### ДО"
   ]
  },
  {
   "cell_type": "code",
   "execution_count": 44,
   "metadata": {},
   "outputs": [
    {
     "data": {
      "text/html": [
       "<div>\n",
       "<style scoped>\n",
       "    .dataframe tbody tr th:only-of-type {\n",
       "        vertical-align: middle;\n",
       "    }\n",
       "\n",
       "    .dataframe tbody tr th {\n",
       "        vertical-align: top;\n",
       "    }\n",
       "\n",
       "    .dataframe thead th {\n",
       "        text-align: right;\n",
       "    }\n",
       "</style>\n",
       "<table border=\"1\" class=\"dataframe\">\n",
       "  <thead>\n",
       "    <tr style=\"text-align: right;\">\n",
       "      <th></th>\n",
       "      <th>id</th>\n",
       "      <th>start_date</th>\n",
       "      <th>end_date</th>\n",
       "      <th>start_location</th>\n",
       "      <th>start_district</th>\n",
       "      <th>end_location</th>\n",
       "      <th>end_district</th>\n",
       "      <th>distance</th>\n",
       "      <th>promo</th>\n",
       "    </tr>\n",
       "  </thead>\n",
       "  <tbody>\n",
       "    <tr>\n",
       "      <th>946</th>\n",
       "      <td>101286</td>\n",
       "      <td>2023-04-22 23:33:50</td>\n",
       "      <td>NaT</td>\n",
       "      <td>чехова</td>\n",
       "      <td>заречный</td>\n",
       "      <td>октябрьская</td>\n",
       "      <td>заречный</td>\n",
       "      <td>2521.00</td>\n",
       "      <td>0</td>\n",
       "    </tr>\n",
       "    <tr>\n",
       "      <th>947</th>\n",
       "      <td>101287</td>\n",
       "      <td>2023-04-22 23:35:04</td>\n",
       "      <td>2023-04-22 23:54:26</td>\n",
       "      <td>советская</td>\n",
       "      <td>центральный</td>\n",
       "      <td>суворова</td>\n",
       "      <td>ленинский</td>\n",
       "      <td>3204.00</td>\n",
       "      <td>0</td>\n",
       "    </tr>\n",
       "    <tr>\n",
       "      <th>948</th>\n",
       "      <td>101288</td>\n",
       "      <td>2023-04-22 23:36:43</td>\n",
       "      <td>2023-04-23 00:14:03</td>\n",
       "      <td>кирова</td>\n",
       "      <td>ленинский</td>\n",
       "      <td>буденного</td>\n",
       "      <td>октябрьский</td>\n",
       "      <td>3755.00</td>\n",
       "      <td>0</td>\n",
       "    </tr>\n",
       "  </tbody>\n",
       "</table>\n",
       "</div>"
      ],
      "text/plain": [
       "         id          start_date            end_date start_location  \\\n",
       "946  101286 2023-04-22 23:33:50                 NaT         чехова   \n",
       "947  101287 2023-04-22 23:35:04 2023-04-22 23:54:26      советская   \n",
       "948  101288 2023-04-22 23:36:43 2023-04-23 00:14:03         кирова   \n",
       "\n",
       "    start_district end_location end_district  distance  promo  \n",
       "946       заречный  октябрьская     заречный   2521.00      0  \n",
       "947    центральный     суворова    ленинский   3204.00      0  \n",
       "948      ленинский    буденного  октябрьский   3755.00      0  "
      ]
     },
     "execution_count": 44,
     "metadata": {},
     "output_type": "execute_result"
    }
   ],
   "source": [
    "df.iloc[946:949]"
   ]
  },
  {
   "cell_type": "markdown",
   "metadata": {},
   "source": [
    "##### ПОСЛЕ"
   ]
  },
  {
   "cell_type": "code",
   "execution_count": 45,
   "metadata": {},
   "outputs": [
    {
     "data": {
      "text/html": [
       "<div>\n",
       "<style scoped>\n",
       "    .dataframe tbody tr th:only-of-type {\n",
       "        vertical-align: middle;\n",
       "    }\n",
       "\n",
       "    .dataframe tbody tr th {\n",
       "        vertical-align: top;\n",
       "    }\n",
       "\n",
       "    .dataframe thead th {\n",
       "        text-align: right;\n",
       "    }\n",
       "</style>\n",
       "<table border=\"1\" class=\"dataframe\">\n",
       "  <thead>\n",
       "    <tr style=\"text-align: right;\">\n",
       "      <th></th>\n",
       "      <th>id</th>\n",
       "      <th>start_date</th>\n",
       "      <th>end_date</th>\n",
       "      <th>start_location</th>\n",
       "      <th>start_district</th>\n",
       "      <th>end_location</th>\n",
       "      <th>end_district</th>\n",
       "      <th>distance</th>\n",
       "      <th>promo</th>\n",
       "      <th>ride_duration</th>\n",
       "      <th>average_speed</th>\n",
       "    </tr>\n",
       "  </thead>\n",
       "  <tbody>\n",
       "    <tr>\n",
       "      <th>946</th>\n",
       "      <td>101286</td>\n",
       "      <td>2023-04-22 23:33:50</td>\n",
       "      <td>2023-04-22 23:50:25.672184098</td>\n",
       "      <td>чехова</td>\n",
       "      <td>заречный</td>\n",
       "      <td>октябрьская</td>\n",
       "      <td>заречный</td>\n",
       "      <td>2521.00</td>\n",
       "      <td>0</td>\n",
       "      <td>NaN</td>\n",
       "      <td>NaN</td>\n",
       "    </tr>\n",
       "    <tr>\n",
       "      <th>947</th>\n",
       "      <td>101287</td>\n",
       "      <td>2023-04-22 23:35:04</td>\n",
       "      <td>2023-04-22 23:54:26.000000000</td>\n",
       "      <td>советская</td>\n",
       "      <td>центральный</td>\n",
       "      <td>суворова</td>\n",
       "      <td>ленинский</td>\n",
       "      <td>3204.00</td>\n",
       "      <td>0</td>\n",
       "      <td>19.37</td>\n",
       "      <td>9.93</td>\n",
       "    </tr>\n",
       "    <tr>\n",
       "      <th>948</th>\n",
       "      <td>101288</td>\n",
       "      <td>2023-04-22 23:36:43</td>\n",
       "      <td>2023-04-23 00:14:03.000000000</td>\n",
       "      <td>кирова</td>\n",
       "      <td>ленинский</td>\n",
       "      <td>буденного</td>\n",
       "      <td>октябрьский</td>\n",
       "      <td>3755.00</td>\n",
       "      <td>0</td>\n",
       "      <td>37.33</td>\n",
       "      <td>6.03</td>\n",
       "    </tr>\n",
       "  </tbody>\n",
       "</table>\n",
       "</div>"
      ],
      "text/plain": [
       "         id          start_date                      end_date start_location  \\\n",
       "946  101286 2023-04-22 23:33:50 2023-04-22 23:50:25.672184098         чехова   \n",
       "947  101287 2023-04-22 23:35:04 2023-04-22 23:54:26.000000000      советская   \n",
       "948  101288 2023-04-22 23:36:43 2023-04-23 00:14:03.000000000         кирова   \n",
       "\n",
       "    start_district end_location end_district  distance  promo  ride_duration  \\\n",
       "946       заречный  октябрьская     заречный   2521.00      0            NaN   \n",
       "947    центральный     суворова    ленинский   3204.00      0          19.37   \n",
       "948      ленинский    буденного  октябрьский   3755.00      0          37.33   \n",
       "\n",
       "     average_speed  \n",
       "946            NaN  \n",
       "947           9.93  \n",
       "948           6.03  "
      ]
     },
     "execution_count": 45,
     "metadata": {},
     "output_type": "execute_result"
    }
   ],
   "source": [
    "# Создаем колонну ride_duration, которая содержит длительность поездки в минутах\n",
    "df['ride_duration'] = df.apply(lambda row: (row.end_date - row.start_date).seconds / 60, axis = 1)\n",
    "\n",
    "# Создаем колонку average_speed, которая хранит среднюю скорость на протяжении всего пути в км/ч\n",
    "df['average_speed'] = df.apply(lambda row: (row.distance / 1000) / (row.ride_duration / 60), axis=1)\n",
    "\n",
    "median_average_speed = df['average_speed'].median()\n",
    "\n",
    "# Заполнение пустых значений в столбце 'end_date'\n",
    "df['end_date'] = df['end_date'].fillna(\n",
    "    df['start_date'] + pd.to_timedelta((df['distance'] / 1000) / median_average_speed, unit='h')\n",
    ")\n",
    "\n",
    "df.iloc[946:949]"
   ]
  },
  {
   "cell_type": "markdown",
   "metadata": {},
   "source": [
    "#### Работа с пропусками в distance"
   ]
  },
  {
   "cell_type": "markdown",
   "metadata": {},
   "source": [
    "Рассчитывать дистанцию поездки будем на основании медианы средней скорости во время пути и длительности поездки.\n",
    "\n",
    "Формула: Дистанция = медиана_средней_скорости * время_поездки"
   ]
  },
  {
   "cell_type": "markdown",
   "metadata": {},
   "source": [
    "##### ДО"
   ]
  },
  {
   "cell_type": "code",
   "execution_count": 46,
   "metadata": {},
   "outputs": [
    {
     "data": {
      "text/html": [
       "<div>\n",
       "<style scoped>\n",
       "    .dataframe tbody tr th:only-of-type {\n",
       "        vertical-align: middle;\n",
       "    }\n",
       "\n",
       "    .dataframe tbody tr th {\n",
       "        vertical-align: top;\n",
       "    }\n",
       "\n",
       "    .dataframe thead th {\n",
       "        text-align: right;\n",
       "    }\n",
       "</style>\n",
       "<table border=\"1\" class=\"dataframe\">\n",
       "  <thead>\n",
       "    <tr style=\"text-align: right;\">\n",
       "      <th></th>\n",
       "      <th>id</th>\n",
       "      <th>start_date</th>\n",
       "      <th>end_date</th>\n",
       "      <th>start_location</th>\n",
       "      <th>start_district</th>\n",
       "      <th>end_location</th>\n",
       "      <th>end_district</th>\n",
       "      <th>distance</th>\n",
       "      <th>promo</th>\n",
       "      <th>ride_duration</th>\n",
       "      <th>average_speed</th>\n",
       "    </tr>\n",
       "  </thead>\n",
       "  <tbody>\n",
       "    <tr>\n",
       "      <th>1130</th>\n",
       "      <td>101470</td>\n",
       "      <td>2023-04-23 11:26:28</td>\n",
       "      <td>2023-04-23 12:10:50</td>\n",
       "      <td>речная</td>\n",
       "      <td>юго-восточный</td>\n",
       "      <td>пионерская</td>\n",
       "      <td>заречный</td>\n",
       "      <td>NaN</td>\n",
       "      <td>0</td>\n",
       "      <td>44.37</td>\n",
       "      <td>NaN</td>\n",
       "    </tr>\n",
       "    <tr>\n",
       "      <th>1131</th>\n",
       "      <td>101471</td>\n",
       "      <td>2023-04-23 11:27:21</td>\n",
       "      <td>2023-04-23 11:47:01</td>\n",
       "      <td>комарова</td>\n",
       "      <td>ленинский</td>\n",
       "      <td>дружбы</td>\n",
       "      <td>центральный</td>\n",
       "      <td>3581.00</td>\n",
       "      <td>0</td>\n",
       "      <td>19.67</td>\n",
       "      <td>10.93</td>\n",
       "    </tr>\n",
       "    <tr>\n",
       "      <th>1132</th>\n",
       "      <td>101472</td>\n",
       "      <td>2023-04-23 11:28:32</td>\n",
       "      <td>2023-04-23 11:50:19</td>\n",
       "      <td>майская</td>\n",
       "      <td>октябрьский</td>\n",
       "      <td>молодежная</td>\n",
       "      <td>юго-восточный</td>\n",
       "      <td>3082.00</td>\n",
       "      <td>0</td>\n",
       "      <td>21.78</td>\n",
       "      <td>8.49</td>\n",
       "    </tr>\n",
       "  </tbody>\n",
       "</table>\n",
       "</div>"
      ],
      "text/plain": [
       "          id          start_date            end_date start_location  \\\n",
       "1130  101470 2023-04-23 11:26:28 2023-04-23 12:10:50         речная   \n",
       "1131  101471 2023-04-23 11:27:21 2023-04-23 11:47:01       комарова   \n",
       "1132  101472 2023-04-23 11:28:32 2023-04-23 11:50:19        майская   \n",
       "\n",
       "     start_district end_location   end_district  distance  promo  \\\n",
       "1130  юго-восточный   пионерская       заречный       NaN      0   \n",
       "1131      ленинский       дружбы    центральный   3581.00      0   \n",
       "1132    октябрьский   молодежная  юго-восточный   3082.00      0   \n",
       "\n",
       "      ride_duration  average_speed  \n",
       "1130          44.37            NaN  \n",
       "1131          19.67          10.93  \n",
       "1132          21.78           8.49  "
      ]
     },
     "execution_count": 46,
     "metadata": {},
     "output_type": "execute_result"
    }
   ],
   "source": [
    "df.iloc[1130:1133]"
   ]
  },
  {
   "cell_type": "markdown",
   "metadata": {},
   "source": [
    "##### ПОСЛЕ"
   ]
  },
  {
   "cell_type": "code",
   "execution_count": 47,
   "metadata": {},
   "outputs": [
    {
     "data": {
      "text/html": [
       "<div>\n",
       "<style scoped>\n",
       "    .dataframe tbody tr th:only-of-type {\n",
       "        vertical-align: middle;\n",
       "    }\n",
       "\n",
       "    .dataframe tbody tr th {\n",
       "        vertical-align: top;\n",
       "    }\n",
       "\n",
       "    .dataframe thead th {\n",
       "        text-align: right;\n",
       "    }\n",
       "</style>\n",
       "<table border=\"1\" class=\"dataframe\">\n",
       "  <thead>\n",
       "    <tr style=\"text-align: right;\">\n",
       "      <th></th>\n",
       "      <th>id</th>\n",
       "      <th>start_date</th>\n",
       "      <th>end_date</th>\n",
       "      <th>start_location</th>\n",
       "      <th>start_district</th>\n",
       "      <th>end_location</th>\n",
       "      <th>end_district</th>\n",
       "      <th>distance</th>\n",
       "      <th>promo</th>\n",
       "      <th>ride_duration</th>\n",
       "      <th>average_speed</th>\n",
       "    </tr>\n",
       "  </thead>\n",
       "  <tbody>\n",
       "    <tr>\n",
       "      <th>1130</th>\n",
       "      <td>101470</td>\n",
       "      <td>2023-04-23 11:26:28</td>\n",
       "      <td>2023-04-23 12:10:50</td>\n",
       "      <td>речная</td>\n",
       "      <td>юго-восточный</td>\n",
       "      <td>пионерская</td>\n",
       "      <td>заречный</td>\n",
       "      <td>6740.07</td>\n",
       "      <td>0</td>\n",
       "      <td>44.37</td>\n",
       "      <td>NaN</td>\n",
       "    </tr>\n",
       "    <tr>\n",
       "      <th>1131</th>\n",
       "      <td>101471</td>\n",
       "      <td>2023-04-23 11:27:21</td>\n",
       "      <td>2023-04-23 11:47:01</td>\n",
       "      <td>комарова</td>\n",
       "      <td>ленинский</td>\n",
       "      <td>дружбы</td>\n",
       "      <td>центральный</td>\n",
       "      <td>3581.00</td>\n",
       "      <td>0</td>\n",
       "      <td>19.67</td>\n",
       "      <td>10.93</td>\n",
       "    </tr>\n",
       "    <tr>\n",
       "      <th>1132</th>\n",
       "      <td>101472</td>\n",
       "      <td>2023-04-23 11:28:32</td>\n",
       "      <td>2023-04-23 11:50:19</td>\n",
       "      <td>майская</td>\n",
       "      <td>октябрьский</td>\n",
       "      <td>молодежная</td>\n",
       "      <td>юго-восточный</td>\n",
       "      <td>3082.00</td>\n",
       "      <td>0</td>\n",
       "      <td>21.78</td>\n",
       "      <td>8.49</td>\n",
       "    </tr>\n",
       "  </tbody>\n",
       "</table>\n",
       "</div>"
      ],
      "text/plain": [
       "          id          start_date            end_date start_location  \\\n",
       "1130  101470 2023-04-23 11:26:28 2023-04-23 12:10:50         речная   \n",
       "1131  101471 2023-04-23 11:27:21 2023-04-23 11:47:01       комарова   \n",
       "1132  101472 2023-04-23 11:28:32 2023-04-23 11:50:19        майская   \n",
       "\n",
       "     start_district end_location   end_district  distance  promo  \\\n",
       "1130  юго-восточный   пионерская       заречный   6740.07      0   \n",
       "1131      ленинский       дружбы    центральный   3581.00      0   \n",
       "1132    октябрьский   молодежная  юго-восточный   3082.00      0   \n",
       "\n",
       "      ride_duration  average_speed  \n",
       "1130          44.37            NaN  \n",
       "1131          19.67          10.93  \n",
       "1132          21.78           8.49  "
      ]
     },
     "execution_count": 47,
     "metadata": {},
     "output_type": "execute_result"
    }
   ],
   "source": [
    "# Заполнение пустых значений в столбце 'distance'\n",
    "df['distance'] = df['distance'].fillna(median_average_speed * (df['ride_duration'] / 60) * 1000)\n",
    "\n",
    "df.iloc[1130:1133]"
   ]
  },
  {
   "cell_type": "markdown",
   "metadata": {},
   "source": [
    "#### Проверка работы"
   ]
  },
  {
   "cell_type": "code",
   "execution_count": 48,
   "metadata": {},
   "outputs": [
    {
     "data": {
      "text/plain": [
       "id                0\n",
       "start_date        0\n",
       "end_date          0\n",
       "start_location    0\n",
       "start_district    0\n",
       "end_location      0\n",
       "end_district      0\n",
       "distance          0\n",
       "promo             0\n",
       "dtype: int64"
      ]
     },
     "execution_count": 48,
     "metadata": {},
     "output_type": "execute_result"
    }
   ],
   "source": [
    "df = df.drop(['ride_duration', 'average_speed'], axis=1) # Удаляем уже ненужные стоблцы\n",
    "\n",
    "df.isna().sum() # Проверка наличия пропусков"
   ]
  },
  {
   "cell_type": "markdown",
   "metadata": {},
   "source": [
    "### Проверка на выбросы"
   ]
  },
  {
   "cell_type": "code",
   "execution_count": 49,
   "metadata": {},
   "outputs": [
    {
     "data": {
      "text/html": [
       "<div>\n",
       "<style scoped>\n",
       "    .dataframe tbody tr th:only-of-type {\n",
       "        vertical-align: middle;\n",
       "    }\n",
       "\n",
       "    .dataframe tbody tr th {\n",
       "        vertical-align: top;\n",
       "    }\n",
       "\n",
       "    .dataframe thead th {\n",
       "        text-align: right;\n",
       "    }\n",
       "</style>\n",
       "<table border=\"1\" class=\"dataframe\">\n",
       "  <thead>\n",
       "    <tr style=\"text-align: right;\">\n",
       "      <th></th>\n",
       "      <th>id</th>\n",
       "      <th>start_date</th>\n",
       "      <th>end_date</th>\n",
       "      <th>distance</th>\n",
       "      <th>promo</th>\n",
       "    </tr>\n",
       "  </thead>\n",
       "  <tbody>\n",
       "    <tr>\n",
       "      <th>count</th>\n",
       "      <td>97372.00</td>\n",
       "      <td>97372</td>\n",
       "      <td>97372</td>\n",
       "      <td>97372.00</td>\n",
       "      <td>97372.00</td>\n",
       "    </tr>\n",
       "    <tr>\n",
       "      <th>mean</th>\n",
       "      <td>149025.50</td>\n",
       "      <td>2023-06-13 21:06:08.931407360</td>\n",
       "      <td>2023-06-13 21:33:03.576468480</td>\n",
       "      <td>26998.68</td>\n",
       "      <td>0.02</td>\n",
       "    </tr>\n",
       "    <tr>\n",
       "      <th>min</th>\n",
       "      <td>100340.00</td>\n",
       "      <td>2023-04-22 09:01:03</td>\n",
       "      <td>2023-04-22 09:24:45</td>\n",
       "      <td>1.00</td>\n",
       "      <td>0.00</td>\n",
       "    </tr>\n",
       "    <tr>\n",
       "      <th>25%</th>\n",
       "      <td>124682.75</td>\n",
       "      <td>2023-05-20 21:41:39.500000</td>\n",
       "      <td>2023-05-20 22:07:59</td>\n",
       "      <td>3044.00</td>\n",
       "      <td>0.00</td>\n",
       "    </tr>\n",
       "    <tr>\n",
       "      <th>50%</th>\n",
       "      <td>149025.50</td>\n",
       "      <td>2023-06-14 15:15:46</td>\n",
       "      <td>2023-06-14 15:44:53</td>\n",
       "      <td>3703.00</td>\n",
       "      <td>0.00</td>\n",
       "    </tr>\n",
       "    <tr>\n",
       "      <th>75%</th>\n",
       "      <td>173368.25</td>\n",
       "      <td>2023-07-08 19:50:22.249999872</td>\n",
       "      <td>2023-07-08 20:18:30</td>\n",
       "      <td>4433.00</td>\n",
       "      <td>0.00</td>\n",
       "    </tr>\n",
       "    <tr>\n",
       "      <th>max</th>\n",
       "      <td>197711.00</td>\n",
       "      <td>2023-07-31 23:57:01</td>\n",
       "      <td>2023-08-14 07:25:37.719536260</td>\n",
       "      <td>7569789.00</td>\n",
       "      <td>1.00</td>\n",
       "    </tr>\n",
       "    <tr>\n",
       "      <th>std</th>\n",
       "      <td>28109.02</td>\n",
       "      <td>NaN</td>\n",
       "      <td>NaN</td>\n",
       "      <td>307435.12</td>\n",
       "      <td>0.14</td>\n",
       "    </tr>\n",
       "  </tbody>\n",
       "</table>\n",
       "</div>"
      ],
      "text/plain": [
       "             id                     start_date                       end_date  \\\n",
       "count  97372.00                          97372                          97372   \n",
       "mean  149025.50  2023-06-13 21:06:08.931407360  2023-06-13 21:33:03.576468480   \n",
       "min   100340.00            2023-04-22 09:01:03            2023-04-22 09:24:45   \n",
       "25%   124682.75     2023-05-20 21:41:39.500000            2023-05-20 22:07:59   \n",
       "50%   149025.50            2023-06-14 15:15:46            2023-06-14 15:44:53   \n",
       "75%   173368.25  2023-07-08 19:50:22.249999872            2023-07-08 20:18:30   \n",
       "max   197711.00            2023-07-31 23:57:01  2023-08-14 07:25:37.719536260   \n",
       "std    28109.02                            NaN                            NaN   \n",
       "\n",
       "        distance    promo  \n",
       "count   97372.00 97372.00  \n",
       "mean    26998.68     0.02  \n",
       "min         1.00     0.00  \n",
       "25%      3044.00     0.00  \n",
       "50%      3703.00     0.00  \n",
       "75%      4433.00     0.00  \n",
       "max   7569789.00     1.00  \n",
       "std    307435.12     0.14  "
      ]
     },
     "execution_count": 49,
     "metadata": {},
     "output_type": "execute_result"
    }
   ],
   "source": [
    "pd.set_option('display.float_format', '{:.2f}'.format)\n",
    "df.describe()"
   ]
  },
  {
   "cell_type": "markdown",
   "metadata": {},
   "source": [
    "В distance присутствуют очень сильные выбросы, вероятно, они вызваны ошибками в показаниях датчиков"
   ]
  },
  {
   "cell_type": "markdown",
   "metadata": {},
   "source": [
    "Так как выбросы в distance аномально большие или маленькие, то самым простым способом будет вручную отфильтровать выбросы и исправить ошибочные значения, не прибегая к интерквартильному размаху или стандартным отклонениям\n",
    "\n",
    "Выбросы будем исправлять по аналогии с пропусками.\n",
    "\n",
    "Некоторые строки с выбросами также содержали пустые данные и на этапе заполнения пустых данных, заполненные пропуски тоже получили некорректные значения. При условии, что один из параметров выброс, а другой был пропущен - мы не можем восстановить данные, следовательно придется их удалить."
   ]
  },
  {
   "cell_type": "code",
   "execution_count": 50,
   "metadata": {},
   "outputs": [],
   "source": [
    "# Обновляем значения в колонке ride_duration\n",
    "df['ride_duration'] = df.apply(lambda row: (row.end_date - row.start_date).seconds / 60, axis=1)\n",
    "\n",
    "# Удаляем значения, которые невозможно восстановить и обновляем индексацию\n",
    "df = df[(df['ride_duration'] < 90) & (df['ride_duration'] > 10)]\n",
    "df = df.reset_index(drop=True)"
   ]
  },
  {
   "cell_type": "markdown",
   "metadata": {},
   "source": [
    "##### ДО"
   ]
  },
  {
   "cell_type": "code",
   "execution_count": 51,
   "metadata": {},
   "outputs": [
    {
     "data": {
      "text/html": [
       "<div>\n",
       "<style scoped>\n",
       "    .dataframe tbody tr th:only-of-type {\n",
       "        vertical-align: middle;\n",
       "    }\n",
       "\n",
       "    .dataframe tbody tr th {\n",
       "        vertical-align: top;\n",
       "    }\n",
       "\n",
       "    .dataframe thead th {\n",
       "        text-align: right;\n",
       "    }\n",
       "</style>\n",
       "<table border=\"1\" class=\"dataframe\">\n",
       "  <thead>\n",
       "    <tr style=\"text-align: right;\">\n",
       "      <th></th>\n",
       "      <th>id</th>\n",
       "      <th>start_date</th>\n",
       "      <th>end_date</th>\n",
       "      <th>start_location</th>\n",
       "      <th>start_district</th>\n",
       "      <th>end_location</th>\n",
       "      <th>end_district</th>\n",
       "      <th>distance</th>\n",
       "      <th>promo</th>\n",
       "      <th>ride_duration</th>\n",
       "    </tr>\n",
       "  </thead>\n",
       "  <tbody>\n",
       "    <tr>\n",
       "      <th>954</th>\n",
       "      <td>101299</td>\n",
       "      <td>2023-04-22 23:54:39</td>\n",
       "      <td>2023-04-23 00:23:58</td>\n",
       "      <td>дачная</td>\n",
       "      <td>центральный</td>\n",
       "      <td>свободы</td>\n",
       "      <td>ленинский</td>\n",
       "      <td>4273850.00</td>\n",
       "      <td>0</td>\n",
       "      <td>29.32</td>\n",
       "    </tr>\n",
       "    <tr>\n",
       "      <th>955</th>\n",
       "      <td>101300</td>\n",
       "      <td>2023-04-22 23:58:02</td>\n",
       "      <td>2023-04-23 00:20:51</td>\n",
       "      <td>заречная</td>\n",
       "      <td>юго-восточный</td>\n",
       "      <td>спортивная</td>\n",
       "      <td>октябрьский</td>\n",
       "      <td>3186.00</td>\n",
       "      <td>0</td>\n",
       "      <td>22.82</td>\n",
       "    </tr>\n",
       "    <tr>\n",
       "      <th>956</th>\n",
       "      <td>101301</td>\n",
       "      <td>2023-04-22 23:58:44</td>\n",
       "      <td>2023-04-23 00:22:00</td>\n",
       "      <td>подгорная</td>\n",
       "      <td>ленинский</td>\n",
       "      <td>озерная</td>\n",
       "      <td>юго-восточный</td>\n",
       "      <td>4679.00</td>\n",
       "      <td>0</td>\n",
       "      <td>23.27</td>\n",
       "    </tr>\n",
       "  </tbody>\n",
       "</table>\n",
       "</div>"
      ],
      "text/plain": [
       "         id          start_date            end_date start_location  \\\n",
       "954  101299 2023-04-22 23:54:39 2023-04-23 00:23:58         дачная   \n",
       "955  101300 2023-04-22 23:58:02 2023-04-23 00:20:51       заречная   \n",
       "956  101301 2023-04-22 23:58:44 2023-04-23 00:22:00      подгорная   \n",
       "\n",
       "    start_district end_location   end_district   distance  promo  \\\n",
       "954    центральный      свободы      ленинский 4273850.00      0   \n",
       "955  юго-восточный   спортивная    октябрьский    3186.00      0   \n",
       "956      ленинский      озерная  юго-восточный    4679.00      0   \n",
       "\n",
       "     ride_duration  \n",
       "954          29.32  \n",
       "955          22.82  \n",
       "956          23.27  "
      ]
     },
     "execution_count": 51,
     "metadata": {},
     "output_type": "execute_result"
    }
   ],
   "source": [
    "df.iloc[954:957]"
   ]
  },
  {
   "cell_type": "markdown",
   "metadata": {},
   "source": [
    "##### ПОСЛЕ"
   ]
  },
  {
   "cell_type": "code",
   "execution_count": 52,
   "metadata": {},
   "outputs": [
    {
     "data": {
      "text/html": [
       "<div>\n",
       "<style scoped>\n",
       "    .dataframe tbody tr th:only-of-type {\n",
       "        vertical-align: middle;\n",
       "    }\n",
       "\n",
       "    .dataframe tbody tr th {\n",
       "        vertical-align: top;\n",
       "    }\n",
       "\n",
       "    .dataframe thead th {\n",
       "        text-align: right;\n",
       "    }\n",
       "</style>\n",
       "<table border=\"1\" class=\"dataframe\">\n",
       "  <thead>\n",
       "    <tr style=\"text-align: right;\">\n",
       "      <th></th>\n",
       "      <th>id</th>\n",
       "      <th>start_date</th>\n",
       "      <th>end_date</th>\n",
       "      <th>start_location</th>\n",
       "      <th>start_district</th>\n",
       "      <th>end_location</th>\n",
       "      <th>end_district</th>\n",
       "      <th>distance</th>\n",
       "      <th>promo</th>\n",
       "      <th>ride_duration</th>\n",
       "    </tr>\n",
       "  </thead>\n",
       "  <tbody>\n",
       "    <tr>\n",
       "      <th>954</th>\n",
       "      <td>101299</td>\n",
       "      <td>2023-04-22 23:54:39</td>\n",
       "      <td>2023-04-23 00:23:58</td>\n",
       "      <td>дачная</td>\n",
       "      <td>центральный</td>\n",
       "      <td>свободы</td>\n",
       "      <td>ленинский</td>\n",
       "      <td>4454</td>\n",
       "      <td>0</td>\n",
       "      <td>29.32</td>\n",
       "    </tr>\n",
       "    <tr>\n",
       "      <th>955</th>\n",
       "      <td>101300</td>\n",
       "      <td>2023-04-22 23:58:02</td>\n",
       "      <td>2023-04-23 00:20:51</td>\n",
       "      <td>заречная</td>\n",
       "      <td>юго-восточный</td>\n",
       "      <td>спортивная</td>\n",
       "      <td>октябрьский</td>\n",
       "      <td>3186</td>\n",
       "      <td>0</td>\n",
       "      <td>22.82</td>\n",
       "    </tr>\n",
       "    <tr>\n",
       "      <th>956</th>\n",
       "      <td>101301</td>\n",
       "      <td>2023-04-22 23:58:44</td>\n",
       "      <td>2023-04-23 00:22:00</td>\n",
       "      <td>подгорная</td>\n",
       "      <td>ленинский</td>\n",
       "      <td>озерная</td>\n",
       "      <td>юго-восточный</td>\n",
       "      <td>4679</td>\n",
       "      <td>0</td>\n",
       "      <td>23.27</td>\n",
       "    </tr>\n",
       "  </tbody>\n",
       "</table>\n",
       "</div>"
      ],
      "text/plain": [
       "         id          start_date            end_date start_location  \\\n",
       "954  101299 2023-04-22 23:54:39 2023-04-23 00:23:58         дачная   \n",
       "955  101300 2023-04-22 23:58:02 2023-04-23 00:20:51       заречная   \n",
       "956  101301 2023-04-22 23:58:44 2023-04-23 00:22:00      подгорная   \n",
       "\n",
       "    start_district end_location   end_district  distance  promo  ride_duration  \n",
       "954    центральный      свободы      ленинский      4454      0          29.32  \n",
       "955  юго-восточный   спортивная    октябрьский      3186      0          22.82  \n",
       "956      ленинский      озерная  юго-восточный      4679      0          23.27  "
      ]
     },
     "execution_count": 52,
     "metadata": {},
     "output_type": "execute_result"
    }
   ],
   "source": [
    "# Заменяем выбросы в соответствии с формулой\n",
    "df['distance'] = df['distance'].where(\n",
    "    (df['distance'] >= 10) & (df['distance'] <= 50000), \n",
    "    median_average_speed * (df['ride_duration'] / 60) * 1000\n",
    ").round().astype(int)\n",
    "\n",
    "df.iloc[954:957]"
   ]
  },
  {
   "cell_type": "markdown",
   "metadata": {},
   "source": [
    "#### Проверка работы"
   ]
  },
  {
   "cell_type": "code",
   "execution_count": 53,
   "metadata": {},
   "outputs": [
    {
     "data": {
      "text/html": [
       "<div>\n",
       "<style scoped>\n",
       "    .dataframe tbody tr th:only-of-type {\n",
       "        vertical-align: middle;\n",
       "    }\n",
       "\n",
       "    .dataframe tbody tr th {\n",
       "        vertical-align: top;\n",
       "    }\n",
       "\n",
       "    .dataframe thead th {\n",
       "        text-align: right;\n",
       "    }\n",
       "</style>\n",
       "<table border=\"1\" class=\"dataframe\">\n",
       "  <thead>\n",
       "    <tr style=\"text-align: right;\">\n",
       "      <th></th>\n",
       "      <th>id</th>\n",
       "      <th>start_date</th>\n",
       "      <th>end_date</th>\n",
       "      <th>distance</th>\n",
       "      <th>promo</th>\n",
       "    </tr>\n",
       "  </thead>\n",
       "  <tbody>\n",
       "    <tr>\n",
       "      <th>count</th>\n",
       "      <td>96638.00</td>\n",
       "      <td>96638</td>\n",
       "      <td>96638</td>\n",
       "      <td>96638.00</td>\n",
       "      <td>96638.00</td>\n",
       "    </tr>\n",
       "    <tr>\n",
       "      <th>mean</th>\n",
       "      <td>149020.97</td>\n",
       "      <td>2023-06-13 20:58:56.413264128</td>\n",
       "      <td>2023-06-13 21:25:26.435115264</td>\n",
       "      <td>3845.82</td>\n",
       "      <td>0.02</td>\n",
       "    </tr>\n",
       "    <tr>\n",
       "      <th>min</th>\n",
       "      <td>100340.00</td>\n",
       "      <td>2023-04-22 09:01:03</td>\n",
       "      <td>2023-04-22 09:24:45</td>\n",
       "      <td>1094.00</td>\n",
       "      <td>0.00</td>\n",
       "    </tr>\n",
       "    <tr>\n",
       "      <th>25%</th>\n",
       "      <td>124672.25</td>\n",
       "      <td>2023-05-20 21:32:31.750000128</td>\n",
       "      <td>2023-05-20 21:58:06</td>\n",
       "      <td>3119.00</td>\n",
       "      <td>0.00</td>\n",
       "    </tr>\n",
       "    <tr>\n",
       "      <th>50%</th>\n",
       "      <td>149018.50</td>\n",
       "      <td>2023-06-14 15:08:45</td>\n",
       "      <td>2023-06-14 15:37:43.500000</td>\n",
       "      <td>3743.00</td>\n",
       "      <td>0.00</td>\n",
       "    </tr>\n",
       "    <tr>\n",
       "      <th>75%</th>\n",
       "      <td>173376.75</td>\n",
       "      <td>2023-07-08 19:55:47.500000</td>\n",
       "      <td>2023-07-08 20:21:19.500000</td>\n",
       "      <td>4456.00</td>\n",
       "      <td>0.00</td>\n",
       "    </tr>\n",
       "    <tr>\n",
       "      <th>max</th>\n",
       "      <td>197711.00</td>\n",
       "      <td>2023-07-31 23:57:01</td>\n",
       "      <td>2023-08-01 00:42:12</td>\n",
       "      <td>12675.00</td>\n",
       "      <td>1.00</td>\n",
       "    </tr>\n",
       "    <tr>\n",
       "      <th>std</th>\n",
       "      <td>28113.79</td>\n",
       "      <td>NaN</td>\n",
       "      <td>NaN</td>\n",
       "      <td>1036.42</td>\n",
       "      <td>0.14</td>\n",
       "    </tr>\n",
       "  </tbody>\n",
       "</table>\n",
       "</div>"
      ],
      "text/plain": [
       "             id                     start_date                       end_date  \\\n",
       "count  96638.00                          96638                          96638   \n",
       "mean  149020.97  2023-06-13 20:58:56.413264128  2023-06-13 21:25:26.435115264   \n",
       "min   100340.00            2023-04-22 09:01:03            2023-04-22 09:24:45   \n",
       "25%   124672.25  2023-05-20 21:32:31.750000128            2023-05-20 21:58:06   \n",
       "50%   149018.50            2023-06-14 15:08:45     2023-06-14 15:37:43.500000   \n",
       "75%   173376.75     2023-07-08 19:55:47.500000     2023-07-08 20:21:19.500000   \n",
       "max   197711.00            2023-07-31 23:57:01            2023-08-01 00:42:12   \n",
       "std    28113.79                            NaN                            NaN   \n",
       "\n",
       "       distance    promo  \n",
       "count  96638.00 96638.00  \n",
       "mean    3845.82     0.02  \n",
       "min     1094.00     0.00  \n",
       "25%     3119.00     0.00  \n",
       "50%     3743.00     0.00  \n",
       "75%     4456.00     0.00  \n",
       "max    12675.00     1.00  \n",
       "std     1036.42     0.14  "
      ]
     },
     "execution_count": 53,
     "metadata": {},
     "output_type": "execute_result"
    }
   ],
   "source": [
    "# Удаляем теперь ненужные колонны таблицы\n",
    "df = df.drop(['ride_duration'], axis=1) \n",
    "\n",
    "df.describe()"
   ]
  },
  {
   "cell_type": "markdown",
   "metadata": {},
   "source": [
    "### Выгрузка новой таблицы"
   ]
  },
  {
   "cell_type": "code",
   "execution_count": 54,
   "metadata": {},
   "outputs": [],
   "source": [
    "# Приводим дистанцию к целочисленному типу\n",
    "df['distance'] = df['distance'].astype(int)\n",
    "\n",
    "df.to_csv('processed_rides.csv', index=False, date_format='%Y-%m-%d %H:%M:%S')"
   ]
  },
  {
   "cell_type": "markdown",
   "metadata": {},
   "source": [
    "## Объединение таблиц"
   ]
  },
  {
   "cell_type": "markdown",
   "metadata": {},
   "source": [
    "Для более удобного анализа данных стоит объединить имеющиеся таблицы"
   ]
  },
  {
   "cell_type": "code",
   "execution_count": 65,
   "metadata": {},
   "outputs": [],
   "source": [
    "rides_df = pd.read_csv('processed_rides.csv', parse_dates=['start_date', 'end_date'])\n",
    "weather_df = pd.read_csv('processed_weather.csv', parse_dates=['datetime']).drop(index=0, axis=1)\n",
    "\n",
    "rides_df['rounded_start_time'] = rides_df['start_date'].dt.round('h')\n",
    "\n",
    "\n",
    "merge_df = pd.merge_asof(\n",
    "    rides_df.sort_values('rounded_start_time'), \n",
    "    weather_df.sort_values('datetime'), \n",
    "    left_on='rounded_start_time', \n",
    "    right_on='datetime', \n",
    "    direction='backward'\n",
    ")\n",
    "\n",
    "merge_df = merge_df.drop('rounded_start_time', axis=1)\n",
    "\n",
    "merge_df.to_csv('rides_&_weather.csv', index=False)"
   ]
  },
  {
   "cell_type": "markdown",
   "metadata": {},
   "source": [
    "## Проведение расчетов и иссследований"
   ]
  },
  {
   "cell_type": "markdown",
   "metadata": {},
   "source": [
    "### 1. Расчет итоговой стоимости"
   ]
  },
  {
   "cell_type": "markdown",
   "metadata": {},
   "source": [
    "![alt text](image.png)"
   ]
  },
  {
   "cell_type": "code",
   "execution_count": null,
   "metadata": {},
   "outputs": [],
   "source": [
    "# тык-тык тут код"
   ]
  },
  {
   "cell_type": "markdown",
   "metadata": {},
   "source": [
    "### 2. Стимулирует ли акция спрос на самокаты?"
   ]
  },
  {
   "cell_type": "markdown",
   "metadata": {},
   "source": [
    ". . ."
   ]
  },
  {
   "cell_type": "markdown",
   "metadata": {},
   "source": [
    "## Проверка гипотез"
   ]
  },
  {
   "cell_type": "markdown",
   "metadata": {},
   "source": [
    "### 1. В дождливое время спрос на самокаты ниже."
   ]
  },
  {
   "cell_type": "markdown",
   "metadata": {},
   "source": [
    "H0: Спрос на самокаты <u>не зависит</u> от погодных условий\n",
    "\n",
    "H1: Спрос на самокаты <u>зависит</u> от погодных условий"
   ]
  },
  {
   "cell_type": "code",
   "execution_count": null,
   "metadata": {},
   "outputs": [],
   "source": [
    "# тут код с проверкой теории, и объяснением почему мы используем какие-то коэффиценты."
   ]
  }
 ],
 "metadata": {
  "kernelspec": {
   "display_name": "Python 3",
   "language": "python",
   "name": "python3"
  },
  "language_info": {
   "codemirror_mode": {
    "name": "ipython",
    "version": 3
   },
   "file_extension": ".py",
   "mimetype": "text/x-python",
   "name": "python",
   "nbconvert_exporter": "python",
   "pygments_lexer": "ipython3",
   "version": "3.12.4"
  }
 },
 "nbformat": 4,
 "nbformat_minor": 4
}
